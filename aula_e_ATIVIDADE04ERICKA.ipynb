{
  "nbformat": 4,
  "nbformat_minor": 0,
  "metadata": {
    "colab": {
      "name": "aula e ATIVIDADE04ERICKA.ipynb",
      "provenance": [],
      "authorship_tag": "ABX9TyParNMog/9q5S0sD7T629XX",
      "include_colab_link": true
    },
    "kernelspec": {
      "name": "python3",
      "display_name": "Python 3"
    },
    "language_info": {
      "name": "python"
    }
  },
  "cells": [
    {
      "cell_type": "markdown",
      "metadata": {
        "id": "view-in-github",
        "colab_type": "text"
      },
      "source": [
        "<a href=\"https://colab.research.google.com/github/erickaraiane/Programacao_20222/blob/main/aula_e_ATIVIDADE04ERICKA.ipynb\" target=\"_parent\"><img src=\"https://colab.research.google.com/assets/colab-badge.svg\" alt=\"Open In Colab\"/></a>"
      ]
    },
    {
      "cell_type": "code",
      "execution_count": null,
      "metadata": {
        "colab": {
          "base_uri": "https://localhost:8080/"
        },
        "id": "E9ja6muryFqE",
        "outputId": "67c2433c-4d9f-445f-fbbc-fcc9181d7165"
      },
      "outputs": [
        {
          "output_type": "stream",
          "name": "stdout",
          "text": [
            "0\n",
            "1\n",
            "2\n",
            "3\n",
            "4\n"
          ]
        }
      ],
      "source": [
        "for i in range (5):\n",
        "  print(i)"
      ]
    },
    {
      "cell_type": "code",
      "source": [
        "for i in range (5,0,-2):\n",
        "  print(i)"
      ],
      "metadata": {
        "colab": {
          "base_uri": "https://localhost:8080/"
        },
        "id": "I6l34mbBz517",
        "outputId": "a498c6a0-8b2d-42ee-ac28-7f650c27ab01"
      },
      "execution_count": null,
      "outputs": [
        {
          "output_type": "stream",
          "name": "stdout",
          "text": [
            "5\n",
            "3\n",
            "1\n"
          ]
        }
      ]
    },
    {
      "cell_type": "code",
      "source": [
        "linguagens = ['py','PH','power'] \n",
        "tamanho = len(linguagens) \n",
        "indices = range(tamanho)\n",
        "for i in indices:\n",
        "  print(linguagens)\n",
        "  print(tamanho)\n",
        "\n",
        "for key, value in enumerate (['p','P','P']):\n",
        "  print(value) \n",
        "\n",
        "for i, value in enumerate(linguagens):\n",
        "  print('linguagen'+value)\n"
      ],
      "metadata": {
        "colab": {
          "base_uri": "https://localhost:8080/"
        },
        "id": "a9QdUmDj0agi",
        "outputId": "1d5329d0-83b1-4a34-ecd4-4f581cd2415a"
      },
      "execution_count": null,
      "outputs": [
        {
          "output_type": "stream",
          "name": "stdout",
          "text": [
            "['py', 'PH', 'power']\n",
            "3\n",
            "['py', 'PH', 'power']\n",
            "3\n",
            "['py', 'PH', 'power']\n",
            "3\n",
            "p\n",
            "P\n",
            "P\n",
            "linguagenpy\n",
            "linguagenPH\n",
            "linguagenpower\n"
          ]
        }
      ]
    },
    {
      "cell_type": "code",
      "source": [
        "lm = ['pedro'',''joao'',''danilo']\n",
        "for name in lm: \n",
        "  print(name)"
      ],
      "metadata": {
        "colab": {
          "base_uri": "https://localhost:8080/"
        },
        "id": "JnBOhp2zkqyJ",
        "outputId": "89ab7138-7f7f-48cc-a582-230ed3c04a58"
      },
      "execution_count": null,
      "outputs": [
        {
          "output_type": "stream",
          "name": "stdout",
          "text": [
            "pedro,joao,danilo\n"
          ]
        }
      ]
    },
    {
      "cell_type": "code",
      "source": [
        " #EXERCÍCIO AULA 6 usando commit\n",
        "\n",
        "#Método de discriminação de estímulos auditivos para primatas através do condicionamento operante.\n",
        "varAnimalHab = str(input('o animal esta habituado?'))\n",
        "if(varAnimalHab == 'sim'):\n",
        "  print('iniciar coleta')\n",
        "if (varAnimalHab == 'nao'):\n",
        "  print('habituar animal')\n",
        "\n",
        "prox=str(input('o animal se aprixou 30 cm?'))\n",
        "if(prox=='sim'):\n",
        "  print('colocar 0,5 ml de recompensa')\n",
        "if(prox=='nao'):\n",
        "  print('nao recebe comida')\n",
        "quantasVezesTocou = int(input('quantas vezes o animal tocou na barra'))\n",
        "if(quantasVezesTocou>20):\n",
        "  print('passar proxima etapa')\n",
        "if(quantasVezesTocou<20):\n",
        "  print('nao avanca experimento')\n",
        "print('SOM1ACIONADO')\n",
        "barra=str(input('o animal tocou a barra direita ou barra esquerda'))\n",
        "if(barra=='direita'):\n",
        "  print('libera 0,5ml de alimento')\n",
        "if(barra=='esquerda'):\n",
        "  print('nao libera comida')\n",
        "print('SOM2ACIONADO')\n",
        "barra=str(input('o animal tocou a barra direita ou barra esquerda'))\n",
        "if(barra=='direita'):\n",
        "  print('libera 0,5ml de alimento')\n",
        "if(barra=='esquerda'):\n",
        "  print('nao libera comida')\n",
        "\n",
        "print('quantas vezes o animal tocou na barra?')\n",
        "\n",
        "contador = 0\n",
        "while contador <51:\n",
        "  print(contador)\n",
        "  contador=contador+1\n",
        "\n",
        "print('TEMPO DO EXPERIMENTO 30MIN')\n",
        "TempoExperimento=int(input('quantas vezes o animal tocou a barra em 30mi?'))\n",
        "if(TempoExperimento<=50):\n",
        "  print('coletar dados experimento')\n",
        "else:\n",
        "  print('seguir proxima fase')\n",
        "\n",
        "\n",
        "\n"
      ],
      "metadata": {
        "id": "TOd1_UQzj8sj",
        "colab": {
          "base_uri": "https://localhost:8080/"
        },
        "outputId": "6bcd665a-39fd-41c8-95c6-b7fa27cfa569"
      },
      "execution_count": null,
      "outputs": [
        {
          "output_type": "stream",
          "name": "stdout",
          "text": [
            "o animal esta habituado?sim\n",
            "iniciar coleta\n",
            "o animal se aprixou 30 cm?sim\n",
            "colocar 0,5 ml de recompensa\n",
            "quantas vezes o animal tocou na barra30\n",
            "passar proxima etapa\n",
            "SOM1ACIONADO\n",
            "o animal tocou a barra direita ou barra esquerdasim\n",
            "SOM2ACIONADO\n",
            "o animal tocou a barra direita ou barra esquerdasim\n",
            "quantas vezes o animal tocou na barra?\n",
            "0\n",
            "1\n",
            "2\n",
            "3\n",
            "4\n",
            "5\n",
            "6\n",
            "7\n",
            "8\n",
            "9\n",
            "10\n",
            "11\n",
            "12\n",
            "13\n",
            "14\n",
            "15\n",
            "16\n",
            "17\n",
            "18\n",
            "19\n",
            "20\n",
            "21\n",
            "22\n",
            "23\n",
            "24\n",
            "25\n",
            "26\n",
            "27\n",
            "28\n",
            "29\n",
            "30\n",
            "31\n",
            "32\n",
            "33\n",
            "34\n",
            "35\n",
            "36\n",
            "37\n",
            "38\n",
            "39\n",
            "40\n",
            "41\n",
            "42\n",
            "43\n",
            "44\n",
            "45\n",
            "46\n",
            "47\n",
            "48\n",
            "49\n",
            "50\n",
            "TEMPO DO EXPERIMENTO 30MIN\n",
            "quantas vezes o animal tocou a barra em 30mi?50\n",
            "coletar dados experimento\n"
          ]
        }
      ]
    }
  ]
}