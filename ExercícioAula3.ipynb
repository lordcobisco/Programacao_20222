{
  "nbformat": 4,
  "nbformat_minor": 0,
  "metadata": {
    "colab": {
      "name": "ExercícioAula3.ipynb",
      "provenance": [],
      "authorship_tag": "ABX9TyN3upihFos3r8QVodtCVlUA",
      "include_colab_link": true
    },
    "kernelspec": {
      "name": "python3",
      "display_name": "Python 3"
    },
    "language_info": {
      "name": "python"
    }
  },
  "cells": [
    {
      "cell_type": "markdown",
      "metadata": {
        "id": "view-in-github",
        "colab_type": "text"
      },
      "source": [
        "<a href=\"https://colab.research.google.com/github/akarolinealmeida/Programacao_20222/blob/akarolinealmeida/Exerc%C3%ADcioAula3.ipynb\" target=\"_parent\"><img src=\"https://colab.research.google.com/assets/colab-badge.svg\" alt=\"Open In Colab\"/></a>"
      ]
    },
    {
      "cell_type": "code",
      "execution_count": null,
      "metadata": {
        "id": "ZNdkCPiHhJJx"
      },
      "outputs": [],
      "source": [
        "#Exercício proposto - Aula 3\n",
        "#Índice de Massa corporal\n",
        "\n",
        "valuePeso = 45\n",
        "valueAltura = 1.54\n",
        "variávelX = True\n",
        "\n",
        "IMC = (peso)/(altura**2)\n",
        "\n",
        "print('Indivíduo muito abaixo do peso:', IMC<17)\n",
        "print('Indivíduo abaixo do peso normal:', IMC >= 17 and IMC <18.5)\n",
        "print('Indivíduo com peso dentro do normal:', IMC >= 18.5 and IMC < 25.0)\n",
        "print('Indivíduo acima do peso normal:', IMC >= 25 and IMC < 30)\n",
        "print('Indivíduo muito acima do peso:', IMC >= 30)\n",
        "\n",
        "print('Fim do cálculo do IMC.')\n",
        "print('Obrigada pelas informações.')"
      ]
    }
  ]
}