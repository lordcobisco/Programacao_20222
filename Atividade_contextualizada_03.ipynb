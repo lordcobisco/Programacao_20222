{
  "cells": [
    {
      "cell_type": "markdown",
      "metadata": {
        "id": "view-in-github",
        "colab_type": "text"
      },
      "source": [
        "<a href=\"https://colab.research.google.com/github/erickaraiane/Programacao_20222/blob/main/Atividade_contextualizada_03.ipynb\" target=\"_parent\"><img src=\"https://colab.research.google.com/assets/colab-badge.svg\" alt=\"Open In Colab\"/></a>"
      ]
    },
    {
      "cell_type": "code",
      "execution_count": null,
      "metadata": {
        "colab": {
          "base_uri": "https://localhost:8080/"
        },
        "id": "TCH0YRvPwW-S",
        "outputId": "745ac085-7af9-4de6-d891-b34bb726413e"
      },
      "outputs": [
        {
          "output_type": "stream",
          "name": "stdout",
          "text": [
            "esse programa tem como objetivo receber dados para configuração de um microscopio\n",
            "qual tipo de celulagg\n",
            "foi modificada o tipo de célula? True\n",
            "qual a resolução da imagem?g\n",
            "insira nova resulucao da imagem True\n",
            "qual iluminação desejada? g\n",
            "a iluminacao esta desejada? True\n",
            "O contraste do microscopio esta bom? (s ou n)g\n",
            "o contraste esta ajustado? True\n",
            "qual a voltagem do microscopio e adequada? (s ou n)fg\n",
            "a voltagem esta adequada? True\n",
            "O microscopio é digital? (s ou ng\n",
            "o microscopio e digital True\n",
            "Qual ano do equipamento?f\n",
            "Qual modelo?d\n",
            "Qual cor?d\n",
            "fim\n"
          ]
        }
      ],
      "source": [
        "#Atividade contextualizada 03\n",
        "tipocel='eucariontes'\n",
        "resolucao='32x32'\n",
        "faixa='200'\n",
        "Contraste='s'\n",
        "volts='220v'\n",
        "digital='s'\n",
        "tamanho='80 cm'\n",
        "ano='2000'\n",
        "modelo='eclipse'\n",
        "cor='preto'\n",
        "\n",
        "print('esse programa tem como objetivo receber dados para configuração de um microscopio')\n",
        "tipocel_2=input('qual tipo de celula')\n",
        "print(\"foi modificada o tipo de célula?\", tipocel!= tipocel_2)\n",
        "\n",
        "resolucao_2=input('qual a resolução da imagem?')\n",
        "print('insira nova resulucao da imagem', resolucao!= resolucao_2)\n",
        "\n",
        "faixa_2=input('qual iluminação desejada? ')\n",
        "print('a iluminacao esta desejada?', faixa!= faixa_2)\n",
        "\n",
        "contraste_2=input('O contraste do microscopio esta bom? (s ou n)')\n",
        "print('o contraste esta ajustado?', contraste!= contraste_2)\n",
        "\n",
        "volts_2=input('qual a voltagem do microscopio e adequada? (s ou n)f')\n",
        "print('a voltagem esta adequada?', volts!=volts_2)\n",
        "\n",
        "digital_2=input('O microscopio é digital? (s ou n')\n",
        "print('o microscopio e digital', digital !=digital_2)\n",
        "\n",
        "ano=input('Qual ano do equipamento?')\n",
        "print('qual o ano do equipamento?', ano!=ano_2 )\n",
        "\n",
        "modelo=input('Qual modelo?')\n",
        "print('qual modelo do microscopio?', modelo!= modelo_2)\n",
        "\n",
        "cor=input('Qual cor?')\n",
        "print('qual a cor do microscopio?', cor!= cor_2)\n",
        "\n",
        "print('fim')\n",
        "\n",
        "\n",
        "\n"
      ]
    },
    {
      "cell_type": "code",
      "execution_count": null,
      "metadata": {
        "id": "nPr3S2CA0900"
      },
      "outputs": [],
      "source": []
    }
  ],
  "metadata": {
    "colab": {
      "collapsed_sections": [],
      "name": "Atividade contextualizada 03",
      "provenance": [],
      "authorship_tag": "ABX9TyMYpu4jheRfw+ufHUhLab32",
      "include_colab_link": true
    },
    "kernelspec": {
      "display_name": "Python 3",
      "name": "python3"
    },
    "language_info": {
      "name": "python"
    }
  },
  "nbformat": 4,
  "nbformat_minor": 0
}