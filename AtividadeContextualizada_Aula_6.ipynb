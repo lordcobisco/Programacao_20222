{
  "cells": [
    {
      "cell_type": "markdown",
      "metadata": {
        "id": "view-in-github",
        "colab_type": "text"
      },
      "source": [
        "<a href=\"https://colab.research.google.com/github/alineroberta/Programacao_20222/blob/main/AtividadeContextualizada_Aula_6.ipynb\" target=\"_parent\"><img src=\"https://colab.research.google.com/assets/colab-badge.svg\" alt=\"Open In Colab\"/></a>"
      ]
    },
    {
      "cell_type": "markdown",
      "metadata": {
        "id": "t3yk2E5goJY2"
      },
      "source": [
        "# Atividade - Aula 6\n"
      ]
    },
    {
      "cell_type": "markdown",
      "metadata": {
        "id": "upSMBmEpmkQG"
      },
      "source": [
        "Desenvolva um programa em Python que automatize o procedimento cirúrgico apresentado, assumindo que:\n",
        "\n",
        "* As entradas (seja informações de máquina, posicionamentos a serem medidos etc.) serão traduzidas em inputs no programa.\n",
        "* O detalhamento das etapas é informado na tela para o usuário a cada passo do procedimento.\n",
        "* O programa deve conter estruturas de tomada de decisão (if-elif-else).\n",
        "* O programa deve conter estruturas de repetição (while-for).\n",
        "* O programa deve conter pelo menos 1 variável de cada tipo (lista, tupla e dicionário)\n",
        "\n",
        "\n"
      ]
    },
    {
      "cell_type": "markdown",
      "metadata": {
        "id": "XBxPBLibnEYe"
      },
      "source": [
        "**1. Procedimento de anestesia**\n",
        "\n",
        "> Pode-se utilizar uma diversidade de fármacos para anestesia os animais, dentre eles Ketamina e xilazina utilizados em conjunto, halotano (gasoso). Verificar a dosagem correta de acordo com o peso dos animais.\n",
        "\n"
      ]
    },
    {
      "cell_type": "code",
      "execution_count": null,
      "metadata": {
        "colab": {
          "background_save": true,
          "base_uri": "https://localhost:8080/"
        },
        "id": "W-_Jw0RsnVAu",
        "outputId": "ea13ebd3-40ae-485a-f501-2a14c24d823b"
      },
      "outputs": [
        {
          "name": "stdout",
          "output_type": "stream",
          "text": [
            "Lista de anestesias disponíveis:\n",
            "1 - ketamina e xilazina\n",
            "2 - halotano\n",
            "\n",
            "\n",
            "verifique se a dosagem está correta\n",
            "verifique se a dosagem está correta\n",
            "verifique se a dosagem está correta\n"
          ]
        }
      ],
      "source": [
        "print('Lista de anestesias disponíveis:')\n",
        "anestesias = ['1 - ketamina e xilazina', '2 - halotano']\n",
        "for lista_anestesias in anestesias:\n",
        "  print(lista_anestesias)\n",
        "print()\n",
        "anestesia_escolhida = int (input('qual anestesia será utlizada? 1=ketamina e xilazina, 2=halotano  '))\n",
        "while anestesia_escolhida >=3 or anestesia_escolhida <1:\n",
        "  print('valor inserido não corresponde às opções disponíveis')\n",
        "  anestesia_escolhida = int (input('qual anestesia será utlizada? 1=ketamina e xilazina, 2=halotano  '))\n",
        "print()\n",
        "dosagem_correta = int(input ('Verificou a dosagem correta de acordo com o peso do animal? 0=não, 1=sim'))\n",
        "\n",
        "while dosagem_correta !=1:\n",
        "  print ('verifique se a dosagem está correta')\n",
        "  dosagem_correta = int(input ('Verificou a dosagem correta de acordo com o peso do animal? 0=não, 1=sim'))\n",
        "print()\n",
        "print ('Pode passar para a próxima etapa')\n"
      ]
    },
    {
      "cell_type": "markdown",
      "metadata": {
        "id": "j1Ngg52hyg0R"
      },
      "source": [
        "**2. Posicionar o animal no estereotáxico e verificar a angulação da cabeça**\n",
        "\n",
        "> Depois do anestésico ter feito efeito, deve-se posicionar o animal no estereotáxico. As barras que suportam o peso do animal devem ser posicionadas no ouvido externo do animal. Normalmente o animal dá uma pequena piscada, devido ao estímulo da musculatura responsável por este movimento. Em seguida verificar a angulação da cabeça do animal, a qual deve estar sem diferenças de angulação entre o bregma e o lambda, para ter uma superfície de cirurgia plana.\n"
      ]
    },
    {
      "cell_type": "code",
      "execution_count": null,
      "metadata": {
        "colab": {
          "base_uri": "https://localhost:8080/"
        },
        "id": "qpHgic_Mywp6",
        "outputId": "dc4dbdc8-f931-4754-9a4f-5319d1c808f2"
      },
      "outputs": [
        {
          "name": "stdout",
          "output_type": "stream",
          "text": [
            "animal piscou? 1=sim, 0=não 1\n",
            "movimentação da barra:  False\n",
            "\n",
            "qual a angulação do bregma? 0\n",
            "qual a angulação do lambda? 1\n",
            "qual a angulação da cabeça? 2\n",
            "garanta a angulação correta para prosseguir (todos devem estar com o mesmo valor de angulação)\n",
            "qual a angulação do bregma? 0\n",
            "qual a angulação do lambda? 0\n",
            "qual a angulação da cabeça? 0\n",
            "\n",
            "superficie plana, pode prosseguir\n"
          ]
        }
      ],
      "source": [
        "piscada_animal = input('animal piscou? 1=sim, 0=não ')\n",
        "\n",
        "while piscada_animal == '0':\n",
        "  movimentação_da_barra = True\n",
        "  print('movimentação da barra: ', movimentação_da_barra)\n",
        "  piscada_animal = input('animal piscou? 1=sim, 0=não ')\n",
        "\n",
        "else:\n",
        "  movimentação_da_barra = False\n",
        "  print('movimentação da barra: ', movimentação_da_barra)\n",
        " \n",
        "print()\n",
        "angulação_bregma = input('qual a angulação do bregma? ')\n",
        "angulação_lambda = input('qual a angulação do lambda? ')\n",
        "angulação_cabeça = input ('qual a angulação da cabeça? ')\n",
        "\n",
        "while not angulação_bregma == angulação_lambda == angulação_cabeça:\n",
        "  print('garanta a angulação correta para prosseguir (todos devem estar com o mesmo valor de angulação)')\n",
        "  angulação_bregma = input('qual a angulação do bregma? ')\n",
        "  angulação_lambda = input('qual a angulação do lambda? ')\n",
        "  angulação_cabeça = input('qual a angulação da cabeça? ')\n",
        "print()\n",
        "print ('superficie plana, pode prosseguir')"
      ]
    },
    {
      "cell_type": "markdown",
      "metadata": {
        "id": "WXujpPHKxrhO"
      },
      "source": [
        "**3. Limpeza do campo de trabalho:**\n",
        "> Este procedimento requer o cumprimento de algumas etapas: Retirada da pelagem que recobre a parte superior da calota craniana, Retirada dos tecidos moles (epiderme, derme e tecido conjuntivo) até alcançar a parte óssea da caixa craniana. Por último e não menos importante deve-se limpar a calota craniana de qualquer resto de “pele” que esteja sobrando utilizando H2O2 10 volumes.\n",
        "\n",
        "\n",
        "\n",
        "\n"
      ]
    },
    {
      "cell_type": "code",
      "execution_count": null,
      "metadata": {
        "colab": {
          "base_uri": "https://localhost:8080/"
        },
        "id": "g6viopVYx3wt",
        "outputId": "5a662e66-58c7-4ded-864f-2bdff01ad225"
      },
      "outputs": [
        {
          "name": "stdout",
          "output_type": "stream",
          "text": [
            "Inicie a limpeza do campo de trabalho, vamos ao passo a passo:\n",
            "\n",
            "1. Retire a pelagem que recobre a parte superior da calota craniana.\n",
            "2. Retire os tecidos moles (epiderme, derme e tecido conjuntivo) até alcançar a parte óssea da caixa craniana\n",
            "3. Limpe a calota craniana de qualquer resto de “pele” que esteja sobrando utilizando H2O2 10 volumes\n",
            "\n",
            "finalizou o passo 1? s/n 1\n",
            "finalizou o passo 2? s/n0\n",
            "finalizou o passo 3? s/n0\n",
            "garanta que todos os passos foram realizados para dar continuidade\n",
            "finalizou o passo 1? s/n s\n",
            "finalizou o passo 2? s/n s\n",
            "finalizou o passo 3? s/n s\n",
            "processo de limpeza de campo finalizado!\n"
          ]
        }
      ],
      "source": [
        "print ('Inicie a limpeza do campo de trabalho, vamos ao passo a passo:')\n",
        "print()\n",
        "print ('1. Retire a pelagem que recobre a parte superior da calota craniana.')\n",
        "print ('2. Retire os tecidos moles (epiderme, derme e tecido conjuntivo) até alcançar a parte óssea da caixa craniana')\n",
        "print ('3. Limpe a calota craniana de qualquer resto de “pele” que esteja sobrando utilizando H2O2 10 volumes')\n",
        "print()\n",
        "retirar_pelagem = input ('finalizou o passo 1? s/n ')\n",
        "retirar_tecidos = input ('finalizou o passo 2? s/n')\n",
        "limpar_calota_craniana = input ('finalizou o passo 3? s/n')\n",
        "\n",
        "while retirar_pelagem != 's' or retirar_tecidos != 's' or limpar_calota_craniana !='s':\n",
        "  print ('garanta que todos os passos foram realizados para dar continuidade')\n",
        "  retirar_pelagem = input ('finalizou o passo 1? s/n ')\n",
        "  retirar_tecidos = input ('finalizou o passo 2? s/n ')\n",
        "  limpar_calota_craniana = input ('finalizou o passo 3? s/n ')\n",
        "print()\n",
        "print('processo de limpeza de campo finalizado!')"
      ]
    },
    {
      "cell_type": "markdown",
      "metadata": {
        "id": "jmDxCSU5rHRR"
      },
      "source": [
        "**4.  Aplicar poliacrilato**\n",
        "> Com o animal em posição e com o campo cirúrgico devidamente limpo, utiliza-se uma pequena camada de poliacrilato em todo o perímetro externo para evitar sangramentos.\n",
        "\n",
        "\n"
      ]
    },
    {
      "cell_type": "code",
      "execution_count": null,
      "metadata": {
        "colab": {
          "base_uri": "https://localhost:8080/"
        },
        "id": "E9plG41mrm3P",
        "outputId": "c53a0bc8-8c1e-4753-b7ac-81cf8bafc269"
      },
      "outputs": [
        {
          "name": "stdout",
          "output_type": "stream",
          "text": [
            "Aplique uma pequena camada de poliacrilato em todo o perímetro externo para evitar sangramentos\n"
          ]
        }
      ],
      "source": [
        "print ('Aplique uma pequena camada de poliacrilato em todo o perímetro externo para evitar sangramentos')"
      ]
    },
    {
      "cell_type": "markdown",
      "metadata": {
        "id": "IO9mRq-tq70p"
      },
      "source": [
        "**5. Escolher ponto para fixação dos parafusos**\n",
        "> Após este procedimento deve-se escolher um ponto para a fixação de parafusos, de preferência na parte posterior da calota craniana, pois a camada óssea é mais espessa e suporta uma maior profundidade do parafuso. \n",
        "\n",
        "> Obs: Cuidar para não aprofundar muito o parafuso. Com parafusos maiores deve-se dar até 3 voltas no parafuso.\n",
        "Posicionar a agulha (devidamente preparada para o tamanho da cânula e que servirá de suporte para a fixação das cânulas) sobre o bregma (ver figura acima). Fazer os cálculos de posicionamento AnteroPosterior (AP), LateroLateral (LL) e DorsoVentral (DV). Os valores utilizados para os cálculos são os valores encontrados nas réguas a partir do posicionamento da agulha.\n",
        ">> E. G.: Hipocampo (CA1): Valores hipotéticos para fins de cálculo.\n",
        "AP: 6,42 cm \n",
        "LL: 3,23 cm\n",
        "DV: 4,2 cm\n",
        "Isso significa que estes foram os valores encontrados em cada régua do estereotáxico e se subtrai ou soma a estes, os valores de cada estrutura ou núcleo. CA1: AP - 0,42 cm LL +/- 0,30 cm DV - 0,20 cm.\n",
        "AP: 6,42 cm – 0,42 = 6,00\n",
        "LL: 3,33 cm + 0,30 = 3,63 / - 0,30 = 3,03  (BILATERAL)\n",
        "DV: 4,20 cm – 0,20 = 4,00\n"
      ]
    },
    {
      "cell_type": "code",
      "execution_count": null,
      "metadata": {
        "colab": {
          "base_uri": "https://localhost:8080/"
        },
        "id": "6SKU4pjrsEfk",
        "outputId": "186e2ddb-d0ff-49ef-b4b5-d63a2fe31a91"
      },
      "outputs": [
        {
          "name": "stdout",
          "output_type": "stream",
          "text": [
            "escolha o ponto de fixaçao dos parafusos\n",
            "\n",
            "quantas voltas o parafuso deu? 3\n",
            "posicionamento correto\n",
            "\n",
            "agora vamos fazer o cálculo de posicionamento.\n",
            "os valores da régua do estereotáxico foram: \n",
            "- posicionamento anteroposterior:  6.42\n",
            "- posicionamento laterolateral:  3.33\n",
            "- posicionamento dorsoventral:  4.2\n",
            "qual estrutura você quer encontrar? 1=hipocampo, 0=outras1\n",
            "\n",
            "As coordenadas para a estrutura são: \n",
            "- posicionamento anteroposterior:  6.0\n",
            "- posicionamento laterolateral:  3.63 (direita) e 3.0300000000000002 (esquerda)\n",
            "- posicionamento dorsoventral:  4.0\n"
          ]
        }
      ],
      "source": [
        "print ('escolha o ponto de fixaçao dos parafusos')\n",
        "print()\n",
        "voltas_parafuso = int (input ('quantas voltas o parafuso deu? '))\n",
        "while voltas_parafuso < 3:\n",
        "  print ('continuar avançando parafuso')\n",
        "  voltas_parafuso = int (input ('quantas voltas o parafuso deu? '))\n",
        "if voltas_parafuso ==3:\n",
        "  print ('posicionamento correto')\n",
        "\n",
        "print()\n",
        "print ('agora vamos fazer o cálculo de posicionamento.')\n",
        "pos_AP = 6.42\n",
        "pos_LL = 3.33\n",
        "pos_DV = 4.2\n",
        "print ('os valores da régua do estereotáxico foram: ')\n",
        "print ('- posicionamento anteroposterior: ',pos_AP)\n",
        "print ('- posicionamento laterolateral: ',pos_LL)\n",
        "print ('- posicionamento dorsoventral: ',pos_DV)\n",
        "\n",
        "estrutura = int(input('qual estrutura você quer encontrar? 1=hipocampo, 0=outras'))  #resposta: hipocampo\n",
        "hipocampo_AP = 0.42 #fazer subtração\n",
        "hipocampo_LL= 0.30\n",
        "hipocampo_DV = 0.20\n",
        "\n",
        "if estrutura == 1:\n",
        "  pos_AP = pos_AP - hipocampo_AP\n",
        "  pos_LL_direita = pos_LL + hipocampo_LL\n",
        "  pos_LL_esquerda = pos_LL - hipocampo_LL\n",
        "  pos_DV = pos_DV - hipocampo_DV\n",
        "\n",
        "else:\n",
        "  print ('valor não computado, insira as coordenadas do ponto de interesse:')\n",
        "  outra_AP = float(input('anteroposterior: '))\n",
        "  outra_LL_direita = float(input('laterolateral esquerdo: '))\n",
        "  outra_LL_esquerda = float(input('laterolateral direito: '))\n",
        "  outra_DV = float(input('dorsoventral: '))\n",
        "  pos_AP = pos_AP - outra_AP \n",
        "  pos_LL_direita = pos_LL + outra_LL_direita\n",
        "  pos_LL_esquerda = pos_LL - outra_LL_esquerda \n",
        "  pos_DV = pos_DV - outra_DV\n",
        "print()\n",
        "print ('As coordenadas para a estrutura são: ')\n",
        "print ('- posicionamento anteroposterior: ',pos_AP)\n",
        "print ('- posicionamento laterolateral: ',pos_LL_direita, '(direita) e', pos_LL_esquerda, '(esquerda)')\n",
        "print ('- posicionamento dorsoventral: ',pos_DV)"
      ]
    },
    {
      "cell_type": "markdown",
      "metadata": {
        "id": "vp5Uq9TyDCWb"
      },
      "source": [
        "**VI.\tLocalizar os pontos de inserção das cânulas-guia**\n",
        "> Após estes cálculos feitos é hora de localizar os pontos de inserção das cânulas-guia. Assim que estes pontos forem localizados é necessário fazer furos para a introdução das cânulas-guia. A localização destes pontos deve ser definida pelos valores encontrados nos cálculos AnteroPosterior (6,00) e LateroLateral (3,63 e 3,03). Deve-se escolher qual dos hemisférios vai ser colocada a primeira cânula, daí os dois valores para as medidas LL."
      ]
    },
    {
      "cell_type": "code",
      "execution_count": null,
      "metadata": {
        "colab": {
          "base_uri": "https://localhost:8080/"
        },
        "id": "DH_CIMKHtNr8",
        "outputId": "7e24ba3e-943c-44dc-8168-24763123cc8d"
      },
      "outputs": [
        {
          "name": "stdout",
          "output_type": "stream",
          "text": [
            "Escolha o hemisfério para inserir a cânula: 1=direto 0=esquerdo3\n",
            "opção incorreta, tente novamente\n",
            "Escolha o hemisfério para inserir a cânula: 1=direito 0=esquerdo1\n",
            "inserir cânula no posicionamento (direito): 3.63\n",
            "\n",
            "Cânula posicionada!\n"
          ]
        }
      ],
      "source": [
        "hemisferio_canula = int(input('Escolha o hemisfério para inserir a cânula: 1=direto 0=esquerdo'))\n",
        "\n",
        "while not hemisferio_canula <=1:\n",
        "  print ('opção incorreta, tente novamente')\n",
        "  hemisferio_canula = int(input('Escolha o hemisfério para inserir a cânula: 1=direito 0=esquerdo'))\n",
        "\n",
        "if hemisferio_canula == 1:\n",
        "  print('inserir cânula no posicionamento (direito):',pos_LL_direita)\n",
        "elif hemisferio_canula == 0:\n",
        "  print('inserir cânula no posicionamento (esquerdo):',pos_LL_esquerda)\n",
        "print()\n",
        "print ('Cânula posicionada!')"
      ]
    },
    {
      "cell_type": "markdown",
      "metadata": {
        "id": "um15bVcWMzfn"
      },
      "source": [
        "**VII. Fazer um furo com a broca**\n",
        ">Depois de posicionar a agulha, fazer um furo com a broca até alcançar as meninges. A não perfuração das meninges é o procedimento ideal, e para conseguir isso apoie a mão que segura a broca contra o assoalho ou ao estereotáxico e perfure o crânio a +- 45° de angulação."
      ]
    },
    {
      "cell_type": "code",
      "execution_count": null,
      "metadata": {
        "colab": {
          "base_uri": "https://localhost:8080/"
        },
        "id": "_EeBU5U83S9h",
        "outputId": "76c67b0d-2b71-4459-b53d-e70708bfb5a6"
      },
      "outputs": [
        {
          "name": "stdout",
          "output_type": "stream",
          "text": [
            "Agora faça um furo com a broca até alcançar as meninges\n",
            "qual a angulação da perfuração? 45\n",
            "Angulação adequada, pode iniciar tarefa\n"
          ]
        }
      ],
      "source": [
        "print('Agora faça um furo com a broca até alcançar as meninges')\n",
        "\n",
        "angulação_para_furo = int(input('qual a angulação da perfuração? '))\n",
        "\n",
        "while angulação_para_furo <43 or angulação_para_furo >47:\n",
        "  print ('angulação deve ser +- 45° para melhores resultados, continue tentando')\n",
        "  angulação_para_furo = int(input('qual a angulação da perfuração? '))\n",
        "\n",
        "if angulação_para_furo >=43 and angulação_para_furo <=47:\n",
        "  print ('Angulação adequada, pode iniciar tarefa')"
      ]
    },
    {
      "cell_type": "markdown",
      "metadata": {
        "id": "AtLKpgf1M6yO"
      },
      "source": [
        "**VIII.\tIntroduzir a cânula-guia**\n",
        "> Após ter atingido este objetivo, introduza a cânula-guia previamente confeccionada até o valor DorsoVentral (4,00) que foi calculado anteriormente."
      ]
    },
    {
      "cell_type": "code",
      "execution_count": null,
      "metadata": {
        "colab": {
          "base_uri": "https://localhost:8080/"
        },
        "id": "T1PXgAbZD0vx",
        "outputId": "70a8534f-8785-4a31-fa58-304223ec71fa"
      },
      "outputs": [
        {
          "name": "stdout",
          "output_type": "stream",
          "text": [
            "a distância para a região DV é de:  0.9699999999999998\n",
            "\n",
            "leve a cânula até a regiao dorsoventral.\n",
            "cânula chegou no local adequado?  não - 1/2 - sim 9\n",
            "opção inválida, tente novamente\n",
            "cânula chegou no local adequado?  não - 1/2 - sim 1\n",
            "continue proximando a cânula\n",
            "cânula chegou no local adequado?  não - 1/2 - sim 2\n",
            "posicionamento correto!\n"
          ]
        }
      ],
      "source": [
        "if hemisferio_canula == 0:\n",
        "  condução_cânula = pos_DV - pos_LL_direita\n",
        "  print ('a distância para a região DV é de: ', condução_cânula)\n",
        "elif hemisferio_canula ==1:\n",
        "  condução_cânula = pos_DV - pos_LL_esquerda\n",
        "  print ('a distância para a região DV é de: ', condução_cânula)\n",
        "\n",
        "print()\n",
        "print ('leve a cânula até a regiao dorsoventral.')\n",
        "cânula_guia_finalizada = int(input ('cânula chegou no local adequado?  não - 1/2 - sim '))\n",
        "while cânula_guia_finalizada <1 or cânula_guia_finalizada >2:\n",
        "  print ('opção inválida, tente novamente')\n",
        "  cânula_guia_finalizada = int(input ('cânula chegou no local adequado?  não - 1/2 - sim '))\n",
        "while cânula_guia_finalizada == 1:\n",
        "  print ('continue proximando a cânula')\n",
        "  cânula_guia_finalizada = int(input ('cânula chegou no local adequado?  não - 1/2 - sim '))\n",
        "print()\n",
        "print('posicionamento correto!')\n"
      ]
    },
    {
      "cell_type": "markdown",
      "metadata": {
        "id": "ME3HO5W9M_pB"
      },
      "source": [
        "**IX.\tDrenagem de LCR**\n",
        ">Logo após drenar qualquer sangue ou líquido cefalorraquidiano que esteja saindo pelo orifício criado no crânio. Para isso utilize pequenos rolos de papel absorvente."
      ]
    },
    {
      "cell_type": "code",
      "execution_count": null,
      "metadata": {
        "colab": {
          "base_uri": "https://localhost:8080/"
        },
        "id": "9_Ku9BByD1LC",
        "outputId": "5ab22ea1-36f0-43ea-f746-f5bf785165f3"
      },
      "outputs": [
        {
          "name": "stdout",
          "output_type": "stream",
          "text": [
            "drenar qualquer sangue ou líquido cefalorraquidiano que esteja saindo pelo orifício criado no crânio\n",
            "liberar papel =  True\n"
          ]
        }
      ],
      "source": [
        "print ('drenar qualquer sangue ou líquido cefalorraquidiano que esteja saindo pelo orifício criado no crânio')\n",
        "liberar_papel = True\n",
        "print ('liberar papel = ', liberar_papel)"
      ]
    },
    {
      "cell_type": "markdown",
      "metadata": {
        "id": "_syUegm6NCxy"
      },
      "source": [
        "**X. Fazer um capacete**\n",
        "> Faça uma mistura do acrílico polimerizante com o solvente até ficar com textura espessa porém maleável (o ideal é que a mistura seja capaz de cobrir a parte desejada sem escorrer por todo o crânio). Com essa mistura faça um capacete abrangendo o crânio, a cânula-guia e o parafuso. Deixe secar até ficar suficientemente rígido. O tempo de secagem varia de acordo com a temperatura e umidade da sala. "
      ]
    },
    {
      "cell_type": "code",
      "execution_count": null,
      "metadata": {
        "colab": {
          "base_uri": "https://localhost:8080/"
        },
        "id": "Dkk35I72D1lS",
        "outputId": "3b1a9509-7ebb-44cc-d855-a61f514afd12"
      },
      "outputs": [
        {
          "name": "stdout",
          "output_type": "stream",
          "text": [
            "Agora faça uma mistura do acrílico polimerizante com o solvente até ficar com textura espessa porém maleável\n",
            "mistura com acrílico finalizada e com textura adequada? 0=não 1=sim 3\n",
            "mistura ainda não está pronta. Espere mais um pouco\n",
            "mistura com acrílico finalizada e com textura adequada? 0=não 1=sim 1\n",
            "mistura pronta. Pode seguir para a próxima etapa\n",
            "\n",
            "\n",
            "\n",
            "Com essa mistura faça um capacete abrangendo o crânio, a cânula-guia e o parafuso\n",
            "Deixe secar até ficar suficientemente rígido\n",
            "tempo (em minutos):  0\n",
            "tempo (em minutos):  1\n",
            "tempo (em minutos):  2\n",
            "tempo (em minutos):  3\n",
            "tempo (em minutos):  4\n",
            "tempo (em minutos):  5\n",
            "tempo (em minutos):  6\n",
            "tempo (em minutos):  7\n",
            "tempo (em minutos):  8\n",
            "tempo (em minutos):  9\n",
            "tempo (em minutos):  10\n",
            "tempo (em minutos):  11\n",
            "tempo (em minutos):  12\n",
            "o material secou? s/nn\n",
            "espere secar mais um pouco\n",
            "tempo (em minutos):  0\n",
            "tempo (em minutos):  1\n",
            "tempo (em minutos):  2\n",
            "tempo (em minutos):  3\n",
            "tempo (em minutos):  4\n",
            "tempo (em minutos):  5\n",
            "o material secou? s/ns\n",
            "\n",
            "\n",
            "tudo OK. Siga para a próxima etapa\n"
          ]
        }
      ],
      "source": [
        "print ('Agora faça uma mistura do acrílico polimerizante com o solvente até ficar com textura espessa porém maleável')\n",
        "mistura_acrílico = int (input ('mistura com acrílico finalizada e com textura adequada? 0=não 1=sim '))\n",
        "while mistura_acrílico != 1:\n",
        "  print ('mistura ainda não está pronta. Espere mais um pouco')\n",
        "  mistura_acrílico = int (input ('mistura com acrílico finalizada e com textura adequada? 0=não 1=sim '))\n",
        "print ('mistura pronta. Pode seguir para a próxima etapa')\n",
        "print()\n",
        "print()\n",
        "print()\n",
        "print('Com essa mistura faça um capacete abrangendo o crânio, a cânula-guia e o parafuso')\n",
        "print ('Deixe secar até ficar suficientemente rígido')\n",
        "for minutos in range(13):\n",
        "  print ('tempo (em minutos): ', minutos)\n",
        "\n",
        "material_seco = input ('o material secou? s/n')\n",
        "while material_seco == 'n':\n",
        "  print ('espere secar mais um pouco')\n",
        "  for minutos in range(6):\n",
        "    print ('tempo (em minutos): ', minutos)\n",
        "  material_seco = input ('o material secou? s/n')\n",
        "print()\n",
        "print()\n",
        "print ('tudo OK. Siga para a próxima etapa')"
      ]
    },
    {
      "cell_type": "markdown",
      "metadata": {
        "id": "cmryTs2cNGdM"
      },
      "source": [
        "**XI.\tFixação da outra cânula-guia**\n",
        "> O próximo passo é a fixação da outra cânula-guia. Deve-se levantar levemente o braço do estereotáxico cuidando para que a cânula-guia previamente fixada não se movimente. Logo após, posicionar a agulha sobre o outro ponto de inserção da cânula-guia. Introduzir a cânula-guia até o valor DV (4,00) calculado previamente."
      ]
    },
    {
      "cell_type": "code",
      "execution_count": null,
      "metadata": {
        "colab": {
          "base_uri": "https://localhost:8080/"
        },
        "id": "KJFyIRgUD2Mi",
        "outputId": "47a759bc-42bd-49fd-f0c9-271d7f38638a"
      },
      "outputs": [
        {
          "name": "stdout",
          "output_type": "stream",
          "text": [
            "leve a cânula até a regiao dorsoventral.\n",
            "cânula chegou no local adequado?  não - 1/2 - sim 1\n",
            "continue proximando a cânula\n",
            "cânula chegou no local adequado?  não - 1/2 - sim 2\n",
            "posicionamento correto!\n"
          ]
        }
      ],
      "source": [
        "print ('leve a cânula até a regiao dorsoventral.')\n",
        "cânula_2 = int(input ('cânula chegou no local adequado?  não - 1/2 - sim '))\n",
        "while cânula_2 == 1:\n",
        "  print ('continue proximando a cânula')\n",
        "  cânula_2 = int(input ('cânula chegou no local adequado?  não - 1/2 - sim '))\n",
        "if cânula_2 == 2:\n",
        "  print('posicionamento correto!')"
      ]
    },
    {
      "cell_type": "markdown",
      "metadata": {
        "id": "NyQ_MP_2NKP6"
      },
      "source": [
        "XII.\tSeguir novamente a descrição do item 9 e após fixar a cânula conforme item 10. De preferência espalhar o cimento sobre a maior área do crânio, sempre deixando um espaço entre o capacete e o início da área tecidual. Este cuidado previne de um futuro descolamento do capacete devido a entrada de sangue u outro líquido entre o capacete e o crânio."
      ]
    },
    {
      "cell_type": "code",
      "execution_count": null,
      "metadata": {
        "colab": {
          "base_uri": "https://localhost:8080/"
        },
        "id": "R6n8FhzoD2uZ",
        "outputId": "422851f8-05d9-448f-fc73-bf10e614c12c"
      },
      "outputs": [
        {
          "name": "stdout",
          "output_type": "stream",
          "text": [
            "drenar qualquer sangue ou líquido cefalorraquidiano que esteja saindo pelo orifício criado no crânio\n",
            "liberar papel =  True\n",
            "\n",
            "\n",
            "\n",
            "Agora faça uma mistura do acrílico polimerizante com o solvente até ficar com textura espessa porém maleável\n",
            "mistura com acrílico finalizada e com textura adequada? 0=não 1=sim 0\n",
            "mistura ainda não está pronta. Espere mais um pouco\n",
            "mistura com acrílico finalizada e com textura adequada? 0=não 1=sim 1\n",
            "mistura pronta. Pode seguir para a próxima etapa\n",
            "\n",
            "\n",
            "\n",
            "Com essa mistura faça um capacete abrangendo o crânio, a cânula-guia e o parafuso\n",
            "Deixe secar até ficar suficientemente rígido\n",
            "tempo (em minutos):  0\n",
            "tempo (em minutos):  1\n",
            "tempo (em minutos):  2\n",
            "tempo (em minutos):  3\n",
            "tempo (em minutos):  4\n",
            "tempo (em minutos):  5\n",
            "tempo (em minutos):  6\n",
            "tempo (em minutos):  7\n",
            "tempo (em minutos):  8\n",
            "tempo (em minutos):  9\n",
            "tempo (em minutos):  10\n",
            "tempo (em minutos):  11\n",
            "tempo (em minutos):  12\n",
            "o material secou? s/nn\n",
            "espere secar mais um pouco\n",
            "tempo (em minutos):  0\n",
            "tempo (em minutos):  1\n",
            "tempo (em minutos):  2\n",
            "tempo (em minutos):  3\n",
            "tempo (em minutos):  4\n",
            "tempo (em minutos):  5\n",
            "o material secou? s/ns\n",
            "\n",
            "\n",
            "tudo OK. Siga para a próxima etapa\n"
          ]
        }
      ],
      "source": [
        "print ('drenar qualquer sangue ou líquido cefalorraquidiano que esteja saindo pelo orifício criado no crânio')\n",
        "liberar_papel = True\n",
        "print ('liberar papel = ', liberar_papel)\n",
        "\n",
        "print()\n",
        "print()\n",
        "print()\n",
        "\n",
        "print ('Agora faça uma mistura do acrílico polimerizante com o solvente até ficar com textura espessa porém maleável')\n",
        "mistura_acrílico = int (input ('mistura com acrílico finalizada e com textura adequada? 0=não 1=sim '))\n",
        "while mistura_acrílico != 1:\n",
        "  print ('mistura ainda não está pronta. Espere mais um pouco')\n",
        "  mistura_acrílico = int (input ('mistura com acrílico finalizada e com textura adequada? 0=não 1=sim '))\n",
        "print ('mistura pronta. Pode seguir para a próxima etapa')\n",
        "print()\n",
        "print()\n",
        "print()\n",
        "print('Com essa mistura faça um capacete abrangendo o crânio, a cânula-guia e o parafuso')\n",
        "print ('Deixe secar até ficar suficientemente rígido')\n",
        "for minutos in range(13):\n",
        "  print ('tempo (em minutos): ', minutos)\n",
        "\n",
        "material_seco = input ('o material secou? s/n')\n",
        "while material_seco == 'n':\n",
        "  print ('espere secar mais um pouco')\n",
        "  for minutos in range(6):\n",
        "    print ('tempo (em minutos): ', minutos)\n",
        "  material_seco = input ('o material secou? s/n')\n",
        "print()\n",
        "print()\n",
        "print ('tudo OK. Siga para a próxima etapa')"
      ]
    },
    {
      "cell_type": "markdown",
      "metadata": {
        "id": "SyEfgNilNNOb"
      },
      "source": [
        "XIII.\tLevantar bem devagar seguindo as instruções do item contida no item 11. Acomodar o animal em uma caixa aquecida por uma lâmpada e sem outros animais acordados. Assim que o animal despertar colocá-lo de volta a sua caixa-moradia."
      ]
    },
    {
      "cell_type": "code",
      "execution_count": null,
      "metadata": {
        "colab": {
          "base_uri": "https://localhost:8080/"
        },
        "id": "76FIxTMSMyuW",
        "outputId": "6bf93a90-74f7-4ff6-d632-d612e78e2880"
      },
      "outputs": [
        {
          "name": "stdout",
          "output_type": "stream",
          "text": [
            "levante levemente o braço do estereotáxico com cuidando para que a cânula-guia não se movimente\n",
            "\n",
            "Acomodar o animal em uma caixa aquecida por uma lâmpada e sem outros animais acordados\n",
            "\n",
            "o animal cordou? s=1 0=n 0\n",
            "espere o animal acordar\n",
            "o animal cordou? s=1 0=n 5\n",
            "espere o animal acordar\n",
            "o animal cordou? s=1 0=n 1\n",
            "coloque o animal de volta a sua caixa-moradia\n",
            "\n",
            "\n",
            "fim do procedimento\n"
          ]
        }
      ],
      "source": [
        "print ('levante levemente o braço do estereotáxico com cuidando para que a cânula-guia não se movimente')\n",
        "print()\n",
        "print ('Acomodar o animal em uma caixa aquecida por uma lâmpada e sem outros animais acordados')\n",
        "print ()\n",
        "animal_acordou = int (int(input ('o animal cordou? s=1 0=n ')))\n",
        "\n",
        "while animal_acordou != 1:\n",
        "  print ('espere o animal acordar')\n",
        "  animal_acordou = int(input ('o animal cordou? s=1 0=n '))\n",
        "print ('coloque o animal de volta a sua caixa-moradia')\n",
        "print()\n",
        "print()\n",
        "print('fim do procedimento')"
      ]
    }
  ],
  "metadata": {
    "colab": {
      "collapsed_sections": [],
      "provenance": [],
      "authorship_tag": "ABX9TyNyZbtaTsY0jElEjYKPewkf",
      "include_colab_link": true
    },
    "kernelspec": {
      "display_name": "Python 3",
      "name": "python3"
    },
    "language_info": {
      "name": "python"
    }
  },
  "nbformat": 4,
  "nbformat_minor": 0
}