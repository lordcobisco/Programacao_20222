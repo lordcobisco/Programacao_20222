{
  "nbformat": 4,
  "nbformat_minor": 0,
  "metadata": {
    "colab": {
      "name": "AtividadeContextualizadaAula5.ipynb",
      "provenance": [],
      "authorship_tag": "ABX9TyO7DmfRVFyIUXBKikzov8a2",
      "include_colab_link": true
    },
    "kernelspec": {
      "name": "python3",
      "display_name": "Python 3"
    },
    "language_info": {
      "name": "python"
    }
  },
  "cells": [
    {
      "cell_type": "markdown",
      "metadata": {
        "id": "view-in-github",
        "colab_type": "text"
      },
      "source": [
        "<a href=\"https://colab.research.google.com/github/akarolinealmeida/Programacao_20222/blob/akarolinealmeida/AtividadeContextualizadaAula5.ipynb\" target=\"_parent\"><img src=\"https://colab.research.google.com/assets/colab-badge.svg\" alt=\"Open In Colab\"/></a>"
      ]
    },
    {
      "cell_type": "code",
      "execution_count": null,
      "metadata": {
        "id": "JtuVrHQm5ViW"
      },
      "outputs": [],
      "source": [
        "#Atividade Contextualizada - Aula 5\n",
        "#Dados de Covid (com tuplas, dicionários e listas)\n",
        "\n",
        "  #a. Crie uma lista e uma tupla com as informações disponíveis no documento csv\n",
        "  #Coloque pelo menos 1 linha por estado e 10 regiões de saúde diferentes\n",
        "\n",
        "#Lista - estados e regiões de saúde\n",
        "  #Listas por estado - dados agrupados por estado\n",
        "LRondonia = ['Rondonia', '1777225', '48923', '1026', '691', '9']\n",
        "LAcre = ['Acre','881935', '22933', '590', '328', '8']\n",
        "LRoraima = ['Roraima', '605761', '40183', '574', '518', '6']\n",
        "LTocantins = ['Tocantins', '1572866', '38845','531', '989', '15']\n",
        "LPiaui = ['Piaui', '3273227','67226','1637','911','18']\n",
        "LRioGrandedoNorte = ['Rio Grande do Norte','3506853','58307','2102','409','21']\n",
        "LParaiba = ['Paraiba','4018127','9557071','2203','1274','20']\n",
        "LPernambuco = ['Pernambuco','2298696','68699','1729','386','12']\n",
        "LRiodeJaneiro = ['Rio de Janeiro','17264943','199480','14728','4829','162']\n",
        "  #Listas com dados agrupados gerais\n",
        "LEstados = ['Rondonia','Acre','Roraima','Tocantins','Piaui','Rio Grande do Norte','Paraiba','Pernambuco','Sergipe', 'Rio de Janeiro']\n",
        "LPopulacao = [1777225,881935,605761,1572866,3273227,3506853,4018127,9557071,2298696,17264943]\n",
        "LCasosAC = [48923,22933,40183,38845,67226,58307,97497,113788,68699,199480]\n",
        "LObitosAC = [1026,590,574,531,1637,2102,2203,7252,1729,14728]\n",
        "LCasosN = [691,328,518,989,911,409,1274,605,386,4829]\n",
        "LObitosN = [9,8,6,15,18,21,20,42,12,162]\n",
        "LRegioesSaude = ['ZONA DA MATA','VALE DO JAMARI','BAIXO ACRE E PURUS','ALTO ACRE','CENTRO NORTE','SUL','CANTAO','BICO DO PAPAGAIO','VALE DO RIO GUARIBAS','ENTRE RIOS','CAICO','ACU','1 REGIÃO','3 REGIÃO','PETROLINA','CARUARU','ARACAJU','ESTANCIA']\n",
        "\n",
        "\n",
        "#Tuplas -  estados e regiões de saúde\n",
        "    #Tuplas por estado - dados agrupados por estado\n",
        "TRondonia = ('Rondonia', '1777225', '48923', '1026', '691', '9')\n",
        "TAcre = ('Acre','881935', '22933', '590', '328', '8')\n",
        "TRoraima = ('Roraima', '605761', '40183', '574', '518', '6')\n",
        "TTocantins = ('Tocantins', '1572866', '38845','531', '989', '15')\n",
        "TPiaui = ('Piaui', '3273227','67226','1637','911','18')\n",
        "TRioGrandedoNorte = ('Rio Grande do Norte','3506853','58307','2102','409','21')\n",
        "TParaiba = ('Paraiba','4018127','9557071','2203','1274','20')\n",
        "TPernambuco = ('Pernambuco','2298696','68699','1729','386','12')\n",
        "TRiodeJaneiro = ('Rio de Janeiro','17264943','199480','14728','4829','162')\n",
        "    #Tuplas com dados agrupados gerais\n",
        "TEstados = ('Rondonia','Acre','Roraima','Tocantins','Piaui','Rio Grande do Norte','Paraiba','Pernambuco','Sergipe', 'Rio de Janeiro')\n",
        "TPopulacao = (1777225,881935,605761,1572866,3273227,3506853,4018127,9557071,2298696,17264943)\n",
        "TCasosAC = (48923,22933,40183,38845,67226,58307,97497,113788,68699,199480)\n",
        "TObitosAC = (1026,590,574,531,1637,2102,2203,7252,1729,14728)\n",
        "TCasosN = (691,328,518,989,911,409,1274,605,386,4829)\n",
        "TObitosN = (9,8,6,15,18,21,20,42,12,162)\n",
        "TRegioesSaude = ('ZONA DA MATA','VALE DO JAMARI','BAIXO ACRE E PURUS','ALTO ACRE','CENTRO NORTE','SUL','CANTAO','BICO DO PAPAGAIO','VALE DO RIO GUARIBAS','ENTRE RIOS','CAICO','ACU','1 REGIÃO','3 REGIÃO','PETROLINA','CARUARU','ARACAJU','ESTANCIA')\n",
        "\n",
        "\n",
        "listaCOVID = [LEstados, LPopulacao, LCasosAC, LObitosAC, LCasosN, LObitosN, LRegioesSaude]\n",
        "print(listaCOVID)\n",
        "\n",
        "tuplaCOVID = (TEstados, TPopulacao, TCasosAC, TObitosAC, TCasosN, TObitosN, TRegioesSaude)\n",
        "print(tuplaCOVID)\n",
        "\n",
        "# for a,b in zip(LEstados,LCasosAC):\n",
        "#   print(a,b)"
      ]
    },
    {
      "cell_type": "code",
      "source": [
        "  #b. Mande printar na tela o número de casos acumulados para o estado do rio de janeiro tanto para a tupla quanto para a lista.\n",
        "\n",
        "LEstados.index('Rio de Janeiro') #9\n",
        "print('Número de casos acumulados no RJ (em lista):', LCasosAC[9])\n",
        "print('Número de casos acumulados no RJ (em tupla):', TCasosAC[9])"
      ],
      "metadata": {
        "id": "hD_r9WwDBL5k"
      },
      "execution_count": null,
      "outputs": []
    },
    {
      "cell_type": "code",
      "source": [
        "  #c. Apresente na tela todos os óbitos acumulados mostrando os casos apenas para o caso dos estados (sem mostrar regiões de saúde, etc..)\n",
        "print('O numero de obitos acumulados para cada estado é:')\n",
        "print(listaCOVID[0][0], listaCOVID[3][0])\n",
        "print(listaCOVID[0][1], listaCOVID[3][1])\n",
        "print(listaCOVID[0][2], listaCOVID[3][2])\n",
        "print(listaCOVID[0][3], listaCOVID[3][3])\n",
        "print(listaCOVID[0][4], listaCOVID[3][4])\n",
        "print(listaCOVID[0][5], listaCOVID[3][5])\n",
        "print(listaCOVID[0][6], listaCOVID[3][6])\n",
        "print(listaCOVID[0][7], listaCOVID[3][7])\n",
        "print(listaCOVID[0][8], listaCOVID[3][8])\n",
        "print(listaCOVID[0][9], listaCOVID[3][9])\n"
      ],
      "metadata": {
        "id": "zCyWYDBoBNbJ"
      },
      "execution_count": null,
      "outputs": []
    },
    {
      "cell_type": "code",
      "source": [
        "  #d. Assuma que os dados de óbitos novos para o estado da Paraíba estejam errados em 10 unidades para menos. \n",
        "      #Sobrescreva a informação tanto na lista quanto na tupla, corrigindo os dados. \n",
        "if 'Paraiba' in listaCOVID[0]:\n",
        "    listaCOVID[3][6] = listaCOVID[3][6] + 10\n",
        "    print('O valor correto de óbitos na Paraíba é:')\n",
        "    print(listaCOVID)"
      ],
      "metadata": {
        "id": "SA_mGlJ9Bir0"
      },
      "execution_count": null,
      "outputs": []
    },
    {
      "cell_type": "code",
      "source": [
        "  #e. As duas operações foram possíveis (lista e tupla)? Justifique.\n",
        "print('A operação foi possível apenas com a lista, pois tuplas são imutáveis.')"
      ],
      "metadata": {
        "id": "ucl2N7zVDQo7"
      },
      "execution_count": null,
      "outputs": []
    },
    {
      "cell_type": "code",
      "source": [
        "  #f. Crie uma nova lista com apenas dados de 1 estado e todos os municípios.\n",
        "CidadesAC = ['Acrelandia', 'Assis Brasil','Brasiléia','Bujari','Capixaba','Cruzeiro do Sul','Epitaciolândia','Feijó','Jordão','Mâncio Lima','Manoel Urbano','Marechal Thaumaturgo','Plácido de Castro','Porto Walter','Rio Branco','Rodrigues Alves','Santa Rosa do Purus','Senador Guiomard','Sena Madureira','Tarauacá', 'Xapuri', 'Porto Acre']\n",
        "PopulacaoAC = [7417,26278,10266,11733,88376,18411,34780,8317,18977,9459,18867,19761,11982,407319,18930,6540,23024,45848,42567,19323,18504]\n",
        "CasosAC_AC = [398,440,1035,353,240,2961,456,968,119,553,253,287,386,240,9692,137,201,401,1267,1401,685,460]\n",
        "ObitosAC_AC = [8,9,15,6,7,53,11,16,1,8,2,1,8,2,377,6,2,10,10,13,11,14]\n",
        "CasosN_AC = [20,1,93,1,1,19,15,6,4,0,2,3,0,0,30,0,2,2,17,85,27,0]\n",
        "ObitosN_AC = [0,0,1,0,0,0,0,0,0,0,0,0,0,0,6,0,0,0,0,0,1,0]\n",
        "RegioesSaudeAC = ['BAIXO ACRE E PURUS', 'ALTO ACRE','BAIXO ACRE E PURUS','JURUA E TARAUACA/ENVIRA']\n",
        "\n",
        "\n",
        "listaCOVID2 = [CidadesAC, PopulacaoAC, CasosAC_AC, ObitosAC_AC, CasosN_AC, ObitosN_AC, RegioesSaudeAC]\n",
        "print(listaCOVID2)\n",
        "\n",
        "    #Adicione essa lista nova a lista já existente (append ou insert). \n",
        "listaCOVID.append(listaCOVID2)\n",
        "print(listaCOVID)"
      ],
      "metadata": {
        "id": "_ELpnZr7Ddt-"
      },
      "execution_count": null,
      "outputs": []
    },
    {
      "cell_type": "code",
      "source": [
        "  #g. Remova da lista os dados das regiões de saúde.\n",
        "listaCOVID2.remove(RegioesSaudeAC)\n",
        "print(listaCOVID)"
      ],
      "metadata": {
        "id": "ZlSIRhWCFscE"
      },
      "execution_count": null,
      "outputs": []
    },
    {
      "cell_type": "code",
      "source": [
        "  #h. Verifique se a soma dos dados dos municípios na data de 18/08/2020 é igual ao dado da lista, mostrando na tela apenas se for verdadeiro.\n",
        "#não entendi!!!\n",
        "\n",
        "soma = [sum(listaCOVID2[1]),sum(listaCOVID2[2]),sum(listaCOVID2[3]), sum(listaCOVID2[4]), sum(listaCOVID2[5])]\n",
        "\n",
        "if(soma[0] == listaCOVID[1][1]+listaCOVID[2][1]+listaCOVID[3][1]+listaCOVID[4][1]+listaCOVID[5][1]):\n",
        "    print(True)\n",
        "else:\n",
        "    print('Não entendi a questão então não sei se os dados bateram')"
      ],
      "metadata": {
        "id": "n11rWE5PGAxa"
      },
      "execution_count": null,
      "outputs": []
    },
    {
      "cell_type": "code",
      "source": [
        "  #i. Retorne o tamanho total da lista.\n",
        "print(len(listaCOVID))"
      ],
      "metadata": {
        "id": "BFM2etofGtXd"
      },
      "execution_count": null,
      "outputs": []
    },
    {
      "cell_type": "code",
      "source": [
        "  #j. Verifique qual é o maior valor numérico de óbitos novos e o menor valor numérico de óbitos novos.\n",
        "\n",
        "print('Abaixo encontram-se o menor e o maior valor de óbitos novos, respectivamente.')\n",
        "minValueOBNovos = min(listaCOVID[5])\n",
        "maxValueOBNovos = max(listaCOVID[5])\n",
        "print('Menor:', minValueOBNovos, '\\nMaior:', maxValueOBNovos)"
      ],
      "metadata": {
        "id": "1blqsOU7G0gA"
      },
      "execution_count": null,
      "outputs": []
    },
    {
      "cell_type": "code",
      "source": [
        "  #k. Crie um dicionário de forma que seja possível encontrar os municípios associados a um estado específico e extrair os dados de casos novos em apenas um comando.\n",
        "  "
      ],
      "metadata": {
        "id": "YEfpI6hzG0ZH"
      },
      "execution_count": null,
      "outputs": []
    },
    {
      "cell_type": "code",
      "source": [
        "  #l. Extraia os dados de Teresina/PI apresentando os casos novos com um print.\n",
        "#Não entendi direito como fazer então coloquei o valor dos novos casos.\n",
        "\n",
        "Teresina = {'Nordeste','PI','Teresina',22,221100,22004,'ENTRE RIOS', '02/08/2020',32,864845,17593,71,718,9,1}\n",
        "Teresina = {'Teresina':[71]}\n",
        "print(Teresina)"
      ],
      "metadata": {
        "id": "unF8Ds4gHi8R"
      },
      "execution_count": null,
      "outputs": []
    }
  ]
}