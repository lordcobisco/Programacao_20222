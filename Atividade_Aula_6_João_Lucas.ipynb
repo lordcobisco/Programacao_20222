{
  "nbformat": 4,
  "nbformat_minor": 0,
  "metadata": {
    "colab": {
      "provenance": [],
      "authorship_tag": "ABX9TyOziNe++d8ct9KrfR9FTS7k",
      "include_colab_link": true
    },
    "kernelspec": {
      "name": "python3",
      "display_name": "Python 3"
    },
    "language_info": {
      "name": "python"
    }
  },
  "cells": [
    {
      "cell_type": "markdown",
      "metadata": {
        "id": "view-in-github",
        "colab_type": "text"
      },
      "source": [
        "<a href=\"https://colab.research.google.com/github/jlucas201/Programacao_20222/blob/main/Atividade_Aula_6_Jo%C3%A3o_Lucas.ipynb\" target=\"_parent\"><img src=\"https://colab.research.google.com/assets/colab-badge.svg\" alt=\"Open In Colab\"/></a>"
      ]
    },
    {
      "cell_type": "code",
      "source": [
        "import time"
      ],
      "metadata": {
        "id": "oGCEMZqUoNrz"
      },
      "execution_count": null,
      "outputs": []
    },
    {
      "cell_type": "code",
      "execution_count": null,
      "metadata": {
        "id": "qJFCFvqbK965",
        "colab": {
          "base_uri": "https://localhost:8080/"
        },
        "outputId": "84954992-712b-4f6d-af1d-6bab50c453e9"
      },
      "outputs": [
        {
          "name": "stdout",
          "output_type": "stream",
          "text": [
            "Tipo de nestesia a ser usado: dipirona\n",
            "Peso do rato:50\n",
            "De acordo com as informações dadas anestesia tem uma quantidade X de ml\n",
            "todas as informações estão corretas?(s/n)n\n",
            "Tipo de nestesia a ser usado: d\n",
            "Peso do rato:4\n",
            "De acordo com as informações dadas anestesia tem uma quantidade X de ml\n",
            "todas as informações estão corretas?(s/n)s\n"
          ]
        }
      ],
      "source": [
        "while(True):\n",
        "  anestesia=input('Tipo de nestesia a ser usado: ')\n",
        "  pesoRato=input('Peso do rato:')\n",
        "  print('De acordo com as informações dadas anestesia tem uma quantidade X de ml')\n",
        "  pergunta=input('todas as informações estão corretas?(s/n)')\n",
        "  if pergunta=='s':\n",
        "    break\n",
        "  else:\n",
        "    continue"
      ]
    },
    {
      "cell_type": "code",
      "source": [
        "while(True):\n",
        " pergunta2=input('o animal foi posicionado no estereotáxico?(s/n)')\n",
        " if pergunta2=='s':\n",
        "   print('Barras de suporte estão sendo posicionadas')\n",
        "   time.sleep(1)\n",
        "   print('...')\n",
        "   time.sleep(2)\n",
        "   print('verificar a angulação da cabeça')\n",
        "   break\n",
        " elif pergunta2=='n':\n",
        "    continue\n",
        "  \n",
        "\n",
        "\n"
      ],
      "metadata": {
        "id": "wpy1UkEOO09v",
        "colab": {
          "base_uri": "https://localhost:8080/"
        },
        "outputId": "6bbcadd4-3406-4cf9-c067-f817e12abba4"
      },
      "execution_count": null,
      "outputs": [
        {
          "output_type": "stream",
          "name": "stdout",
          "text": [
            "o animal foi posicionado no estereotáxico?(s/ns\n",
            "Barras de suporte estão sendo posicionadas\n",
            "...\n",
            "verificar a angulação da cabeça\n"
          ]
        }
      ]
    },
    {
      "cell_type": "markdown",
      "source": [
        "Limpeza do campo de trabalho: Este procedimento requer o cumprimento de algumas etapas: Retirada da pelagem que recobre a parte superior da calota craniana, Retirada dos tecidos moles (epiderme, derme e tecido conjuntivo) até alcançar a parte óssea da caixa craniana. Por último e não menos importante deve-se limpar a calota craniana de qualquer resto de “pele” que esteja sobrando utilizando H2O2 10 volumes.\n",
        "Com o animal em posição e com o campo cirúrgico devidamente limpo, utiliza-se uma pequena camada de poliacrilato em todo o perímetro externo para evitar sangramentos."
      ],
      "metadata": {
        "id": "qg_dFLue7cVA"
      }
    },
    {
      "cell_type": "code",
      "source": [
        "while(True):\n",
        "  pergunta2=input('O couro cabeludo foi retirado?')\n",
        "  pergunta3=input('os tecidos moles foram retirados?')\n",
        "  if pergunta2=='s' and pergunta3=='s':\n",
        "    for i in range(10):\n",
        "      print('Volume ',i+1,' de H2O2 Aplicado')\n",
        "      time.sleep(1)\n",
        "    print('aplicação de poliacrilato efetivada')\n",
        "    break  \n",
        "  else:\n",
        "    print('repetir processos:')\n",
        "    continue"
      ],
      "metadata": {
        "id": "KcOxN6Va7arf",
        "colab": {
          "base_uri": "https://localhost:8080/"
        },
        "outputId": "b2322ab4-e495-4e4c-cf1b-798a9e6b924b"
      },
      "execution_count": null,
      "outputs": [
        {
          "output_type": "stream",
          "name": "stdout",
          "text": [
            "O couro cabeludo foi retirado?s\n",
            "os tecidos moles foram retirados?n\n",
            "repetir processos:\n",
            "O couro cabeludo foi retirado?s\n",
            "os tecidos moles foram retirados?s\n",
            "Volume  1  de H2O2 Aplicado\n",
            "Volume  2  de H2O2 Aplicado\n",
            "Volume  3  de H2O2 Aplicado\n",
            "Volume  4  de H2O2 Aplicado\n",
            "Volume  5  de H2O2 Aplicado\n",
            "Volume  6  de H2O2 Aplicado\n",
            "Volume  7  de H2O2 Aplicado\n",
            "Volume  8  de H2O2 Aplicado\n",
            "Volume  9  de H2O2 Aplicado\n",
            "Volume  10  de H2O2 Aplicado\n",
            "aplicação de poliacrilato efetivada\n"
          ]
        }
      ]
    },
    {
      "cell_type": "markdown",
      "source": [
        "Após este procedimento deve-se escolher um ponto para a fixação de parafusos, de preferência na parte posterior da calota craniana, pois a camada óssea é mais espessa e suporta uma maior profundidade do parafuso. "
      ],
      "metadata": {
        "id": "LfPkGlLHs4Dd"
      }
    },
    {
      "cell_type": "code",
      "source": [
        "valoreshipocampo={\n",
        "    'AP':6.42,\n",
        "    'LL':3.23,\n",
        "    'DV':4.2\n",
        "}\n",
        "print(valoreshipocampo)\n",
        "valoresSubtraidos=(valoreshipocampo['AP']-0.42,valoreshipocampo['LL']+0.3,\n",
        "                   valoreshipocampo['DV']-0.2)\n",
        "print(valoresSubtraidos)\n",
        "coordenadax=input('insira a coordenada x de fixação do parafuso:')\n",
        "coordenadaz=input('insira a coordenada z de fixação do parafuso:')"
      ],
      "metadata": {
        "id": "Q5oTr28TsKMo",
        "colab": {
          "base_uri": "https://localhost:8080/"
        },
        "outputId": "f4d7901c-c5c4-4de5-d71d-377842e2daf1"
      },
      "execution_count": null,
      "outputs": [
        {
          "name": "stdout",
          "output_type": "stream",
          "text": [
            "{'AP': 6.42, 'LL': 3.23, 'DV': 4.2}\n",
            "(6.0, 3.53, 4.0)\n",
            "insira a coordenada x de fixação do parafuso:6\n",
            "insira a coordenada z de fixação do parafuso:6\n"
          ]
        }
      ]
    },
    {
      "cell_type": "code",
      "source": [
        "print('coordenadas dos pontos:')\n",
        "print('anteroposterior = 6.00 e laterolateral = 3.63 e 3.03')\n",
        "pergunta4=input('qual hemisferio sera colocada a canula?')"
      ],
      "metadata": {
        "id": "h0mmdve0unVG"
      },
      "execution_count": null,
      "outputs": []
    },
    {
      "cell_type": "code",
      "source": [
        "print('Perfuração até as meninges')\n",
        "time.sleep(1)\n",
        "for i in range(0,46,5):\n",
        "  if i<45:\n",
        "    print('Ajustando angulo: ',i,'º')\n",
        "    time.sleep(1)\n",
        "  elif i==45:\n",
        "    print('Angulo ajustado: ',i,'º')\n",
        "time.sleep(1)\n",
        "print('introduzindo a canula com um valor de Dorsoventral (4,00)')\n",
        "time.sleep(1)\n",
        "print('limpeza do cranio para a retirada do cranio')"
      ],
      "metadata": {
        "id": "H-sthWnaxWnd",
        "colab": {
          "base_uri": "https://localhost:8080/"
        },
        "outputId": "1476c53d-4822-415a-9e55-8773ff2f6ff3"
      },
      "execution_count": null,
      "outputs": [
        {
          "output_type": "stream",
          "name": "stdout",
          "text": [
            "Perfuração até as meninges\n",
            "Ajustando angulo:  0 º\n",
            "Ajustando angulo:  5 º\n",
            "Ajustando angulo:  10 º\n",
            "Ajustando angulo:  15 º\n",
            "Ajustando angulo:  20 º\n",
            "Ajustando angulo:  25 º\n",
            "Ajustando angulo:  30 º\n",
            "Ajustando angulo:  35 º\n",
            "Ajustando angulo:  40 º\n",
            "Angulo ajustado:  45 º\n",
            "introduzindo a canula com um valor de Dorsoventral (4,00)\n",
            "limpeza do cranio para a retirada do cranio\n"
          ]
        }
      ]
    },
    {
      "cell_type": "code",
      "source": [
        "print('montando uma estrutura de acrilico polimerizanre ao redor da cabeça do animal')\n",
        "time.sleep(2)\n",
        "print('Fixação de outra canula para guiar uma agulha na sua inserção, DV=4.00')\n",
        "time.sleep(2)\n"
      ],
      "metadata": {
        "colab": {
          "base_uri": "https://localhost:8080/"
        },
        "id": "ssTxeOqG7mIJ",
        "outputId": "ca5c042f-7bbb-4c41-dbb4-63f9a86f49bc"
      },
      "execution_count": null,
      "outputs": [
        {
          "output_type": "stream",
          "name": "stdout",
          "text": [
            "montando uma estrutura de acrilico polimerizanre ao redor da cabeça do animal\n",
            "teste\n"
          ]
        }
      ]
    },
    {
      "cell_type": "code",
      "source": [
        "for i in range(6):\n",
        "  print(i)"
      ],
      "metadata": {
        "colab": {
          "base_uri": "https://localhost:8080/"
        },
        "id": "atztMHWxSWWg",
        "outputId": "508bf5b7-88d3-41c0-cc84-d8631291cad3"
      },
      "execution_count": null,
      "outputs": [
        {
          "output_type": "stream",
          "name": "stdout",
          "text": [
            "1\n",
            "2\n",
            "3\n",
            "4\n",
            "5\n",
            "6\n"
          ]
        }
      ]
    }
  ]
}