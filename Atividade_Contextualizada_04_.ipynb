{
  "nbformat": 4,
  "nbformat_minor": 0,
  "metadata": {
    "colab": {
      "provenance": [],
      "authorship_tag": "ABX9TyMRx5lTjZRZTR/DMfC0KB7B",
      "include_colab_link": true
    },
    "kernelspec": {
      "name": "python3",
      "display_name": "Python 3"
    },
    "language_info": {
      "name": "python"
    }
  },
  "cells": [
    {
      "cell_type": "markdown",
      "metadata": {
        "id": "view-in-github",
        "colab_type": "text"
      },
      "source": [
        "<a href=\"https://colab.research.google.com/github/leticiaainoan/Programacao_20222/blob/main/Atividade_Contextualizada_04_.ipynb\" target=\"_parent\"><img src=\"https://colab.research.google.com/assets/colab-badge.svg\" alt=\"Open In Colab\"/></a>"
      ]
    },
    {
      "cell_type": "code",
      "execution_count": null,
      "metadata": {
        "colab": {
          "base_uri": "https://localhost:8080/"
        },
        "id": "Ogr7OzU_-CUh",
        "outputId": "050ef654-6048-4e54-c320-99739885ba09"
      },
      "outputs": [
        {
          "output_type": "stream",
          "name": "stdout",
          "text": [
            "O animal está habituado?\n",
            "sim\n",
            "OK, ELE ESTÁ HABITUADO\n",
            "VAMOS COMEÇAR\n",
            "A distância inicial é 30 cm?nao\n",
            "Qual o valor da distncia?21\n",
            "Dar 0,5 ml de recompensa\n",
            "O animal tocou quantas vezes na campanhia?23\n",
            "Ir para proxima etapa do experimento\n",
            "SOM 1 ACIONADO\n",
            "O animal tocou na barra direita oou esquerda?esquerda\n",
            "Foi liberada 0,5 ml de recompensa\n",
            "SOM 2 ACIONADO\n",
            "O animal tocou na barra direita ou esquerda?direita\n",
            "Foi liberada 0,5 ml de recompensa\n",
            "ULTIMA ETAPA DO EXPERIMENTO INICIADA\n",
            "Iniciar cronometro\n",
            "DISPLAY DO CRONOMETRO 3O MINUTOS\n",
            "Quantas vezes o animal tocou na barra no tempo de 30 minutos?52\n",
            "Ir para nova fase do experimento\n"
          ]
        }
      ],
      "source": [
        "\n",
        "#Método de discriminação de estímulos auditivos para primatas através do condicionamento operante.\n",
        "hab= str(input(\"O animal está habituado?\\n\"))\n",
        "if(hab==\"sim\"):\n",
        "  print(\"OK, ELE ESTÁ HABITUADO\")\n",
        "  print('VAMOS COMEÇAR')\n",
        "else:\n",
        "  print(\"O ANIMAL PRECISA ESTAR HABITUADO!!\")\n",
        "  h=str(input(\"O animal já está habituado?\"))\n",
        "  if(h==\"sim\"):\n",
        "    print(\"ENTÃO VAMOS INICIAR\")\n",
        "  else:\n",
        "    print(\"Vamos agauradar um pouco mais\")\n",
        "\n",
        "d=30\n",
        "pergunta_d=str(input(\"A distância inicial é 30 cm?\"))\n",
        "if(pergunta_d==\"sim\"):\n",
        "  print(\"ENTÃO VAMOS ESPERAR\")\n",
        "  d2=str(input(\"A distância está menor que 30 cm?\"))\n",
        "  if(d2==\"sim\"):\n",
        "    print(\"Dar 0,5ml de recompensa\")\n",
        "else:\n",
        "  x=int(input(\"Qual o valor da distncia?\"))\n",
        "  if(x<d):\n",
        "    print(\"Dar 0,5 ml de recompensa\")\n",
        "  if(x>d):\n",
        "    print(\"O ANIMAL PRECISA SE APROXIMAR\")\n",
        "    y=str(input(\"O distância está menor que 30 cm?\"))\n",
        "    if(y==\"sim\"):\n",
        "      print(\"Colocar 0,5ml de recompensa\")\n",
        "toque=int(input(\"O animal tocou quantas vezes na campanhia?\"))\n",
        "if(toque>20):\n",
        "  print(\"Ir para proxima etapa do experimento\")\n",
        "else:\n",
        "  print(\"NÃO AVANÇA AINDA!!\")\n",
        "  h3=str(input(\"E agora, já tocou mais de 20 vezes?\"))\n",
        "  if(h3==\"sim\"):\n",
        "    print(\"Vamos para proxima etapa do experimento\")\n",
        "  else:\n",
        "    print(\"O EXPERIMENTO NÃO VAI AVANÇAR\")\n",
        "\n",
        "print(\"SOM 1 ACIONADO\")\n",
        "toque=str(input(\"O animal tocou na barra direita oou esquerda?\"))\n",
        "if(toque==\"direita\"):\n",
        "  print(\"sem recompensa\")\n",
        "elif(toque==\"esquerda\"):\n",
        "  print(\"Foi liberada 0,5 ml de recompensa\")\n",
        "\n",
        "print(\"SOM 2 ACIONADO\")\n",
        "toque=str(input(\"O animal tocou na barra direita ou esquerda?\"))\n",
        "if(toque==\"direita\"):\n",
        "  print(\"Foi liberada 0,5 ml de recompensa\")\n",
        "elif(toque==\"esquerda\"):\n",
        "  print(\"Sem recompensa\")\n",
        "\n",
        "print(\"ULTIMA ETAPA DO EXPERIMENTO INICIADA\")\n",
        "print(\"Iniciar cronometro\")\n",
        "print(\"DISPLAY DO CRONOMETRO 3O MINUTOS\")\n",
        "final=int(input(\"Quantas vezes o animal tocou na barra no tempo de 30 minutos?\"))\n",
        "if(final>=50):\n",
        "  print(\"Ir para nova fase do experimento\")\n",
        "else:\n",
        "  print(\"Não irá para nova fase do experimento\")\n"
      ]
    }
  ]
}