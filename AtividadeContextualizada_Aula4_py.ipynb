{
  "nbformat": 4,
  "nbformat_minor": 0,
  "metadata": {
    "colab": {
      "name": "AtividadeContextualizada - Aula4.py",
      "provenance": [],
      "collapsed_sections": [],
      "authorship_tag": "ABX9TyN3CVDHKglj4KmJzJ8JzXYg",
      "include_colab_link": true
    },
    "kernelspec": {
      "name": "python3",
      "display_name": "Python 3"
    },
    "language_info": {
      "name": "python"
    }
  },
  "cells": [
    {
      "cell_type": "markdown",
      "metadata": {
        "id": "view-in-github",
        "colab_type": "text"
      },
      "source": [
        "<a href=\"https://colab.research.google.com/github/akarolinealmeida/Programacao_20222/blob/akarolinealmeida/AtividadeContextualizada_Aula4_py.ipynb\" target=\"_parent\"><img src=\"https://colab.research.google.com/assets/colab-badge.svg\" alt=\"Open In Colab\"/></a>"
      ]
    },
    {
      "cell_type": "code",
      "execution_count": 15,
      "metadata": {
        "id": "MgYeL9ByiOmd",
        "colab": {
          "base_uri": "https://localhost:8080/"
        },
        "outputId": "d5ea6c1d-5db1-4a72-9a6a-628425e3ef3d"
      },
      "outputs": [
        {
          "output_type": "stream",
          "name": "stdout",
          "text": [
            "Olá! Bem vindo ao teste experimental da aula 4.\n",
            "O animal está habituado?sim\n",
            "Parabéns, vamos iniciar o teste.\n",
            "O animal está com distância de 30 cm da barra?nao\n",
            "Qual é a distância entre o animal e a barra?25\n",
            "Libere 0,5ml de suco.\n",
            "O animal tocou alguma vez na barra?sim\n",
            "Quantas vezes o animal tocou na barra?20\n",
            "Parabéns! O experimento passou para a próxima fase.\n",
            "Som 1 ativado. O animal tocou na barra esquerda?sim\n",
            "Libere 0,5ml de suco.\n",
            "Som 2 ativado. O animal tocou na barra direita?nao\n",
            "Não libere suco.\n",
            "Quantas vezes o animal tocou na barra durante 30min de experimento?48\n",
            "O animal precisa tocar 50x na barra, em 30min, para que o experimento passe de fase.\n"
          ]
        }
      ],
      "source": [
        "#AtividadeContextualizadaAula4\n",
        "#Programa para habituação do animal\n",
        "\n",
        "print('Olá! Bem vindo ao teste experimental da aula 4.')\n",
        "\n",
        "habituação = str(input('O animal está habituado?'))\n",
        "if (habituação=='sim'):\n",
        "  print('Parabéns, vamos iniciar o teste.')\n",
        "else:\n",
        "  print('Treine o animal, ele precisa estar habituado. Não é bom passar para as próximas perguntas sem essa habituação.')\n",
        "\n",
        "dist = str(input('O animal está com distância de 30 cm da barra?'))\n",
        "if (dist=='sim'):\n",
        "  print('Ele precisa se aproximar da barra.')\n",
        "  print('Mas, vamos prosseguir.')\n",
        "  #Aqui, em um programa real, eu não prosseguiria. Porém, como ainda não podemos usar outros comandos (como while) nesta atividade, prossegui para não ficar extenso. Em um programa, eu pediria para repetir a pergunta até que o animal estivesse mais próximo.\n",
        "if (dist=='nao'):\n",
        "  dist2 = int(input('Qual é a distância entre o animal e a barra?'))\n",
        "  if dist2<30:\n",
        "      print('Libere 0,5ml de suco.')\n",
        "  else:\n",
        "      print('Não libere suco.')\n",
        "\n",
        "tbarra = str(input('O animal tocou alguma vez na barra?'))\n",
        "if (tbarra=='sim'):\n",
        "  tbarra2 = int(input('Quantas vezes o animal tocou na barra?'))\n",
        "  if tbarra2>=20:\n",
        "    print('Parabéns! O experimento passou para a próxima fase.')\n",
        "  if tbarra2<20:\n",
        "    print('O animal precisa tocar 20x na barra para que o experimento passe de fase.')\n",
        "if (tbarra=='nao'):\n",
        "    print('O animal precisa tocar na barra para prosseguir o experimento.')\n",
        "    print('Tente novamente.')\n",
        "\n",
        "som1 = str(input('Som 1 ativado. O animal tocou na barra esquerda?'))\n",
        "if (som1=='sim'):\n",
        "  print('Libere 0,5ml de suco.')\n",
        "else:\n",
        "  print('Não libere suco.')\n",
        "\n",
        "som2 = str(input('Som 2 ativado. O animal tocou na barra direita?'))\n",
        "if (som2=='sim'):\n",
        "  print('Libere 0,5ml de suco.')\n",
        "else:\n",
        "  print('Não libere suco.')\n",
        "\n",
        "pergfinal = int(input('Quantas vezes o animal tocou na barra durante 30min de experimento?'))\n",
        "if pergfinal>50:\n",
        "    print('Parabéns! O experimento passou para a próxima fase.')\n",
        "if pergfinal<50:\n",
        "    print('O animal precisa tocar 50x na barra, em 30min, para que o experimento passe de fase.')\n"
      ]
    }
  ]
}