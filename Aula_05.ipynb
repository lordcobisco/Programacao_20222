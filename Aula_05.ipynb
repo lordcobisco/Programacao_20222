{
  "nbformat": 4,
  "nbformat_minor": 0,
  "metadata": {
    "colab": {
      "provenance": [],
      "authorship_tag": "ABX9TyMr9M7tmNc/g7vZqe4BEXTf",
      "include_colab_link": true
    },
    "kernelspec": {
      "name": "python3",
      "display_name": "Python 3"
    },
    "language_info": {
      "name": "python"
    }
  },
  "cells": [
    {
      "cell_type": "markdown",
      "metadata": {
        "id": "view-in-github",
        "colab_type": "text"
      },
      "source": [
        "<a href=\"https://colab.research.google.com/github/leticiaainoan/Programacao_20222/blob/main/Aula_05.ipynb\" target=\"_parent\"><img src=\"https://colab.research.google.com/assets/colab-badge.svg\" alt=\"Open In Colab\"/></a>"
      ]
    },
    {
      "cell_type": "code",
      "execution_count": null,
      "metadata": {
        "colab": {
          "base_uri": "https://localhost:8080/"
        },
        "id": "IH9OoFpPVxzX",
        "outputId": "c52e2273-8918-4da8-aa1a-904931283e7d"
      },
      "outputs": [
        {
          "output_type": "stream",
          "name": "stdout",
          "text": [
            "['Leticia', 'Erica', 'Karol']\n"
          ]
        }
      ],
      "source": [
        "#Listas\n",
        "lista=[\"Leticia\", \"Erica\",\"Karol\"]\n",
        "print(lista)"
      ]
    },
    {
      "cell_type": "code",
      "source": [
        "lista=[\"Leticia\", \"Erica\",\"Karol\"]\n",
        "novalista=(\"casa\",lista)\n",
        "print(novalista)"
      ],
      "metadata": {
        "colab": {
          "base_uri": "https://localhost:8080/"
        },
        "id": "i9nFlc4uWtze",
        "outputId": "facdc30b-2051-472d-a194-19df7a066c3f"
      },
      "execution_count": null,
      "outputs": [
        {
          "output_type": "stream",
          "name": "stdout",
          "text": [
            "('casa', ['Leticia', 'Erica', 'Karol'])\n"
          ]
        }
      ]
    },
    {
      "cell_type": "code",
      "source": [
        "lista=[\"Leticia\", \"Erica\",\"Karol\"]\n",
        "novalista=(\"casa\",lista)\n",
        "print(novalista)\n",
        "print(lista[2])\n",
        "print(lista[1])\n",
        "print(lista[0])\n",
        "print(novalista[1])"
      ],
      "metadata": {
        "colab": {
          "base_uri": "https://localhost:8080/"
        },
        "id": "7Xfkp9JKZj8Y",
        "outputId": "1f9e7ec8-acb7-45b3-c242-c11f9989ca3d"
      },
      "execution_count": null,
      "outputs": [
        {
          "output_type": "stream",
          "name": "stdout",
          "text": [
            "('casa', ['Leticia', 'Erica', 'Karol'])\n",
            "Karol\n",
            "Erica\n",
            "Leticia\n",
            "['Leticia', 'Erica', 'Karol']\n"
          ]
        }
      ]
    },
    {
      "cell_type": "code",
      "source": [
        "lista=[\"Leticia\", \"Erica\",\"Karol\"]\n",
        "novalista=(\"casa\",lista)\n",
        "print(\"Leticia\" in lista)\n",
        "print(min(lista))"
      ],
      "metadata": {
        "colab": {
          "base_uri": "https://localhost:8080/"
        },
        "id": "i39zufcNZ-1V",
        "outputId": "731eb4da-ee68-4f35-a1f9-44a7bc518828"
      },
      "execution_count": null,
      "outputs": [
        {
          "output_type": "stream",
          "name": "stdout",
          "text": [
            "True\n",
            "Erica\n"
          ]
        }
      ]
    },
    {
      "cell_type": "code",
      "source": [
        "livros=[\"livro 1\", \"Livro 2\", \"Livro 3\"]\n",
        "livros.append(\"livro 4\")\n",
        "print(livros)\n",
        "\n",
        "livros=[\"livro 1\", \"Livro 2\", \"Livro 3\"]\n",
        "livros.insert(1, \"oraculo\")\n",
        "print(livros)\n",
        "\n",
        "livros=[\"livro 1\", \"Livro 2\", \"Livro 3\"]\n",
        "print(livros.pop(1))\n"
      ],
      "metadata": {
        "colab": {
          "base_uri": "https://localhost:8080/"
        },
        "id": "XQLtqQ32bM43",
        "outputId": "9b3a9ab6-c241-4494-9ef1-aa3cddb92195"
      },
      "execution_count": null,
      "outputs": [
        {
          "output_type": "stream",
          "name": "stdout",
          "text": [
            "['livro 1', 'Livro 2', 'Livro 3', 'livro 4']\n",
            "['livro 1', 'oraculo', 'Livro 2', 'Livro 3']\n",
            "Livro 2\n"
          ]
        }
      ]
    },
    {
      "cell_type": "code",
      "source": [
        "livros=[\"livro 1\", \"Livro 2\", \"Livro 3\"]\n",
        "livros.remove(\"Livro 2\")\n",
        "print(livros)"
      ],
      "metadata": {
        "colab": {
          "base_uri": "https://localhost:8080/"
        },
        "id": "UFfteXj9eM1d",
        "outputId": "a850cb99-7bcf-48ea-f3da-b2477b0cedf7"
      },
      "execution_count": null,
      "outputs": [
        {
          "output_type": "stream",
          "name": "stdout",
          "text": [
            "['livro 1', 'Livro 3']\n"
          ]
        }
      ]
    },
    {
      "cell_type": "code",
      "source": [
        "livros=[\"livro 1\", \"Livro 2\", \"Livro 3\"]\n",
        "print(livros.index(\"Livro 2\"))\n"
      ],
      "metadata": {
        "colab": {
          "base_uri": "https://localhost:8080/"
        },
        "id": "xPDY9HeLe9cn",
        "outputId": "b80064c6-e3c0-4e5d-d037-e91419cd5d4a"
      },
      "execution_count": null,
      "outputs": [
        {
          "output_type": "stream",
          "name": "stdout",
          "text": [
            "1\n"
          ]
        }
      ]
    },
    {
      "cell_type": "code",
      "source": [
        "livros=[\"Livro 1\", \"Livro 2\", \"Livro 3\"]\n",
        "livros.sort()\n",
        "print(livros)\n",
        "\n",
        "livros=[\"livro 1\", \"Livro 2\", \"Livro 3\"]\n",
        "livros.reverse()\n",
        "print(livros)\n",
        "\n",
        "livros=[\"livro 1\", \"Livro 2\", \"Livro 3\", \"Livro 2\"]\n",
        "print(livros.count(\"Livro 2\"))\n",
        "\n"
      ],
      "metadata": {
        "colab": {
          "base_uri": "https://localhost:8080/"
        },
        "id": "j7zoHRErfWWd",
        "outputId": "707bcf48-2d4f-4863-a90f-f6a85037a415"
      },
      "execution_count": null,
      "outputs": [
        {
          "output_type": "stream",
          "name": "stdout",
          "text": [
            "['Livro 1', 'Livro 2', 'Livro 3']\n",
            "['Livro 3', 'Livro 2', 'livro 1']\n",
            "2\n"
          ]
        }
      ]
    },
    {
      "cell_type": "code",
      "source": [
        "lista=[1,3,5,6,8,9,60]\n",
        "lista.sort()\n",
        "print(lista)"
      ],
      "metadata": {
        "colab": {
          "base_uri": "https://localhost:8080/"
        },
        "id": "-gZZeVYdJz-m",
        "outputId": "d0c9f3c9-976a-40a8-b7ab-998dbb618c9e"
      },
      "execution_count": null,
      "outputs": [
        {
          "output_type": "stream",
          "name": "stdout",
          "text": [
            "[1, 3, 5, 6, 8, 9, 60]\n"
          ]
        }
      ]
    },
    {
      "cell_type": "code",
      "source": [
        "a=[1,2,3,60]\n",
        "b=a\n",
        "print(b is not a )\n",
        "\n",
        "a=[1,2,3,60]\n",
        "b=[1,2,3,60]\n",
        "print(b==a)\n",
        "b[0]=5\n",
        "print(b)\n",
        "\n",
        "a=[54,87,90]\n",
        "b=a[:]\n",
        "b[0]=3\n",
        "print(a)\n",
        "print(b)"
      ],
      "metadata": {
        "colab": {
          "base_uri": "https://localhost:8080/"
        },
        "id": "ult0-fyLiIlP",
        "outputId": "1b407a31-afb4-4d51-a042-cc854ffa62cf"
      },
      "execution_count": null,
      "outputs": [
        {
          "output_type": "stream",
          "name": "stdout",
          "text": [
            "False\n",
            "True\n",
            "[5, 2, 3, 60]\n",
            "[54, 87, 90]\n",
            "[3, 87, 90]\n"
          ]
        }
      ]
    },
    {
      "cell_type": "code",
      "source": [
        "leticia=(1,2,3)\n",
        "print(leticia)\n",
        "leticia=(1,2,3)\n",
        "print(leticia[0:2])"
      ],
      "metadata": {
        "colab": {
          "base_uri": "https://localhost:8080/"
        },
        "id": "2GMDc0dHnxKp",
        "outputId": "02c635f9-6048-4995-89f1-153b1c0e6ebf"
      },
      "execution_count": null,
      "outputs": [
        {
          "output_type": "stream",
          "name": "stdout",
          "text": [
            "(1, 2, 3)\n",
            "(1, 2)\n"
          ]
        }
      ]
    },
    {
      "cell_type": "code",
      "source": [
        "p=\"leticia\"\n",
        "print(p[0:1])\n",
        "print(p[1:2])\n",
        "print(p[2:3])\n",
        "print(p[3:4])\n",
        "print(p[4:5])\n",
        "print(p[5:6])\n",
        "print(p[6:7])\n",
        "\n",
        "print(p[:1])\n",
        "print(p[:2])\n",
        "print(p[:3])\n",
        "print(p[:4])\n",
        "print(p[:5])\n",
        "print(p[:6])\n",
        "print(p[:7])\n",
        "\n",
        "print(p[0:])\n",
        "print(p[1:])\n",
        "print(p[2:])\n",
        "print(p[3:])\n",
        "print(p[4:])\n",
        "print(p[5:])\n",
        "print(p[6:])"
      ],
      "metadata": {
        "colab": {
          "base_uri": "https://localhost:8080/"
        },
        "id": "BApD6_u4o8_w",
        "outputId": "3ef8ca23-375a-4064-ae48-15c848f3039e"
      },
      "execution_count": null,
      "outputs": [
        {
          "output_type": "stream",
          "name": "stdout",
          "text": [
            "l\n",
            "e\n",
            "t\n",
            "i\n",
            "c\n",
            "i\n",
            "a\n",
            "l\n",
            "le\n",
            "let\n",
            "leti\n",
            "letic\n",
            "letici\n",
            "leticia\n",
            "leticia\n",
            "eticia\n",
            "ticia\n",
            "icia\n",
            "cia\n",
            "ia\n",
            "a\n"
          ]
        }
      ]
    },
    {
      "cell_type": "code",
      "source": [
        "agenda={}\n",
        "print(agenda)\n",
        "\n",
        "agenda={\"maria\":[99563178,35647340],\"joao\":[83474598],\"Pedro\":[787646554]}\n",
        "print(agenda)\n",
        "\n",
        "agenda={\"maria\":[99563178,35647340],\"joao\":[83474598],\"Pedro\":[787646554]}\n",
        "print(agenda[\"maria\"])\n",
        "\n",
        "agenda={\"maria\":[99563178,35647340],\"joao\":[83474598],\"Pedro\":[787646554]}\n",
        "agenda[\"Pedro\"]=[99563178]\n",
        "print(agenda)"
      ],
      "metadata": {
        "colab": {
          "base_uri": "https://localhost:8080/"
        },
        "id": "di2WH2yop5s0",
        "outputId": "11797538-55f1-4016-dd79-0cfbaa9e3feb"
      },
      "execution_count": null,
      "outputs": [
        {
          "output_type": "stream",
          "name": "stdout",
          "text": [
            "{}\n",
            "{'maria': [99563178, 35647340], 'joao': [83474598], 'Pedro': [787646554]}\n",
            "[99563178, 35647340]\n",
            "{'maria': [99563178, 35647340], 'joao': [83474598], 'Pedro': [99563178]}\n"
          ]
        }
      ]
    }
  ]
}