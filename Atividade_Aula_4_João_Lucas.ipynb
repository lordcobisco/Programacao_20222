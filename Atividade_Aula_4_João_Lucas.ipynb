{
  "nbformat": 4,
  "nbformat_minor": 0,
  "metadata": {
    "colab": {
      "provenance": [],
      "authorship_tag": "ABX9TyO4BBeP4cVAWFYAgsMH9Kja",
      "include_colab_link": true
    },
    "kernelspec": {
      "name": "python3",
      "display_name": "Python 3"
    },
    "language_info": {
      "name": "python"
    }
  },
  "cells": [
    {
      "cell_type": "markdown",
      "metadata": {
        "id": "view-in-github",
        "colab_type": "text"
      },
      "source": [
        "<a href=\"https://colab.research.google.com/github/jlucas201/Programacao_20222/blob/main/Atividade_Aula_4_Jo%C3%A3o_Lucas.ipynb\" target=\"_parent\"><img src=\"https://colab.research.google.com/assets/colab-badge.svg\" alt=\"Open In Colab\"/></a>"
      ]
    },
    {
      "cell_type": "code",
      "execution_count": null,
      "metadata": {
        "colab": {
          "base_uri": "https://localhost:8080/"
        },
        "id": "pF6T5V4FyjN1",
        "outputId": "f888a728-4b8f-4d18-da4b-a2c46c7c8e93"
      },
      "outputs": [
        {
          "name": "stdout",
          "output_type": "stream",
          "text": [
            "houve habituação?sim\n"
          ]
        }
      ],
      "source": [
        "habituacao=input('houve habituação?')"
      ]
    },
    {
      "cell_type": "code",
      "source": [
        "var=30\n",
        "aprox=float(input('Nova distancia entre a barra e o animal: '))\n",
        "if aprox>var:\n",
        "  print('houve liberação de 0.5ml de recompensa')\n",
        "toque=int(input('Quantas vezes o animal tocou a barra?'))\n",
        "if toque>=20:\n",
        "  print('o experimento passou para a proxima fase')\n",
        "som=input('Foi emitido o som?(s/n)')\n",
        "if som == 's':\n",
        "  print('houve liberação de 0.5ml de recompensa')\n",
        "else:\n",
        "  print('não houve liberação de recompensa')\n",
        "freq=input('O experimento foi feito 50x em 30 min?(s/n)')\n",
        "if freq=='s':\n",
        "  print('o experimento passou para a proxima fase')\n",
        "else:\n",
        "  print('o experimento continuará')\n"
      ],
      "metadata": {
        "colab": {
          "base_uri": "https://localhost:8080/"
        },
        "id": "l1vQoMuIzh3v",
        "outputId": "9e5d82f3-85bd-4c69-9a34-8afe5a1edce7"
      },
      "execution_count": null,
      "outputs": [
        {
          "output_type": "stream",
          "name": "stdout",
          "text": [
            "Nova distancia entre a barra e o animal: 40\n",
            "houve liberação de 0.5ml de recompensa\n",
            "Quantas vezes o animal tocou a barra?30\n",
            "o experimento passou para a proxima fase\n",
            "Foi emitido o som?(s/n)s\n",
            "houve liberação de 0.5ml de recompensa\n",
            "O experimento foi feito 50x em 30 min?(s/n)s\n",
            "o experimento passou para a proxima fase\n"
          ]
        }
      ]
    }
  ]
}