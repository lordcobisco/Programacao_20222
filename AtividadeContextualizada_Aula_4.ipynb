{
  "nbformat": 4,
  "nbformat_minor": 0,
  "metadata": {
    "colab": {
      "provenance": [],
      "authorship_tag": "ABX9TyM3+zzlex6i8ZUHqErl4YC5",
      "include_colab_link": true
    },
    "kernelspec": {
      "name": "python3",
      "display_name": "Python 3"
    },
    "language_info": {
      "name": "python"
    }
  },
  "cells": [
    {
      "cell_type": "markdown",
      "metadata": {
        "id": "view-in-github",
        "colab_type": "text"
      },
      "source": [
        "<a href=\"https://colab.research.google.com/github/alineroberta/Programacao_20222/blob/main/AtividadeContextualizada_Aula_4.ipynb\" target=\"_parent\"><img src=\"https://colab.research.google.com/assets/colab-badge.svg\" alt=\"Open In Colab\"/></a>"
      ]
    },
    {
      "cell_type": "markdown",
      "source": [
        "# Atividade - Aula 4"
      ],
      "metadata": {
        "id": "Wz2NUpZqUZjq"
      }
    },
    {
      "cell_type": "markdown",
      "source": [
        "### a) Requisito 1: Habituação\n",
        "\n",
        "\n",
        "i. Se o animal está habituado, registrar em uma variável\n"
      ],
      "metadata": {
        "id": "Zl2n0IqMWlOL"
      }
    },
    {
      "cell_type": "code",
      "execution_count": null,
      "metadata": {
        "colab": {
          "base_uri": "https://localhost:8080/"
        },
        "id": "DW6sZEBXUX-R",
        "outputId": "9ee5aa77-71d9-4af1-8c0d-d2324f56e477"
      },
      "outputs": [
        {
          "output_type": "stream",
          "name": "stdout",
          "text": [
            "o animal está habituado? 1=sim, 0=não  0\n",
            "animal está habituado\n"
          ]
        }
      ],
      "source": [
        "habituação = int (input('o animal está habituado? 1=sim, 0=não  '))\n",
        "if habituação == 1:\n",
        "  print ('animal está habituado')\n",
        "else:\n",
        "  print ('continuar processo de habituação')"
      ]
    },
    {
      "cell_type": "markdown",
      "source": [
        "### b)\tRequisito 2: Regime de aproximações sucessivas\n",
        "\n",
        "i.\tIniciar a variável com 30cm\n",
        "\n",
        "ii.\tSe a variável de aproximação diminuiu (animal aproximou), liberar 0,5ml de rec"
      ],
      "metadata": {
        "id": "R-RmPFFRXQ4-"
      }
    },
    {
      "cell_type": "code",
      "source": [
        "aproximação = float (input('distância do animal para a barra (em cm):  '))\n",
        "recompensa = 0.5 #ml\n",
        "if aproximação < 30.0:\n",
        "  print (recompensa)\n",
        "  print('liberar 0,5ml de rec')"
      ],
      "metadata": {
        "colab": {
          "base_uri": "https://localhost:8080/"
        },
        "id": "JA2nUOfqfyd-",
        "outputId": "b08d6505-ac09-4d4e-8229-9f73c5816994"
      },
      "execution_count": null,
      "outputs": [
        {
          "output_type": "stream",
          "name": "stdout",
          "text": [
            "distância do animal para a barra (em cm):  29\n",
            "0.5\n",
            "liberar 0,5ml de rec\n"
          ]
        }
      ]
    },
    {
      "cell_type": "markdown",
      "source": [
        "iii.\tSe animal tocou na barra 20x, retornar que o experimento passou para a próxima etapa"
      ],
      "metadata": {
        "id": "OSRNGX2rjha6"
      }
    },
    {
      "cell_type": "code",
      "source": [
        "toque_barras = int(input('quantas vezes o animal tocou nas barras?  '))\n",
        "if toque_barras == 20:\n",
        "  print ('experimento passou para a próxima etapa')\n",
        "else:\n",
        "  print('o animal tocou', toque_barras, 'vezes na barra')"
      ],
      "metadata": {
        "colab": {
          "base_uri": "https://localhost:8080/"
        },
        "id": "nTWrPVPojgZE",
        "outputId": "937af2bf-7daa-4722-8381-6753393cb135"
      },
      "execution_count": null,
      "outputs": [
        {
          "output_type": "stream",
          "name": "stdout",
          "text": [
            "quantas vezes o animal tocou nas barras?  18\n",
            "o animal tocou 18 vezes na barra\n"
          ]
        }
      ]
    },
    {
      "cell_type": "markdown",
      "source": [
        "iv.\tSe o som1 foi emitido e o animal tocou na barra esquerda, liberar 0,5ml de rec\n",
        "\n",
        "v.\tCaso contrário não liberar nada\n"
      ],
      "metadata": {
        "id": "6ujExrislhjA"
      }
    },
    {
      "cell_type": "code",
      "source": [
        "som_1 = int(input('tocar o som 1? 1=sim, 0=não  '))\n",
        "toque_barra_esquerda = int(input('o animal tocou a barra esquerda? 1=sim, 0=não '))\n",
        "if som_1 and toque_barra_esquerda:\n",
        "  recompensa\n",
        "  print('liberar 0,5ml de rec')\n",
        "else:\n",
        "  print ('não liberar nada')"
      ],
      "metadata": {
        "colab": {
          "base_uri": "https://localhost:8080/"
        },
        "id": "_zleGyfLlRd2",
        "outputId": "ad5930c4-607c-47b0-e58d-48b7eaaf6921"
      },
      "execution_count": null,
      "outputs": [
        {
          "output_type": "stream",
          "name": "stdout",
          "text": [
            "tocar o som 1? 1=sim, 0=não  1\n",
            "o animal tocou a barra esquerda? 1=sim, 0=não 1\n",
            "liberar 0,5ml de rec\n"
          ]
        }
      ]
    },
    {
      "cell_type": "markdown",
      "source": [
        "vi.\tSe o som2 foi emitido e o animal tocou na barra direita, liberar 0,5ml de rec\n",
        "\n",
        "vii.\tCaso contrário não liberar nada"
      ],
      "metadata": {
        "id": "a1UMzeFupve6"
      }
    },
    {
      "cell_type": "code",
      "source": [
        "som_2 = int(input('tocar o som 2?  '))\n",
        "toque_barra_direita = int(input('o animal tocou a barra direita? 1=sim, 0=não '))\n",
        "if som_2 and toque_barra_direita:\n",
        "  recompensa\n",
        "  print('liberar 0,5ml de rec')\n",
        "else:\n",
        "  print ('não liberar nada')"
      ],
      "metadata": {
        "colab": {
          "base_uri": "https://localhost:8080/"
        },
        "id": "_L3s47b1p0C_",
        "outputId": "feb19fda-b7a7-4f7f-ba9c-08580e35d021"
      },
      "execution_count": null,
      "outputs": [
        {
          "output_type": "stream",
          "name": "stdout",
          "text": [
            "tocar o som 2?  1\n",
            "o animal tocou a barra direita? 1=sim, 0=não 1\n",
            "liberar 0,5ml de rec\n"
          ]
        }
      ]
    },
    {
      "cell_type": "markdown",
      "source": [
        "viii.\tSe o experimento foi realizado 50x em 30min, apresentar que o experimento seguirá para a próxima fase."
      ],
      "metadata": {
        "id": "zFBfFVzgqIYc"
      }
    },
    {
      "cell_type": "code",
      "source": [
        "repetições_experimento = int(input('quantas vezes o experimento foi realizado nos ultimos 30 min?  '))\n",
        "if repetições_experimento >= 50:\n",
        "  print ('experimento seguirá para a proxima fase')\n",
        "else:\n",
        "  print ('continue tentando!')"
      ],
      "metadata": {
        "colab": {
          "base_uri": "https://localhost:8080/"
        },
        "id": "oobkQwz1rSuk",
        "outputId": "6874227d-13de-44e9-b766-5294ed0825f6"
      },
      "execution_count": null,
      "outputs": [
        {
          "output_type": "stream",
          "name": "stdout",
          "text": [
            "quantas vezes o experimento foi realizado nos ultimos 30 min?  60\n",
            "experimento seguirá para a proxima fase\n"
          ]
        }
      ]
    }
  ]
}