{
  "nbformat": 4,
  "nbformat_minor": 0,
  "metadata": {
    "colab": {
      "name": "Atividade_Aula3_IMC.ipynb",
      "provenance": [],
      "authorship_tag": "ABX9TyPwe565KZESMb5fhiy3oCCd",
      "include_colab_link": true
    },
    "kernelspec": {
      "name": "python3",
      "display_name": "Python 3"
    },
    "language_info": {
      "name": "python"
    }
  },
  "cells": [
    {
      "cell_type": "markdown",
      "metadata": {
        "id": "view-in-github",
        "colab_type": "text"
      },
      "source": [
        "<a href=\"https://colab.research.google.com/github/alineroberta/Programacao_20222/blob/main/Atividade_Aula3_IMC.ipynb\" target=\"_parent\"><img src=\"https://colab.research.google.com/assets/colab-badge.svg\" alt=\"Open In Colab\"/></a>"
      ]
    },
    {
      "cell_type": "code",
      "execution_count": 4,
      "metadata": {
        "colab": {
          "base_uri": "https://localhost:8080/"
        },
        "id": "YIhFPUf45EJi",
        "outputId": "e07427d2-2551-4bc6-c615-3904d725df17"
      },
      "outputs": [
        {
          "output_type": "stream",
          "name": "stdout",
          "text": [
            "inserir peso do paciente (em kg):80\n",
            "inserir altura do paciente (em metro):1.90\n",
            "IMC:  22.1606648199446\n",
            "peso dentro do normal\n"
          ]
        }
      ],
      "source": [
        "#Atividade IMC\n",
        "peso = float (input(\"inserir peso do paciente (em kg):\"))\n",
        "altura = float (input('inserir altura do paciente (em metro):'))\n",
        "imc=(peso)/(altura**2)\n",
        "print('IMC: ', imc)\n",
        "\n",
        "if imc <17:\n",
        "    print ('muito abaixo do peso')\n",
        "elif imc >= 17 and imc <= 18.5:\n",
        "    print ('abaixo do peso normal')\n",
        "elif imc > 18.5 and imc <= 25:\n",
        "    print ('peso dentro do normal')\n",
        "elif imc > 25 and imc <= 30:\n",
        "    print ('peso acima do normal')\n",
        "elif imc > 30:\n",
        "    print ('muito acima do peso') "
      ]
    }
  ]
}