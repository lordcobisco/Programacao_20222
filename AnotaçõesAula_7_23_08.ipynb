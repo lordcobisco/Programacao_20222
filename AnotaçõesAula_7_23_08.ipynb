{
  "cells": [
    {
      "cell_type": "markdown",
      "source": [
        "\n",
        "\n",
        "\n",
        "\n",
        "```\n",
        "#Import random\n",
        "randomlist = []\n",
        "for i in range(0,5):\n",
        "    n = random.randint(1,30)\n",
        "    randomlist.append(n)\n",
        "print(randomlist)\n",
        "```\n",
        "\n",
        "Esse comando gera numeros aleatórios:\n",
        "import random (resumindo permite o uso do comando)\n",
        "for i in range(0,5) (esse for é para gerar 5 números aleatório)\n",
        "n = random.randint(1,30) (esse comando é para gerar números aleatórios entre 1 e 30)\n",
        "print(randomlist) (impressão dos números aleatórios\n",
        "\n"
      ],
      "metadata": {
        "id": "PntoNW2orMgP"
      }
    },
    {
      "cell_type": "code",
      "source": [
        "import random \n",
        "import numpy as np\n"
      ],
      "metadata": {
        "id": "i_3Q7wmGpbYv"
      },
      "execution_count": null,
      "outputs": []
    },
    {
      "cell_type": "code",
      "source": [
        "#NÚMERO ALEATÓRIO ENTRE 0 E 1\n",
        "y = random.random() \n",
        "print(y)"
      ],
      "metadata": {
        "colab": {
          "base_uri": "https://localhost:8080/"
        },
        "id": "D8X88m_21V9B",
        "outputId": "1a5f3735-8736-4a3c-88a9-2087d291a149"
      },
      "execution_count": null,
      "outputs": [
        {
          "output_type": "stream",
          "name": "stdout",
          "text": [
            "0.6417216990189537\n"
          ]
        }
      ]
    },
    {
      "cell_type": "code",
      "source": [
        "x = []\n",
        "x.append(random.random())\n",
        "print(x)"
      ],
      "metadata": {
        "colab": {
          "base_uri": "https://localhost:8080/"
        },
        "id": "ctTZuYHB5YcC",
        "outputId": "9621fc5a-e1bd-45bc-b3cf-74d5bd3f78ea"
      },
      "execution_count": null,
      "outputs": [
        {
          "output_type": "stream",
          "name": "stdout",
          "text": [
            "[0.6323381197214418]\n"
          ]
        }
      ]
    },
    {
      "cell_type": "code",
      "source": [
        "x = []\n",
        "for i in range(10):\n",
        "  x.append(random.random())\n",
        "print(x)"
      ],
      "metadata": {
        "colab": {
          "base_uri": "https://localhost:8080/"
        },
        "id": "nHiZWs7y6Rr_",
        "outputId": "84f1e91b-19fe-4b7c-af5e-6255097fb020"
      },
      "execution_count": null,
      "outputs": [
        {
          "output_type": "stream",
          "name": "stdout",
          "text": [
            "0\n",
            "1\n",
            "2\n",
            "3\n",
            "4\n",
            "5\n",
            "6\n",
            "7\n",
            "8\n",
            "9\n"
          ]
        }
      ]
    },
    {
      "cell_type": "code",
      "source": [
        "#10 NÚMEROS ALEATÓRIOS\n",
        "y = [random.random() for n in range(10)]\n",
        "print(y)\n"
      ],
      "metadata": {
        "colab": {
          "base_uri": "https://localhost:8080/"
        },
        "id": "xzApjqJjuBXK",
        "outputId": "03a4f107-16f9-4b26-f6e3-767d27c4c57a"
      },
      "execution_count": null,
      "outputs": [
        {
          "output_type": "stream",
          "name": "stdout",
          "text": [
            "[0.7116541515550118, 0.09858871225799504, 0.9049237580290922, 0.43784971219707747, 0.9118113961978246, 0.7622542694475682, 0.8441452804097378, 0.4035334311837768, 0.05586600661425667, 0.3541278436046652]\n"
          ]
        }
      ]
    },
    {
      "cell_type": "code",
      "source": [
        "list(range(10))"
      ],
      "metadata": {
        "colab": {
          "base_uri": "https://localhost:8080/"
        },
        "id": "chne-G728dP6",
        "outputId": "2bffe2cb-9efa-412d-abba-241a52620b42"
      },
      "execution_count": null,
      "outputs": [
        {
          "output_type": "execute_result",
          "data": {
            "text/plain": [
              "[0, 1, 2, 3, 4, 5, 6, 7, 8, 9]"
            ]
          },
          "metadata": {},
          "execution_count": 32
        }
      ]
    },
    {
      "cell_type": "code",
      "source": [
        "n = 10\n",
        "z = list(range(0,n))\n",
        "print(z)"
      ],
      "metadata": {
        "colab": {
          "base_uri": "https://localhost:8080/"
        },
        "id": "9lAJVrBNuQOU",
        "outputId": "4070c83b-2482-4087-9b5d-de29790f48d0"
      },
      "execution_count": null,
      "outputs": [
        {
          "output_type": "stream",
          "name": "stdout",
          "text": [
            "[0, 1, 2, 3, 4, 5, 6, 7, 8, 9]\n"
          ]
        }
      ]
    },
    {
      "cell_type": "code",
      "source": [
        "random.choice(a)\n"
      ],
      "metadata": {
        "colab": {
          "base_uri": "https://localhost:8080/"
        },
        "id": "v3SsSNjUJ7HP",
        "outputId": "8e807246-71b1-4a13-dfa3-a9d6a4ce5ed0"
      },
      "execution_count": null,
      "outputs": [
        {
          "output_type": "execute_result",
          "data": {
            "text/plain": [
              "4"
            ]
          },
          "metadata": {},
          "execution_count": 51
        }
      ]
    },
    {
      "cell_type": "code",
      "source": [
        "np.random.rand(10,3,4,5).ravel()[0]\n"
      ],
      "metadata": {
        "id": "TDMkjcGKM0KI"
      },
      "execution_count": null,
      "outputs": []
    },
    {
      "cell_type": "code",
      "source": [
        "n = 10\n",
        "a = range(5)\n",
        "x = [random.choice(a) for n in range (n)] #gerou uma lista com base na quantidade de vezes (range) estabelecido na variável 'n' de forma aleatorizada com elementos de 'a' (random.choice)\n",
        "y = [random.random() for n in range(n)]\n",
        "z = list(range(n)) #uma lista de valores de 0 a N, aleatorizada. Não sabe em que sequência está apresentada esses números;\n",
        "random.shuffle(z) #The \"shuffle()\" embaralha os elemnetos de uma função \n",
        "A=np.random.rand(n,3) #matriz de N filas com 3 colunas; \n",
        "\n",
        "print(len(x))\n",
        "print(x)\n",
        "print(y)\n",
        "print('z',z)\n",
        "print(A)\n",
        "print('Done')"
      ],
      "metadata": {
        "colab": {
          "base_uri": "https://localhost:8080/"
        },
        "id": "SlfewZXvqFIl",
        "outputId": "7aedbbce-3954-4103-c1a6-fd087c9072fa"
      },
      "execution_count": null,
      "outputs": [
        {
          "output_type": "stream",
          "name": "stdout",
          "text": [
            "10\n",
            "[1, 4, 4, 4, 3, 0, 3, 2, 2, 2]\n",
            "[0.3617214631937187, 0.39887637672841403, 0.6236619049031146, 0.09581048205449805, 0.8010913911916685, 0.5371814702943064, 0.12853961739834674, 0.2704114161261473, 0.3904069897735276, 0.6232286412348967]\n",
            "z [3, 9, 2, 5, 6, 0, 7, 1, 4, 8]\n",
            "[[0.04247146 0.2342727  0.56374729]\n",
            " [0.98876753 0.91339864 0.99295862]\n",
            " [0.54802012 0.62864508 0.86950966]\n",
            " [0.68519991 0.33722971 0.64487999]\n",
            " [0.40781126 0.77817221 0.77936105]\n",
            " [0.703309   0.78660978 0.87616182]\n",
            " [0.14736014 0.40538282 0.98032297]\n",
            " [0.54367627 0.34776133 0.96394112]\n",
            " [0.18921452 0.54339911 0.89193528]\n",
            " [0.14584991 0.807068   0.76190674]]\n",
            "Done\n"
          ]
        }
      ]
    },
    {
      "cell_type": "code",
      "source": [
        "x = [1, 2, 3, 4, 5]\n",
        "\n",
        "min = x[0]\n",
        "for n in range(len(x)):\n",
        "  if min > x[n]:\n",
        "     min = x[n]  \n",
        "max = x[0]\n",
        "for n in range(len(x)):\n",
        "  if max < x[n]:\n",
        "    max = x[n]\n"
      ],
      "metadata": {
        "id": "7x4I8ad8vB8h"
      },
      "execution_count": null,
      "outputs": []
    },
    {
      "cell_type": "code",
      "source": [
        "x = (x + 1)\n",
        "x_sum = x_sum + x[n]\n",
        "x_media = x_sum/x \n"
      ],
      "metadata": {
        "id": "BsYQrJlL9S40"
      },
      "execution_count": null,
      "outputs": []
    },
    {
      "cell_type": "code",
      "source": [
        "N = 10\n",
        "S = 0;\n",
        "x_sum = 0;\n",
        "for i in range(N):\n",
        "  S = S + 1 #counter\n",
        "  x_sum=x_sum+x[1]\n",
        "  #print(S)\n",
        "  #print(x_sum)\n",
        "mean_value=x_sum/S\n",
        "print(mean_value)"
      ],
      "metadata": {
        "colab": {
          "base_uri": "https://localhost:8080/"
        },
        "id": "HQn59qaT_LE_",
        "outputId": "ce703250-f624-44a4-b854-5681a73f08f7"
      },
      "execution_count": null,
      "outputs": [
        {
          "output_type": "stream",
          "name": "stdout",
          "text": [
            "2.0\n"
          ]
        }
      ]
    },
    {
      "cell_type": "code",
      "source": [
        "min = mean[2]\n",
        "for n in range(len(mean_value)):\n",
        "  if min > mean_value[n]:\n",
        "    min = mean_value[n]\n",
        "#refazer - não entendi; "
      ],
      "metadata": {
        "id": "LPHmgcESGN4w"
      },
      "execution_count": null,
      "outputs": []
    },
    {
      "cell_type": "code",
      "source": [
        "import random   #continuar... \n",
        "n = 100\n",
        "x = list(range(0, n))\n",
        "print(x)\n",
        "\n",
        "ordem=1\n",
        "\n",
        "\n",
        "for i in range(1+l, N):\n",
        "  #sorting values inascendent order\n",
        "  if (ordem == 1) & (x[j]>value_ref):  \n"
      ],
      "metadata": {
        "id": "t6q6Y9y8ImTE"
      },
      "execution_count": null,
      "outputs": []
    }
  ],
  "metadata": {
    "colab": {
      "collapsed_sections": [],
      "provenance": []
    },
    "kernelspec": {
      "display_name": "Python 3",
      "name": "python3"
    }
  },
  "nbformat": 4,
  "nbformat_minor": 0
}