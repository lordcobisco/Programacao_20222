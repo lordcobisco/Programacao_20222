{
  "nbformat": 4,
  "nbformat_minor": 0,
  "metadata": {
    "colab": {
      "provenance": [],
      "include_colab_link": true
    },
    "kernelspec": {
      "name": "python3",
      "display_name": "Python 3"
    },
    "language_info": {
      "name": "python"
    }
  },
  "cells": [
    {
      "cell_type": "markdown",
      "metadata": {
        "id": "view-in-github",
        "colab_type": "text"
      },
      "source": [
        "<a href=\"https://colab.research.google.com/github/BrunaLarissa24/Programacao_20222/blob/main/AtividadeContextualizada_Aula_6ipynb.ipynb\" target=\"_parent\"><img src=\"https://colab.research.google.com/assets/colab-badge.svg\" alt=\"Open In Colab\"/></a>"
      ]
    },
    {
      "cell_type": "markdown",
      "source": [
        "***Seja o seguinte procedimento cirúrgico:***\n",
        "\n",
        "\n",
        "1. Procedimento de anestesia: Pode-se utilizar uma diversidade de fármacos para anestesia os animais, dentre eles Ketamina e xilazina utilizados em conjunto, halotano (gasoso). Verificar a dosagem correta de acordo com o peso dos animais.\n",
        "2. Depois do anestésico ter feito efeito, deve-se posicionar o animal no estereotáxico. As barras que suportam o peso do animal devem ser posicionadas no ouvido externo do animal. Normalmente o animal dá uma pequena piscada, devido ao estímulo da musculatura responsável por este movimento. Em seguida verificar a angulação da cabeça do animal, a qual deve estar sem diferenças de angulação entre o bregma e o lambda, para ter uma superfície de cirurgia plana.\n",
        "3. Limpeza do campo de trabalho: Este procedimento requer o cumprimento de algumas etapas: Retirada da pelagem que recobre a parte superior da calota craniana, Retirada dos tecidos moles (epiderme, derme e tecido conjuntivo) até alcançar a parte óssea da caixa craniana. Por último e não menos importante deve-se limpar a calota craniana de qualquer resto de “pele” que esteja sobrando utilizando H2O2 10 volumes.\n",
        "4. Com o animal em posição e com o campo cirúrgico devidamente limpo, utiliza-se uma pequena camada de poliacrilato em todo o perímetro externo para evitar sangramentos.\n",
        "5. Após este procedimento deve-se escolher um ponto para a fixação de parafusos, de preferência na parte posterior da calota craniana, pois a camada óssea é mais espessa e suporta uma maior profundidade do parafuso. \n",
        "\n",
        "Obs: Cuidar para não aprofundar muito o parafuso. Com parafusos maiores deve-se dar até 3 voltas no parafuso.\n",
        ">> Posicionar a agulha (devidamente preparada para o tamanho da cânula e que servirá de suporte para a fixação das cânulas) sobre o bregma (ver figura acima). Fazer os cálculos de posicionamento AnteroPosterior (AP), LateroLateral (LL) e DorsoVentral (DV). Os valores utilizados para os cálculos são os valores encontrados nas réguas a partir do posicionamento da agulha.\n",
        "\n",
        ">> E. G.: Hipocampo (CA1): Valores hipotéticos para fins de cálculo.\n",
        "\n",
        ">> AP: 6,42 cm \n",
        "\n",
        ">> LL: 3,23 cm\n",
        "\n",
        ">> DV: 4,2 cm\n",
        "\n",
        ">> Isso significa que estes foram os valores encontrados em cada régua do estereotáxico e se subtrai ou soma a estes, os valores de cada estrutura ou núcleo. CA1: AP - 0,42 cm LL +/- 0,30 cm DV - 0,20 cm.\n",
        "\n",
        ">> AP: 6,42 cm – 0,42 = 6,00\n",
        "\n",
        ">> LL: 3,33 cm + 0,30 = 3,63 / - 0,30 = 3,03  (BILATERAL)\n",
        "\n",
        ">> DV: 4,20 cm – 0,20 = 4,00\n",
        "\n",
        "6. Após estes cálculos feitos é hora de localizar os pontos de inserção das cânulas-guia. Assim que estes pontos forem localizados é necessário fazer furos para a introdução das cânulas-guia. A localização destes pontos deve ser definida pelos valores encontrados nos cálculos AnteroPosterior (6,00) e LateroLateral (3,63 e 3,03). Deve-se escolher qual dos hemisférios vai ser colocada a primeira cânula, daí os dois valores para as medidas LL.\n",
        "7. Depois de posicionar a agulha, fazer um furo com a broca até alcançar as meninges. A não perfuração das meninges é o procedimento ideal, e para conseguir isso apoie a mão que segura a broca contra o assoalho ou ao estereotáxico e perfure o crânio a +- 450 de angulação.\n",
        "8. Após ter atingido este objetivo, introduza a cânula-guia previamente confeccionada até o valor DorsoVentral (4,00) que foi calculado anteriormente.\n",
        "9. Logo após drenar qualquer sangue ou líquido cefalorraquidiano que esteja saindo pelo orifício criado no crânio. Para isso utilize pequenos rolos de papel absorvente.\n",
        "10. Faça uma mistura do acrílico polimerizante com o solvente até ficar com textura espessa porém maleável (o ideal é que a mistura seja capaz de cobrir a parte desejada sem escorrer por todo o crânio). Com essa mistura faça um capacete abrangendo o crânio, a cânula-guia e o parafuso. Deixe secar até ficar suficientemente rígido. O tempo de secagem varia de acordo com a temperatura e umidade da sala. \n",
        "11. O próximo passo é a fixação da outra cânula-guia. Deve-se levantar levemente o braço do estereotáxico cuidando para que a cânula-guia previamente fixada não se movimente. Logo após, posicionar a agulha sobre o outro ponto de inserção da cânula-guia. Introduzir a cânula-guia até o valor DV (4,00) calculado previamente.\n",
        "12. Seguir novamente a descrição do item 9 e após fixar a cânula conforme item 10. De preferência espalhar o cimento sobre a maior área do crânio, sempre deixando um espaço entre o capacete e o início da área tecidual. Este cuidado previne de um futuro descolamento do capacete devido a entrada de sangue u outro líquido entre o capacete e o crânio.\n",
        "11. Levantar bem devagar seguindo as instruções do item contida no item 11. Acomodar o animal em uma caixa aquecida por uma lâmpada e sem outros animais acordados. Assim que o animal despertar colocá-lo de volta a sua caixa-moradia."
      ],
      "metadata": {
        "id": "uSOQ2SMcA6R1"
      }
    },
    {
      "cell_type": "markdown",
      "source": [
        "***Desenvolva um programa em Python que automatize o procedimento cirúrgico apresentado, assumindo que:***\n",
        "\n",
        "*   As entradas (seja informações de máquina, posicionamentos a serem medidos etc.) serão traduzidas em inputs no programa.\n",
        "*   O detalhamento das etapas é informado na tela para o usuário a cada passo do procedimento.\n",
        "*   O programa deve conter estruturas de tomada de decisão (if-elif-else).\n",
        "*   O programa deve conter estruturas de repetição (while-for).\n",
        "*   O programa deve conter pelo menos 1 variável de cada tipo (lista, tupla e dicionário)"
      ],
      "metadata": {
        "id": "HzY7rhbfAiq0"
      }
    },
    {
      "cell_type": "markdown",
      "source": [
        "Procedimento de anestesia"
      ],
      "metadata": {
        "id": "FdQkUgCQAFqp"
      }
    },
    {
      "cell_type": "code",
      "execution_count": null,
      "metadata": {
        "id": "ONJlVqC0Ae20",
        "colab": {
          "base_uri": "https://localhost:8080/"
        },
        "outputId": "3eb95bce-1b6c-4de9-8f04-31248e1cb55a"
      },
      "outputs": [
        {
          "name": "stdout",
          "output_type": "stream",
          "text": [
            "Qual o tipo de fármaco utilizado? d\n",
            "Qual o peso do animal? s\n",
            "Qual a dosagem do anestesico de acordo com o peso do animal? 5\n"
          ]
        }
      ],
      "source": [
        "while(True):\n",
        "  \n",
        "  procedimentoAnestesia = input('Qual o tipo de fármaco utilizado? ')\n",
        "  pesoAnimal = input('Qual o peso do animal? ')\n",
        "  dosagem = float(input('Qual a dosagem do anestesico de acordo com o peso do animal? '))\n",
        "  informacoes = input('Todas as informações estão corretas? (s/n) ')  \n",
        "    \n",
        "  if informacoes == 's':\n",
        "      print('Aguarde o fármaco fazer efeito, e siga para próxima etapa.')\n",
        "      break\n",
        "  else:\n",
        "      continue\n",
        "\n"
      ]
    },
    {
      "cell_type": "markdown",
      "source": [
        "Posicionamento"
      ],
      "metadata": {
        "id": "rZq2yhNRAKAy"
      }
    },
    {
      "cell_type": "code",
      "source": [
        "while(True):\n",
        "  \n",
        "  print('As perguntas devem ser respondidas com \"s\" para sim ou \"n\" para não.')\n",
        "\n",
        "  farmacoEfeito = input('O farmáco fez efeito? ')\n",
        "  if farmacoEfeito == 's':\n",
        "    print('Posicione o animal no estereotáxico.')\n",
        "  else:\n",
        "    print('Aguardar o farmáco fazer efeito, se necessário refaça a dosagem do anestesico.')\n",
        "    continue\n",
        "  \n",
        "  posicionamento = input('O animal está posicionado corretamente no estereotáxico? ')\n",
        "  if posicionamento == 's':\n",
        "    print('Não há diferenças de angulação entre o bregma e o lambda. Seguir para a próxima etapa.')\n",
        "    break\n",
        "  else:\n",
        "    print('Verificar a angulação da cabeça do animal. ')\n",
        "    continue"
      ],
      "metadata": {
        "colab": {
          "base_uri": "https://localhost:8080/"
        },
        "id": "y_31uvRAtSmv",
        "outputId": "11c621cc-4f00-43a9-ffa4-85f7cf7cd0a3"
      },
      "execution_count": null,
      "outputs": [
        {
          "output_type": "stream",
          "name": "stdout",
          "text": [
            "As perguntas devem ser respondidas com \"s\" para sim ou \"n\" para não.\n",
            "O farmáco fez efeito? n\n",
            "Aguardar o farmáco fazer efeito, se necessário refaça a dosagem do anestesico.\n",
            "As perguntas devem ser respondidas com \"s\" para sim ou \"n\" para não.\n",
            "O farmáco fez efeito? s\n",
            "Posicione o animal no estereotáxico.\n",
            "O animal está posicionado corretamente no estereotáxico? n\n",
            "Verificar a angulação da cabeça do animal. \n",
            "As perguntas devem ser respondidas com \"s\" para sim ou \"n\" para não.\n",
            "O farmáco fez efeito? s\n",
            "Posicione o animal no estereotáxico.\n",
            "O animal está posicionado corretamente no estereotáxico? s\n",
            "Não há diferenças de angulação entre o bregma e o lambda. Seguir para a próxima etapa.\n"
          ]
        }
      ]
    },
    {
      "cell_type": "markdown",
      "source": [
        "Limpeza do campo de trabalho"
      ],
      "metadata": {
        "id": "0TXnpeyuAOqG"
      }
    },
    {
      "cell_type": "code",
      "source": [
        "print('As perguntas devem ser respondidas com \"s\" para sim ou \"n\" para não.')\n",
        "lista = []\n",
        "while(True):\n",
        "  \n",
        "  retirarPelagem = input('Foi realizada a retirada da pelagem que recobre a parte superior da calota craniana? ')\n",
        "  retirarTecidosMoles = input('Foi realizada a retirada dos tecidos moles até alcançar a parte óssea da caixa craniana? ')\n",
        "  if retirarPelagem == 's' and retirarTecidosMoles == 's':\n",
        "    print('Limpar a calota craniana com H2O2.')\n",
        "    for i in range(10):\n",
        "      lista.append('Volume '+ str(i+1))\n",
        "    print(lista)\n",
        "    print('Limpeza devidamente realizada seguir para a próxima etapa.')\n",
        "    break\n",
        "  else:\n",
        "    print('Refazer procedimentos.')\n",
        "    continue  \n"
      ],
      "metadata": {
        "colab": {
          "base_uri": "https://localhost:8080/"
        },
        "id": "nnla9Y_8xtIV",
        "outputId": "22fe8707-0713-48df-f444-e897bc088058"
      },
      "execution_count": null,
      "outputs": [
        {
          "output_type": "stream",
          "name": "stdout",
          "text": [
            "As perguntas devem ser respondidas com \"s\" para sim ou \"n\" para não.\n",
            "Foi realizada a retirada da pelagem que recobre a parte superior da calota craniana? s\n",
            "Foi realizada a retirada dos tecidos moles até alcançar a parte óssea da caixa craniana? s\n",
            "Limpar a calota craniana com H2O2.\n",
            "['Volume 1', 'Volume 2', 'Volume 3', 'Volume 4', 'Volume 5', 'Volume 6', 'Volume 7', 'Volume 8', 'Volume 9', 'Volume 10']\n",
            "Limpeza devidamente realizada seguir para a próxima etapa.\n"
          ]
        }
      ]
    },
    {
      "cell_type": "markdown",
      "source": [
        "Camada de poliacrilato "
      ],
      "metadata": {
        "id": "Ua_qhqiNAam-"
      }
    },
    {
      "cell_type": "code",
      "source": [
        "while(True):\n",
        "  \n",
        "  limpeza = input('O campo cirúrgico está devidamente limpo? ')\n",
        "  \n",
        "  if posicionamento == 's' and limpeza == 's':\n",
        "     print('Colocar camada de poliacrilato em todo perémetro externo para evitar sangramentos.')\n",
        "     print('Seguir para próxima etapa.')\n",
        "     break\n",
        "  else:\n",
        "     print('Refazer procedimentos.')\n",
        "     continue"
      ],
      "metadata": {
        "colab": {
          "base_uri": "https://localhost:8080/"
        },
        "id": "M85fpNsJ9wAQ",
        "outputId": "aa4c8af5-2786-4d6d-9706-217856e25f73"
      },
      "execution_count": null,
      "outputs": [
        {
          "output_type": "stream",
          "name": "stdout",
          "text": [
            "O campo cirúrgico está devidamente limpo? s\n",
            "Colocar camada de poliacrilato em todo perémetro externo para evitar sangramentos.\n",
            "Seguir para próxima etapa.\n"
          ]
        }
      ]
    },
    {
      "cell_type": "markdown",
      "source": [
        "Ponto para a fixação de parafusos"
      ],
      "metadata": {
        "id": "Hki9hN6VAfZV"
      }
    },
    {
      "cell_type": "code",
      "source": [
        "print('Adicione as informações para realização do cálculo do ponto de fixação dos parafusos.')\n",
        "\n",
        "referenciaAP = float(input('Adicione a coorenada de referência AnteroPosterior (AP): '))\n",
        "referenciaLL = float(input('Adicione a coorenada de referência LateroLateral (LL): '))\n",
        "referenciaDV = float(input('Adicione a coorenada de referência DorsoVentral (DV): '))\n",
        "\n",
        "pontosReferencia = (referenciaAP, referenciaLL, referenciaDV)\n",
        "\n",
        "coordenadaAP = float(input('Adicione a distância AnteroPosterior (AP): '))\n",
        "coordenadaLL = float(input('Adicione a distância de referência LateroLateral (LL): '))\n",
        "coordenadaDV = float(input('Adicione a distância de referência DorsoVentral (DV): '))\n",
        "\n",
        "coordenada = (coordenadaAP, coordenadaLL, coordenadaDV)\n",
        "\n",
        "Novo_AP = pontosReferencia[0] + coordenada[0]\n",
        "Novo_LL1 = pontosReferencia[1] + coordenada[1]\n",
        "Novo_LL2 = pontosReferencia[1] - coordenada[1]\n",
        "Novo_DV = pontosReferencia[2] + coordenada[2]\n",
        "\n",
        "pontosFixacao = {'AP': Novo_AP, 'LL1': Novo_LL1, 'LL2': Novo_LL2, 'DV': Novo_DV}\n",
        "print('Os pontos para fixação dos parafusos são: ', pontosFixacao)\n",
        "print('Seguir para próxima etapa.')"
      ],
      "metadata": {
        "colab": {
          "base_uri": "https://localhost:8080/"
        },
        "id": "ZMScXGQRACMp",
        "outputId": "72ecb5ab-9542-4dfc-a9f6-fffc8e4c3a8f"
      },
      "execution_count": null,
      "outputs": [
        {
          "output_type": "stream",
          "name": "stdout",
          "text": [
            "Adicione as informações para realização do cálculo do ponto de fixação dos parafusos.\n",
            "Adicione a coorenada de referência AnteroPosterior (AP): 6.42\n",
            "Adicione a coorenada de referência LateroLateral (LL): 3.23\n",
            "Adicione a coorenada de referência DorsoVentral (DV): 4.2\n",
            "Adicione a distância AnteroPosterior (AP): -0.42\n",
            "Adicione a distância de referência LateroLateral (LL): 0.3\n",
            "Adicione a distância de referência DorsoVentral (DV): -0.2\n",
            "Os pontos para fixação dos parafusos são:  {'AP': 6.0, 'LL1': 3.53, 'LL2': 2.93, 'DV': 4.0}\n"
          ]
        }
      ]
    },
    {
      "cell_type": "markdown",
      "source": [
        "Localizar os pontos de inserção das cânulas-guia"
      ],
      "metadata": {
        "id": "udoV_gfaAh9w"
      }
    },
    {
      "cell_type": "code",
      "source": [
        "while(True):\n",
        "\n",
        "  a = float(input('Insira a posição do AP: '))\n",
        "  if a == pontosFixacao['AP']:\n",
        "    print('Agulha posicionada corretamente.')\n",
        "  else:\n",
        "    print('Insira o valor correto.')\n",
        "    continue\n",
        "\n",
        "  canula = input('Em qual dos hemisférios vai ser colocada a primeira cânula? ')\n",
        "  if canula == 'direito':\n",
        "    b1 = float(input('Insira a posição do LL direito: '))\n",
        "    if b1 == pontosFixacao['LL1']:\n",
        "      print('Agulha posicionada corretamente.')  \n",
        "    else:\n",
        "      print('Insira o valor correto.')\n",
        "    b2 = float(input('Insira a posição do LL esquerdo: '))\n",
        "    if b2 == pontosFixacao['LL2']:\n",
        "      print('Agulha posicionada corretamente.') \n",
        "    else:\n",
        "      print('Insira o valor correto.')\n",
        "      continue \n",
        "\n",
        "  if canula == 'esquerdo':\n",
        "    b2 = float(input('Insira a posição do LL esquerdo: '))\n",
        "    if b2 == pontosFixacao['LL2']:\n",
        "      print('Agulha posicionada corretamente.') \n",
        "    else:\n",
        "      print('Insira o valor correto.') \n",
        "    b1 = float(input('Insira a posição do LL direito: '))\n",
        "    if b1 == pontosFixacao['LL1']:\n",
        "      print('Agulha posicionada corretamente.')  \n",
        "    else:\n",
        "      print('Insira o valor correto.')\n",
        "      continue\n",
        "\n",
        "  print('Seguir para próxima etapa.')"
      ],
      "metadata": {
        "id": "L3UY2GltAif3",
        "colab": {
          "base_uri": "https://localhost:8080/"
        },
        "outputId": "d8cec406-9f65-4748-9775-48d61222742f"
      },
      "execution_count": null,
      "outputs": [
        {
          "output_type": "stream",
          "name": "stdout",
          "text": [
            "Insira a posição do AP: 6\n",
            "Agulha posicionada corretamente.\n",
            "Em qual dos hemisférios vai ser colocada a primeira cânula? direito\n",
            "Insira a posição do LL direito: 3.53\n",
            "Agulha posicionada corretamente.\n",
            "Insira a posição do LL esquerdo: 2.93\n",
            "Agulha posicionada corretamente.\n",
            "Insira a posição do DV: 4\n",
            "Agulha posicionada corretamente.\n"
          ]
        }
      ]
    },
    {
      "cell_type": "markdown",
      "source": [
        "Furo com a broca até alcançar as meninges."
      ],
      "metadata": {
        "id": "2PMLJtIeAj5u"
      }
    },
    {
      "cell_type": "code",
      "source": [
        "while(True):\n",
        "  perfuracao = int(input('Insira o ângulo para perfuração: '))\n",
        "  if perfuracao == 45:\n",
        "    print('Realizar furo com a broca até alcançar as meninges.')\n",
        "    break\n",
        "  else:\n",
        "    print('Insira o Ângulo correto.')\n",
        "    continue"
      ],
      "metadata": {
        "id": "ioYZrD_AAkXO",
        "colab": {
          "base_uri": "https://localhost:8080/"
        },
        "outputId": "d01d52d1-35d8-47a5-a31e-9314155fa134"
      },
      "execution_count": null,
      "outputs": [
        {
          "output_type": "stream",
          "name": "stdout",
          "text": [
            "Insira o ângulo para perfuração: 30\n",
            "Insira o Ângulo correto.\n",
            "Insira o ângulo para perfuração: 45\n",
            "Realizar furo com a broca até alcançar as meninges.\n"
          ]
        }
      ]
    },
    {
      "cell_type": "markdown",
      "source": [
        "Introduza a primeira cânula-guia"
      ],
      "metadata": {
        "id": "zNV7ECmNAk5F"
      }
    },
    {
      "cell_type": "code",
      "source": [
        "while(True):\n",
        "  c = float(input('Insira a posição do DV: '))\n",
        "  if c == pontosFixacao['DV']:\n",
        "    print('Introduza a cânula-guia previamente confeccionada.') \n",
        "    break\n",
        "  else:\n",
        "    print('Insira o valor correto.')\n",
        "    continue "
      ],
      "metadata": {
        "id": "sLnUElBmAlKZ",
        "colab": {
          "base_uri": "https://localhost:8080/"
        },
        "outputId": "083609b1-1154-4f9f-f260-1bd8ec64b519"
      },
      "execution_count": null,
      "outputs": [
        {
          "output_type": "stream",
          "name": "stdout",
          "text": [
            "Insira a posição do DV: 4\n",
            "Introduza a cânula-guia previamente confeccionada.\n"
          ]
        }
      ]
    },
    {
      "cell_type": "markdown",
      "source": [
        "Drenar fluidos"
      ],
      "metadata": {
        "id": "PRJM3yIAAlmA"
      }
    },
    {
      "cell_type": "code",
      "source": [
        "liquido = input('Há sangue ou líquido cefalorraquidiano saindo pelo orifício criado no crânio? ')\n",
        "if liquido == 's':\n",
        "  print('Utilizar pequenos rolos de papel absorvente para drenar.')\n",
        "else:\n",
        "  print('Seguir para próxima etapa.')"
      ],
      "metadata": {
        "id": "WfECLBT5Al39",
        "colab": {
          "base_uri": "https://localhost:8080/"
        },
        "outputId": "2a9d60fb-e217-4481-c7f6-8d44395ec2bd"
      },
      "execution_count": null,
      "outputs": [
        {
          "output_type": "stream",
          "name": "stdout",
          "text": [
            "Há sangue ou líquido cefalorraquidiano saindo pelo orifício criado no crânio? s\n",
            "Utilizar pequenos rolos de papel absorvente para drenar.\n"
          ]
        }
      ]
    },
    {
      "cell_type": "markdown",
      "source": [
        "Capacete "
      ],
      "metadata": {
        "id": "YFIru1MfAmNt"
      }
    },
    {
      "cell_type": "code",
      "source": [
        "print('Faça uma mistura do acrílico polimerizante com o solvente até ficar com textura espessa porém maleável.')\n",
        "capacete = input('A mistura é suficiente para cobrir o crânio, a cânula-guia e o parafuso? ')\n",
        "\n",
        "if capacete == 's':\n",
        "  while(True):\n",
        "    seco = input('O material do capacete está seco? ')\n",
        "    if seco == 's':\n",
        "      print('Seguir para o próximo passo.')\n",
        "      break\n",
        "    else:\n",
        "      print('Esperar o material secar.')\n",
        "      continue"
      ],
      "metadata": {
        "id": "RLfCz6lgAmdn",
        "colab": {
          "base_uri": "https://localhost:8080/"
        },
        "outputId": "fe6d6d8b-4933-4f47-e109-ea5ba3cf6969"
      },
      "execution_count": null,
      "outputs": [
        {
          "output_type": "stream",
          "name": "stdout",
          "text": [
            "Faça uma mistura do acrílico polimerizante com o solvente até ficar com textura espessa porém maleável.\n",
            "A mistura é suficiente para cobrir o crânio, a cânula-guia e o parafuso? s\n",
            "O material do capacete está seco? s\n",
            "Seguir para o próximo passo.\n"
          ]
        }
      ]
    },
    {
      "cell_type": "markdown",
      "source": [
        "Fixação da outra cânula-guia"
      ],
      "metadata": {
        "id": "RKJfjrdBAm2n"
      }
    },
    {
      "cell_type": "code",
      "source": [
        "print('Levante levemente o braço do estereotáxico cuidando para que a cânula-guia previamente fixada não se movimente.')\n",
        "\n",
        "while(True):\n",
        "  canula2 = input('Em qual dos hemisférios vai ser colocada a segunda cânula? ')\n",
        "  if canula2 == 'esquerdo':\n",
        "      b2 = float(input('Insira a posição do LL esquerdo: '))\n",
        "      if b2 == pontosFixacao['LL2']:\n",
        "        print('Agulha posicionada corretamente.')\n",
        "        break \n",
        "      else:\n",
        "        print('Insira o valor correto.')\n",
        "        continue \n",
        "\n",
        "  if canula2 == 'direito':\n",
        "    b1 = float(input('Insira a posição do LL direito: '))\n",
        "    if b1 == pontosFixacao['LL1']:\n",
        "      print('Agulha posicionada corretamente.') \n",
        "      break \n",
        "    else:\n",
        "      print('Insira o valor correto.')\n",
        "      continue"
      ],
      "metadata": {
        "id": "90o7mdU5AnNY",
        "colab": {
          "base_uri": "https://localhost:8080/"
        },
        "outputId": "3f140972-7b11-4b0e-8863-8c78aa52e51b"
      },
      "execution_count": null,
      "outputs": [
        {
          "output_type": "stream",
          "name": "stdout",
          "text": [
            "Levante levemente o braço do estereotáxico cuidando para que a cânula-guia previamente fixada não se movimente.\n",
            "Em qual dos hemisférios vai ser colocada a segunda cânula? direito\n",
            "Insira a posição do LL direito: 2.93\n",
            "Insira o valor correto.\n",
            "Em qual dos hemisférios vai ser colocada a segunda cânula? direito\n",
            "Insira a posição do LL direito: 3.53\n",
            "Agulha posicionada corretamente.\n"
          ]
        }
      ]
    },
    {
      "cell_type": "markdown",
      "source": [
        "Introduza a segunda cânula-guia"
      ],
      "metadata": {
        "id": "-RBkron8Anpe"
      }
    },
    {
      "cell_type": "code",
      "source": [
        "while(True):\n",
        "  c = float(input('Insira a posição do DV: '))\n",
        "  if c == pontosFixacao['DV']:\n",
        "    print('Introduza a cânula-guia previamente confeccionada.') \n",
        "    print('Seguir para próxima etapa.')\n",
        "    break\n",
        "  else:\n",
        "    print('Insira o valor correto.')\n",
        "    continue "
      ],
      "metadata": {
        "id": "z5lLQPzCAn-O",
        "colab": {
          "base_uri": "https://localhost:8080/"
        },
        "outputId": "26166618-a4d1-4cca-d65b-4f8ab4d6db8a"
      },
      "execution_count": null,
      "outputs": [
        {
          "output_type": "stream",
          "name": "stdout",
          "text": [
            "Insira a posição do DV: 4\n",
            "Introduza a cânula-guia previamente confeccionada.\n",
            "Seguir para próxima etapa.\n"
          ]
        }
      ]
    },
    {
      "cell_type": "markdown",
      "source": [
        "Drenar fluidos"
      ],
      "metadata": {
        "id": "jdAX5TnfFxnO"
      }
    },
    {
      "cell_type": "code",
      "source": [
        "liquido = input('Há sangue ou líquido cefalorraquidiano saindo pelo orifício criado no crânio? ')\n",
        "if liquido == 's':\n",
        "  print('Utilizar pequenos rolos de papel absorvente para drenar.')\n",
        "else:\n",
        "  print('Seguir para próxima etapa.')\n",
        "\n",
        "print('Levante levemente o braço do estereotáxico cuidando para que a cânula-guia previamente fixada não se movimente.')\n",
        "\n",
        "while(True):\n",
        "  canula2 = input('Em qual dos hemisférios vai ser colocada a segunda cânula? ')\n",
        "  if canula2 == 'esquerdo':\n",
        "      b2 = float(input('Insira a posição do LL esquerdo: '))\n",
        "      if b2 == pontosFixacao['LL2']:\n",
        "        print('Agulha posicionada corretamente.')\n",
        "        break \n",
        "      else:\n",
        "        print('Insira o valor correto.')\n",
        "        continue \n",
        "\n",
        "  if canula2 == 'direito':\n",
        "    b1 = float(input('Insira a posição do LL direito: '))\n",
        "    if b1 == pontosFixacao['LL1']:\n",
        "      print('Agulha posicionada corretamente.') \n",
        "      break \n",
        "    else:\n",
        "      print('Insira o valor correto.')\n",
        "      continue"
      ],
      "metadata": {
        "colab": {
          "base_uri": "https://localhost:8080/"
        },
        "id": "cSwJ-LIuFxO-",
        "outputId": "56194b8f-445d-4d24-fda4-3f619838e036"
      },
      "execution_count": null,
      "outputs": [
        {
          "output_type": "stream",
          "name": "stdout",
          "text": [
            "Há sangue ou líquido cefalorraquidiano saindo pelo orifício criado no crânio? s\n",
            "Utilizar pequenos rolos de papel absorvente para drenar.\n",
            "Levante levemente o braço do estereotáxico cuidando para que a cânula-guia previamente fixada não se movimente.\n",
            "Em qual dos hemisférios vai ser colocada a segunda cânula? direito\n",
            "Insira a posição do LL direito: 3.53\n",
            "Agulha posicionada corretamente.\n"
          ]
        }
      ]
    },
    {
      "cell_type": "markdown",
      "source": [],
      "metadata": {
        "id": "NpnBTLZNGPBb"
      }
    },
    {
      "cell_type": "code",
      "source": [
        "cirurgiaFinal = input('A cirurgia foi finalizada? ')\n",
        "if cirurgiaFinal == 's':\n",
        "   print('Acomodar o animal em uma caixa aquecida por uma lâmpada e sem outros animais acordados.')  \n",
        "else:\n",
        "   print('Realizar procedimentos que faltam para finalizar.')\n",
        "\n",
        "animalAcordou = input('O animal despertou? ')\n",
        "if animalAcordou == 's':\n",
        "  print('Colocá-lo de volta a sua caixa-moradia.')\n",
        "else:\n",
        "\n",
        "  print('Aguarde o animal despertar.')"
      ],
      "metadata": {
        "colab": {
          "base_uri": "https://localhost:8080/"
        },
        "id": "ipA129MGGtaW",
        "outputId": "93d57496-2dcb-4e39-d9fd-5264d88d872b"
      },
      "execution_count": null,
      "outputs": [
        {
          "output_type": "stream",
          "name": "stdout",
          "text": [
            "A cirurgia foi finalizada? s\n",
            "Acomodar o animal em uma caixa aquecida por uma lâmpada e sem outros animais acordados.\n",
            "O animal despertou? s\n",
            "Colocá-lo de volta a sua caixa-moradia.\n"
          ]
        }
      ]
    }
  ]
}