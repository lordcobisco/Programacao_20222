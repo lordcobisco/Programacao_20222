{
  "nbformat": 4,
  "nbformat_minor": 0,
  "metadata": {
    "colab": {
      "provenance": [],
      "mount_file_id": "1GhwAgYEZKtD3k2JrWoLbbm3dywdylq9H",
      "authorship_tag": "ABX9TyPLE+/9APd9L/Q12CBN96xg",
      "include_colab_link": true
    },
    "kernelspec": {
      "name": "python3",
      "display_name": "Python 3"
    },
    "language_info": {
      "name": "python"
    }
  },
  "cells": [
    {
      "cell_type": "markdown",
      "metadata": {
        "id": "view-in-github",
        "colab_type": "text"
      },
      "source": [
        "<a href=\"https://colab.research.google.com/github/alineroberta/Programacao_20222/blob/main/AtividadeContextualizada_Aula_5.ipynb\" target=\"_parent\"><img src=\"https://colab.research.google.com/assets/colab-badge.svg\" alt=\"Open In Colab\"/></a>"
      ]
    },
    {
      "cell_type": "markdown",
      "source": [
        "a) Realize o download dos dados de forma manual e crie uma lista e uma tupla com as informações disponíveis no documento csv (coloque pelo menos 1 linha por estado e 10 regiões de saúde diferentes, algo próximo de umas 40 linhas)."
      ],
      "metadata": {
        "id": "KX11XuiB5wNN"
      }
    },
    {
      "cell_type": "code",
      "source": [
        "# Informações retiradas da tabela: HIST_PAINEL_COVIDBR_2022_Parte2_25ago2022\n",
        "\n",
        "\n",
        "#LISTA\n",
        "lista_estado =  ['DF', 'GO', 'MS', 'MT', 'AL', 'BA', 'CE', 'MA', 'PB', 'PE', 'PI', 'RN', 'SE', 'AC', 'AM', 'PA', 'RO', 'RR', 'TO', 'ES', 'MG', 'RJ', 'SP', 'PR', 'RS', 'SC']\n",
        "lista_municipio =  ['Brasilia', 'Vila Boa', 'Ivinhema', 'Santa Carmem', 'Cacimbinhas', 'Sobradinho', 'Aracati', 'Raposa', 'Santana de Mangueira', 'Itapissuma', 'Landri Sales', 'Upanema', 'Aracaju', 'Senador Guiomard', 'Itamarati', 'Vigia', 'Vale do Anari', 'Alto Alegre', 'Santa Rita do Tocantins', 'Dores do Rio Preto', 'Rio Acima', 'Iguaba Grande', 'Guariba', 'Catanduvas', 'Sobradinho', 'Salto Veloso']\n",
        "lista_nomeRegiaoSaude =  ['DISTRITO FEDERAL', 'ENTORNO NORTE', 'DOURADOS', 'TELES PIRES', '8a REGIAO DE SAUDE', 'JUAZEIRO', '7a REGIAO ARACATI', 'SAO LUIS', '7ª REGIAO', 'RECIFE', 'VALE DOS RIOS PIAUI E ITAUEIRAS', '2a REGIAO DE SAUDE - MOSSORO', 'ARACAJU', 'BAIXO ACRE E PURUS', 'REGIONAL JURUA', 'METROPOLITANA II', 'CENTRAL', 'CENTRO NORTE', 'ILHA DO BANANAL', 'SUL', 'BELO HORIZONTE/ NOVA LIMA/ CAETE ', 'BAIXADA LITORANEA', 'HORIZONTE VERDE', '10a RS CASCAVEL', 'REGIAO 27', 'ALTO VALE DO RIO DO PEIXE']\n",
        "lista_casosAcumulado =  [779959, 549, 4847, 1309, 909, 2893, 11800, 1979, 632, 1139, 1211, 1394, 141566, 1817, 1088, 2985, 2277, 1706, 339, 1475, 1017, 7467, 4924, 1190, 2823, 1262]\n",
        "lista_casosNovos =  [4560, 1, 0, 0, 0, 0, 0, 0, 0, 0, 0, 0, 1141, -2, 0, 19, 0, 1, 0, 0, 0, 35, 0, 0, 13, 0]\n",
        "lista_obitosAcumulado =  [11725, 4, 72, 15, 12, 64, 175, 49, 5, 52, 23, 19, 2461, 43, 9, 88, 26, 39, 2, 15, 32, 155, 126, 21, 33, 8]\n",
        "lista_obitosNovos =   [12, 0, 0, 0, 0, 0, 0, -2, 0, 0, 0, 0, 3, 0, 0, 1, 0, 0, 0, 0, 0, 0, 0, 0, 0, 0]\n",
        "\n",
        "#TUPLA\n",
        "tupla_estado =  ('DF', 'GO', 'MS', 'MT', 'AL', 'AL', 'BA', 'CE', 'MA', 'PB', 'PB', 'PE', 'PI', 'RN', 'SE', 'AC', 'AM', 'PA', 'RO', 'RR', 'TO', 'ES', 'MG', 'RJ', 'SP', 'SP', 'PR', 'RS', 'SC')\n",
        "tupla_municipio =  ('Brasilia', 'Vila Boa', 'Ivinhema', 'Santa Carmem', 'Cacimbinhas', 'Jacaré dos Homens', 'Sobradinho', 'Aracati', 'Raposa', 'Salgadinho', 'Santana de Mangueira', 'Itapissuma', 'Landri Sales', 'Upanema', 'Aracaju', 'Senador Guiomard', 'Itamarati', 'Vigia', 'Vale do Anari', 'Alto Alegre', 'Santa Rita do Tocantins', 'Dores do Rio Preto', 'Rio Acima', 'Iguaba Grande', 'Biritiba Mirim', 'Guariba', 'Catanduvas', 'Sobradinho', 'Salto Veloso')\n",
        "tupla_nomeRegiaoSaude = ('DISTRITO FEDERAL', 'ENTORNO NORTE', 'DOURADOS', 'TELES PIRES', '8a REGIAO DE SAUDE', '7a REGIAO DE SAUDE', 'JUAZEIRO', '7a REGIAO ARACATI', 'SAO LUIS', '6a REGIAO', '7ª REGIAO', 'RECIFE', 'VALE DOS RIOS PIAUI E ITAUEIRAS', '2a REGIAO DE SAUDE - MOSSORO', 'ARACAJU', 'BAIXO ACRE E PURUS', 'REGIONAL JURUA', 'METROPOLITANA II', 'CENTRAL', 'CENTRO NORTE', 'ILHA DO BANANAL', 'SUL', 'BELO HORIZONTE/ NOVA LIMA/ CAETE ', 'BAIXADA LITORANEA', 'ALTO DO TIETE', 'HORIZONTE VERDE', '10a RS CASCAVEL', 'REGIAO 27', 'ALTO VALE DO RIO DO PEIXE')\n",
        "tupla_casosAcumulado =  (779959, 549, 4847, 1309, 909, 556, 2893, 11800, 1979, 236, 632, 1139, 1211, 1394, 141566, 1817, 1088, 2985, 2277, 1706, 339, 1475, 1017, 7467, 1564, 4924, 1190, 2823, 1262)\n",
        "tupla_casosNovos = (4560, 1, 0, 0, 0, 0, 0, 0, 0, 0, 0, 0, 0, 0, 1141, -2, 0, 19, 0, 1, 0, 0, 0, 35, 2, 0, 0, 13, 0)\n",
        "tupla_obitosAcumulado = (11725, 4, 72, 15, 12, 5, 64, 175, 49, 2, 5, 52, 23, 19, 2461, 43, 9, 88, 26, 39, 2, 15, 32, 155, 110, 126, 21, 33, 8)\n",
        "tupla_obitosNovos =  (12, 0, 0, 0, 0, 0, 0, 0, -2, 0, 0, 0, 0, 0, 3, 0, 0, 1, 0, 0, 0, 0, 0, 0, 0, 0, 0, 0, 0)"
      ],
      "metadata": {
        "id": "CHmYfw0g3xSE"
      },
      "execution_count": null,
      "outputs": []
    },
    {
      "cell_type": "markdown",
      "source": [
        "b) Mande printar na tela o número de casos acumulados para o estado do rio de janeiro tanto para a tupla quanto para a lista."
      ],
      "metadata": {
        "id": "m8CYlQmM56uf"
      }
    },
    {
      "cell_type": "code",
      "source": [
        "# print('index RJ (lista): ', lista_estado.index('RJ'))\n",
        "# print('index RJ (tupla): ', tupla_estado.index('RJ'))\n",
        "\n",
        "# # O indexp para o estado do RJ é 23.\n",
        "# print('número de casos acumulados no RJ (lista): ', lista_casosAcumulado [23]) #para lista\n",
        "# print('número de casos acumulados no RJ (tupla): ', tupla_casosAcumulado [23]) # para tupla\n",
        "\n",
        "print('número de casos acumulados no RJ (lista): ', lista_casosAcumulado [lista_estado.index('RJ')]) #para lista\n",
        "print('número de casos acumulados no RJ (tupla): ', tupla_casosAcumulado [tupla_estado.index('RJ')]) # para tupla"
      ],
      "metadata": {
        "colab": {
          "base_uri": "https://localhost:8080/"
        },
        "id": "xYL7RQJP4vEq",
        "outputId": "dd0f083f-8c6c-42bc-8ce2-883af7291531"
      },
      "execution_count": null,
      "outputs": [
        {
          "output_type": "stream",
          "name": "stdout",
          "text": [
            "número de casos acumulados no RJ (lista):  7467\n",
            "número de casos acumulados no RJ (tupla):  7467\n"
          ]
        }
      ]
    },
    {
      "cell_type": "markdown",
      "source": [
        "c) Apresente na tela todos os óbitos acumulados mostrando os casos apenas para o caso dos estados (sem mostrar regiões de saúde, etc..)."
      ],
      "metadata": {
        "id": "W-k6ABbv6S3B"
      }
    },
    {
      "cell_type": "code",
      "source": [
        "for estados, óbitos_acumulados in zip (lista_estado, lista_obitosAcumulado):\n",
        "  print (estados,': ', óbitos_acumulados)"
      ],
      "metadata": {
        "colab": {
          "base_uri": "https://localhost:8080/"
        },
        "id": "crPMYmIb6ThT",
        "outputId": "af69c6d0-4700-43b1-8985-fb69fe0d0e2b"
      },
      "execution_count": null,
      "outputs": [
        {
          "output_type": "stream",
          "name": "stdout",
          "text": [
            "DF :  11725\n",
            "GO :  4\n",
            "MS :  72\n",
            "MT :  15\n",
            "AL :  12\n",
            "BA :  64\n",
            "CE :  175\n",
            "MA :  49\n",
            "PB :  5\n",
            "PE :  52\n",
            "PI :  23\n",
            "RN :  19\n",
            "SE :  2461\n",
            "AC :  43\n",
            "AM :  9\n",
            "PA :  88\n",
            "RO :  26\n",
            "RR :  39\n",
            "TO :  2\n",
            "ES :  15\n",
            "MG :  32\n",
            "RJ :  155\n",
            "SP :  126\n",
            "PR :  21\n",
            "RS :  33\n",
            "SC :  8\n"
          ]
        }
      ]
    },
    {
      "cell_type": "markdown",
      "source": [
        "d) Assuma que os dados de óbitos novos para o estado da paraíba estejam errados em 10 unidades para menos. Sobrescreva a informação tanto na lista quanto na tupla, corrigindo os dados."
      ],
      "metadata": {
        "id": "dlVLQrkt6jYh"
      }
    },
    {
      "cell_type": "code",
      "source": [
        "#Correção na lista\n",
        "\n",
        "lista_estado.index('PB') #--> 9\n",
        "print('Número de mortes no estado da PB (errado): ',lista_obitosNovos[9])\n",
        "\n",
        "lista_obitosNovos.insert(9, (lista_obitosNovos[9]+ 10))\n",
        "print('Número de mortes no estado da PB (correção): ',lista_obitosNovos[9])"
      ],
      "metadata": {
        "colab": {
          "base_uri": "https://localhost:8080/"
        },
        "id": "IicAS4ts6kM4",
        "outputId": "101c0383-5dca-4b7b-fe4a-f831782728ba"
      },
      "execution_count": null,
      "outputs": [
        {
          "output_type": "stream",
          "name": "stdout",
          "text": [
            "Número de mortes no estado da PB (errado):  0\n",
            "Número de mortes no estado da PB (correção):  10\n"
          ]
        }
      ]
    },
    {
      "cell_type": "code",
      "source": [
        "#Correção na tupla\n",
        "\n",
        "tupla_estado.index('PB') #--> 9\n",
        "print('Número de mortes no estado da PB (errado): ',tupla_obitosNovos[9])\n",
        "\n",
        "#-------------------- Vai dar erro\n",
        "#tupla_obitosNovos.insert(9, (tupla_obitosNovos[9]+ 10))\n",
        "#print('Número de mortes no estado da PB (correção): ',tupla_obitosNovos[9])"
      ],
      "metadata": {
        "id": "YmsNvDQD6zpD",
        "colab": {
          "base_uri": "https://localhost:8080/"
        },
        "outputId": "4dd14860-b49e-49d7-e435-0f365964158a"
      },
      "execution_count": null,
      "outputs": [
        {
          "output_type": "stream",
          "name": "stdout",
          "text": [
            "Número de mortes no estado da PB (errado):  0\n"
          ]
        }
      ]
    },
    {
      "cell_type": "markdown",
      "source": [
        "e) As duas operações foram possíveis (lista e tupla)? Justifique."
      ],
      "metadata": {
        "id": "2oaxzLEr65xZ"
      }
    },
    {
      "cell_type": "code",
      "source": [
        "#Não foi possível realizar a alteração na tupla. O erro apresentado foi: 'tuple' object has no attribute 'insert'. Isso ocorreu porque nas tuplas não é possível fazer alterações."
      ],
      "metadata": {
        "id": "55KlTuAM66dU"
      },
      "execution_count": null,
      "outputs": []
    },
    {
      "cell_type": "markdown",
      "source": [
        "f) Crie uma nova lista com apenas dados de 1 estado e todos os municípios e adicione essa lista nova a lista já existente (append ou insert). "
      ],
      "metadata": {
        "id": "Mi7m0mUkA3D5"
      }
    },
    {
      "cell_type": "code",
      "source": [
        "RN_estado =['RN', 'RN', 'RN', 'RN', 'RN', 'RN', 'RN', 'RN', 'RN', 'RN', 'RN', 'RN', 'RN', 'RN', 'RN', 'RN', 'RN', 'RN', 'RN', 'RN', 'RN', 'RN', 'RN', 'RN', 'RN', 'RN', 'RN', 'RN', 'RN', 'RN', 'RN', 'RN', 'RN', 'RN', 'RN', 'RN', 'RN', 'RN', 'RN', 'RN', 'RN', 'RN', 'RN', 'RN', 'RN', 'RN', 'RN', 'RN', 'RN']\n",
        "RN_municipio =  ['Acari', 'Açu', 'Arês', 'Baía Formosa', 'Currais Novos', 'Doutor Severiano', 'Encanto', 'Equador', 'Espírito Santo', 'Extremoz', 'Ielmo Marinho', 'Ipanguaçu', 'Ipueira', 'Itajá', 'Itaú', 'Jaçanã', 'Jandaíra', 'Janduís', 'Januário Cicco', 'Japi', 'Jardim de Angicos', 'Jardim de Piranhas', 'Jardim do Seridó', 'João Câmara', 'João Dias', 'José da Penha', 'Jucurutu', 'Jundiá', 'Marcelino Vieira', 'Martins', 'Maxaranguape', 'Messias Targino', 'Montanhas', 'Monte Alegre', 'Monte das Gameleiras', 'Mossoró', 'Natal', 'Nísia Floresta', 'Nova Cruz', \"Olho d'Água do Borges\", 'Ouro Branco', 'Paraú', 'Pureza', 'São Gonçalo do Amarante', 'São João do Sabugi', 'São José de Mipibu', 'São José do Seridó', 'São Miguel', 'Vila Flor']\n",
        "RN_nomeRegiaoSaude = ['4ª REGIAO DE SAUDE - CAICO', '8ª REGIAO DE SAUDE - ACU', '1ª REGIAO DE SAUDE - SAO JOSE DE MIPIBU', '1ª REGIAO DE SAUDE - SAO JOSE DE MIPIBU', '4ª REGIAO DE SAUDE - CAICO', '6ª REGIAO DE SAUDE - PAU DOS FERROS', '6ª REGIAO DE SAUDE - PAU DOS FERROS', '4ª REGIAO DE SAUDE - CAICO', '1ª REGIAO DE SAUDE - SAO JOSE DE MIPIBU', '7ª REGIAO DE SAUDE - METROPOLITANA', '3ª REGIAO DE SAUDE - JOAO CAMARA', '8ª REGIAO DE SAUDE - ACU', '4ª REGIAO DE SAUDE - CAICO', '8ª REGIAO DE SAUDE - ACU', '6ª REGIAO DE SAUDE - PAU DOS FERROS', '5ª REGIAO DE SAUDE - SANTA CRUZ', '3ª REGIAO DE SAUDE - JOAO CAMARA', '2ª REGIAO DE SAUDE - MOSSORO', '5ª REGIAO DE SAUDE - SANTA CRUZ', '5ª REGIAO DE SAUDE - SANTA CRUZ', '3ª REGIAO DE SAUDE - JOAO CAMARA', '4ª REGIAO DE SAUDE - CAICO', '4ª REGIAO DE SAUDE - CAICO', '3ª REGIAO DE SAUDE - JOAO CAMARA', '6ª REGIAO DE SAUDE - PAU DOS FERROS', '6ª REGIAO DE SAUDE - PAU DOS FERROS', '4ª REGIAO DE SAUDE - CAICO', '1ª REGIAO DE SAUDE - SAO JOSE DE MIPIBU', '6ª REGIAO DE SAUDE - PAU DOS FERROS', '6ª REGIAO DE SAUDE - PAU DOS FERROS', '3ª REGIAO DE SAUDE - JOAO CAMARA', '2ª REGIAO DE SAUDE - MOSSORO', '1ª REGIAO DE SAUDE - SAO JOSE DE MIPIBU', '1ª REGIAO DE SAUDE - SAO JOSE DE MIPIBU', '1ª REGIAO DE SAUDE - SAO JOSE DE MIPIBU', '2ª REGIAO DE SAUDE - MOSSORO', '7ª REGIAO DE SAUDE - METROPOLITANA', '1ª REGIAO DE SAUDE - SAO JOSE DE MIPIBU', '1ª REGIAO DE SAUDE - SAO JOSE DE MIPIBU', '6ª REGIAO DE SAUDE - PAU DOS FERROS', '4ª REGIAO DE SAUDE - CAICO', '8ª REGIAO DE SAUDE - ACU', '3ª REGIAO DE SAUDE - JOAO CAMARA', '7ª REGIAO DE SAUDE - METROPOLITANA', '4ª REGIAO DE SAUDE - CAICO', '1ª REGIAO DE SAUDE - SAO JOSE DE MIPIBU', '4ª REGIAO DE SAUDE - CAICO', '6ª REGIAO DE SAUDE - PAU DOS FERROS', '1ª REGIAO DE SAUDE - SAO JOSE DE MIPIBU']\n",
        "RN_casosAcumulado = [1404, 10426, 1520, 732, 7107, 1571, 1086, 994, 1053, 6418, 1027, 1740, 705, 761, 534, 1196, 975, 1288, 845, 762, 430, 4479, 2290, 4808, 382, 774, 4538, 687, 1207, 948, 692, 828, 864, 1850, 224, 40999, 145679, 2729, 3458, 1314, 1078, 696, 618, 11356, 1753, 6173, 1013, 3350, 387]\n",
        "RN_casosNovos = [1, 1, 9, 1, 9, 0, 1, 0, 1, 1, 15, 13, 0, 0, 0, 0, 1, 0, 0, 0, 0, 0, 1, 0, 0, 0, 0, 40, 21, 5, 0, 2, 0, 0, 0, 0, 0, -1, 1, 0, 1, 0, 0, 0, 6, 3, 0, 0, 14, 0, 16, 0, 0, 11, 7, 0, 0, 0, 0, 0, 0, 0, 0, 0, 4, 117, 3, 1, 0, 0, 5, 0, 0, 0, 68, 259, 1, 0, 0, 7, 0, 0, 5, 0, 3, 0, 0, 0, 0, 0, 9, 0, 0, 0, 2, 0, 5, 1, 0, 0, 0, 0, 0, 0, 0, 0, 0, 0, 0, 9, 0, 0, 0, 3, 0, 0, 0, 0, 0]\n",
        "RN_obitosAcumulado = [25, 170, 27, 11, 108, 23, 19, 7, 19, 75, 10, 27, 2, 13, 15, 7, 11, 10, 9, 9, 1, 43, 26, 53, 2, 12, 57, 9, 18, 12, 7, 6, 17, 16, 6, 654, 2972, 49, 69, 9, 6, 13, 21, 247, 11, 84, 2, 51, 3]\n",
        "RN_obitosNovos = [0, 0, 0, 1, 0, 0, 0, 0, 0, 0, 0, 0, 0, 0, 0, 0, 0, 0, 0, 0, 0, 0, 0, 0, 0, 0, 0, 0, 0, 0, 0, 0, 0, 0, 0, 0, 0, 0, 0, 0, 0, 0, 0, 0, 0, 0, 0, 0, 0]"
      ],
      "metadata": {
        "id": "lWIueyxNGiB9"
      },
      "execution_count": null,
      "outputs": []
    },
    {
      "cell_type": "code",
      "source": [
        "tamanhoListaRN = len (RN_estado)\n",
        "\n",
        "for i in range (tamanhoListaRN):\n",
        "  lista_estado.append(RN_estado[i])\n",
        "  lista_municipio.append(RN_municipio[i])\n",
        "  lista_nomeRegiaoSaude.append(RN_nomeRegiaoSaude[i])\n",
        "  lista_casosAcumulado.append(RN_casosAcumulado[i])\n",
        "  lista_casosNovos.append(RN_casosNovos[i])\n",
        "  lista_obitosAcumulado.append(RN_obitosAcumulado[i])\n",
        "  lista_obitosNovos.append(RN_obitosNovos[i])\n",
        "\n",
        "print (lista_estado)\n",
        "print (lista_municipio)"
      ],
      "metadata": {
        "colab": {
          "base_uri": "https://localhost:8080/"
        },
        "id": "oAKa46q77QjW",
        "outputId": "93e1b516-7c12-4a94-fd1a-3f537d3bef31"
      },
      "execution_count": null,
      "outputs": [
        {
          "output_type": "stream",
          "name": "stdout",
          "text": [
            "['DF', 'GO', 'MS', 'MT', 'AL', 'BA', 'CE', 'MA', 'PB', 'PE', 'PI', 'RN', 'SE', 'AC', 'AM', 'PA', 'RO', 'RR', 'TO', 'ES', 'MG', 'RJ', 'SP', 'PR', 'RS', 'SC', 'RN', 'RN', 'RN', 'RN', 'RN', 'RN', 'RN', 'RN', 'RN', 'RN', 'RN', 'RN', 'RN', 'RN', 'RN', 'RN', 'RN', 'RN', 'RN', 'RN', 'RN', 'RN', 'RN', 'RN', 'RN', 'RN', 'RN', 'RN', 'RN', 'RN', 'RN', 'RN', 'RN', 'RN', 'RN', 'RN', 'RN', 'RN', 'RN', 'RN', 'RN', 'RN', 'RN', 'RN', 'RN', 'RN', 'RN', 'RN', 'RN', 'RN', 'RN', 'RN', 'RN', 'RN', 'RN', 'RN', 'RN', 'RN', 'RN', 'RN', 'RN', 'RN', 'RN', 'RN', 'RN', 'RN', 'RN', 'RN', 'RN', 'RN', 'RN', 'RN', 'RN', 'RN', 'RN', 'RN', 'RN', 'RN', 'RN', 'RN', 'RN', 'RN', 'RN', 'RN', 'RN', 'RN', 'RN', 'RN', 'RN', 'RN', 'RN', 'RN', 'RN', 'RN', 'RN', 'RN', 'RN', 'RN', 'RN', 'RN', 'RN', 'RN', 'RN', 'RN', 'RN', 'RN', 'RN', 'RN', 'RN', 'RN', 'RN', 'RN', 'RN', 'RN', 'RN', 'RN', 'RN', 'RN', 'RN', 'RN', 'RN', 'RN', 'RN', 'RN', 'RN', 'RN', 'RN', 'RN', 'RN', 'RN', 'RN', 'RN', 'RN', 'RN', 'RN', 'RN', 'RN', 'RN', 'RN', 'RN', 'RN', 'RN', 'RN', 'RN', 'RN', 'RN', 'RN']\n",
            "['Brasilia', 'Vila Boa', 'Ivinhema', 'Santa Carmem', 'Cacimbinhas', 'Sobradinho', 'Aracati', 'Raposa', 'Santana de Mangueira', 'Itapissuma', 'Landri Sales', 'Upanema', 'Aracaju', 'Senador Guiomard', 'Itamarati', 'Vigia', 'Vale do Anari', 'Alto Alegre', 'Santa Rita do Tocantins', 'Dores do Rio Preto', 'Rio Acima', 'Iguaba Grande', 'Guariba', 'Catanduvas', 'Sobradinho', 'Salto Veloso', 'Acari', 'Açu', 'Arês', 'Baía Formosa', 'Currais Novos', 'Doutor Severiano', 'Encanto', 'Equador', 'Espírito Santo', 'Extremoz', 'Ielmo Marinho', 'Ipanguaçu', 'Ipueira', 'Itajá', 'Itaú', 'Jaçanã', 'Jandaíra', 'Janduís', 'Januário Cicco', 'Japi', 'Jardim de Angicos', 'Jardim de Piranhas', 'Jardim do Seridó', 'João Câmara', 'João Dias', 'José da Penha', 'Jucurutu', 'Jundiá', 'Marcelino Vieira', 'Martins', 'Maxaranguape', 'Messias Targino', 'Montanhas', 'Monte Alegre', 'Monte das Gameleiras', 'Mossoró', 'Natal', 'Nísia Floresta', 'Nova Cruz', \"Olho d'Água do Borges\", 'Ouro Branco', 'Paraú', 'Pureza', 'São Gonçalo do Amarante', 'São João do Sabugi', 'São José de Mipibu', 'São José do Seridó', 'São Miguel', 'Vila Flor']\n"
          ]
        }
      ]
    },
    {
      "cell_type": "code",
      "source": [
        "#não se aplica o 'remove' aqui, pois organizei as listas por condições, e não pelos estados."
      ],
      "metadata": {
        "id": "2xclJnAGDCQR"
      },
      "execution_count": null,
      "outputs": []
    },
    {
      "cell_type": "markdown",
      "source": [
        "h) Verifique se a soma dos dados dos municípios na data de 18/08/2020 é igual ao dado da lista, mostrando na tela apenas se for verdadeiro."
      ],
      "metadata": {
        "id": "L0Dd8_1oEeTM"
      }
    },
    {
      "cell_type": "code",
      "source": [],
      "metadata": {
        "colab": {
          "base_uri": "https://localhost:8080/",
          "height": 35
        },
        "id": "rHBFIbUCEh90",
        "outputId": "292c0573-7177-4ddd-f859-630909003aee"
      },
      "execution_count": null,
      "outputs": [
        {
          "output_type": "execute_result",
          "data": {
            "text/plain": [
              "'Vila Flor'"
            ],
            "application/vnd.google.colaboratory.intrinsic+json": {
              "type": "string"
            }
          },
          "metadata": {},
          "execution_count": 36
        }
      ]
    },
    {
      "cell_type": "markdown",
      "source": [
        "i) Retorne o tamanho total da lista."
      ],
      "metadata": {
        "id": "XfUoX5yrEjp3"
      }
    },
    {
      "cell_type": "code",
      "source": [
        "#Todas as listas tem o mesmo tamanho, por isso pode escolher qualquer uma\n",
        "print('Tamanho total da lista: ',len(lista_municipio))"
      ],
      "metadata": {
        "colab": {
          "base_uri": "https://localhost:8080/"
        },
        "id": "_uvx5UmeEmD0",
        "outputId": "6c908121-bc23-4281-ffb5-b7cbe10c60ab"
      },
      "execution_count": null,
      "outputs": [
        {
          "output_type": "stream",
          "name": "stdout",
          "text": [
            "Tamanho total da lista:  75\n"
          ]
        }
      ]
    },
    {
      "cell_type": "markdown",
      "source": [
        "j) Verifique qual é o maior valor numérico de óbitos novos e o menor valor numérico de óbitos novos."
      ],
      "metadata": {
        "id": "xU590T8BHfkO"
      }
    },
    {
      "cell_type": "code",
      "source": [
        "print ('menor valor de óbidos acúmulados: ', min (lista_obitosAcumulado))\n",
        "print ('maior valor de óbidos acúmulados: ',max(lista_obitosAcumulado))"
      ],
      "metadata": {
        "colab": {
          "base_uri": "https://localhost:8080/"
        },
        "id": "pq5PKwAtHgJ1",
        "outputId": "bdb1dc23-6039-4ea6-a9cd-d4d1043b3f79"
      },
      "execution_count": null,
      "outputs": [
        {
          "output_type": "stream",
          "name": "stdout",
          "text": [
            "menor valor de óbidos acúmulados:  1\n",
            "maior valor de óbidos acúmulados:  11725\n"
          ]
        }
      ]
    },
    {
      "cell_type": "markdown",
      "source": [
        "k) Crie um dicionário de forma que seja possível encontrar os municípios associados a um estado específico e extrair os dados de casos novos em apenas um comando."
      ],
      "metadata": {
        "id": "n8azOZ5LI_6-"
      }
    },
    {
      "cell_type": "markdown",
      "source": [
        "l) Extraia os dados de Teresina/PI apresentando os casos novos com um print."
      ],
      "metadata": {
        "id": "C7xwrlwjJAtk"
      }
    }
  ]
}