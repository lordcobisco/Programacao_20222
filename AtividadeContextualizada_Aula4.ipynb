{
  "nbformat": 4,
  "nbformat_minor": 0,
  "metadata": {
    "colab": {
      "provenance": [],
      "authorship_tag": "ABX9TyNDxf2SO9tB3ePc+o1Y2jM8",
      "include_colab_link": true
    },
    "kernelspec": {
      "name": "python3",
      "display_name": "Python 3"
    },
    "language_info": {
      "name": "python"
    }
  },
  "cells": [
    {
      "cell_type": "markdown",
      "metadata": {
        "id": "view-in-github",
        "colab_type": "text"
      },
      "source": [
        "<a href=\"https://colab.research.google.com/github/BrunaLarissa24/Programacao_20222/blob/main/AtividadeContextualizada_Aula4.ipynb\" target=\"_parent\"><img src=\"https://colab.research.google.com/assets/colab-badge.svg\" alt=\"Open In Colab\"/></a>"
      ]
    },
    {
      "cell_type": "markdown",
      "source": [
        "Elabore um programa em python que atenda aos seguintes requisitos:\n",
        "Obs: Não devem ser utilizadas estruturas de programação que não estejam nas aulas 3 e 4.\n",
        "\n",
        "*   Requisito 1: Habituação\n",
        "> Se o animal está habituado, registrar em uma variável\n",
        "*   Requisito 2: Regime de aproximações sucessivas\n",
        "> * Iniciar a variável com 30cm\n",
        "> * Se a variável de aproximação diminuiu (animal aproximou), liberar 0,5ml de rec\n",
        "> * Se animal tocou na barra 20x, retornar que o experimento passou para a próxima etapa\n",
        "> * Se o som1 foi emitido e o animal tocou na barra esquerda, liberar 0,5ml de rec\n",
        "> * Caso contrário não liberar nada\n",
        "> * Se o som2 foi emitido e o animal tocou na barra direita, liberar 0,5ml de rec\n",
        "> * Caso contrário não liberar nada\n",
        "> * Se o experimento foi realizado 50x em 30min, apresentar que o experimento seguirá para a próxima fase.\n",
        "\n",
        "\n",
        "\n",
        "\n"
      ],
      "metadata": {
        "id": "j307SlgFDvpH"
      }
    },
    {
      "cell_type": "code",
      "execution_count": null,
      "metadata": {
        "id": "_HpTQ1nwDMzg",
        "colab": {
          "base_uri": "https://localhost:8080/"
        },
        "outputId": "c9aa5890-a861-4a77-8e11-ebd7d26783c7"
      },
      "outputs": [
        {
          "name": "stdout",
          "output_type": "stream",
          "text": [
            "O animal foi habituado? (s/n): s\n"
          ]
        }
      ],
      "source": [
        "habituacao = input('O animal foi habituado? (s/n): ')"
      ]
    },
    {
      "cell_type": "code",
      "source": [
        "distanciaInicial = 30\n",
        "\n",
        "novaDistancia = float(input('Qual a nova distância do animal? '))\n",
        "\n",
        "if  distanciaInicial > novaDistancia:\n",
        "    print('Liberar 0,5ml de recompensa.')\n",
        "else:\n",
        "    print('Não liberar recompensa.')"
      ],
      "metadata": {
        "colab": {
          "base_uri": "https://localhost:8080/"
        },
        "id": "CRNh9dbWYSyk",
        "outputId": "6308b2be-2f38-4823-a9ea-126fec525c33"
      },
      "execution_count": null,
      "outputs": [
        {
          "output_type": "stream",
          "name": "stdout",
          "text": [
            "Qual a nova distância do animal? 25\n",
            "Liberar 0,5ml de recompensa.\n"
          ]
        }
      ]
    },
    {
      "cell_type": "code",
      "source": [
        "toque20 = int(input('Quantas vezes o animal tocou na barra? '))\n",
        "if toque20 >= 20:\n",
        "    print('O experimento passou para a próxima etapa.')\n",
        "else:\n",
        "    print('O experimento não passou para a próxima etapa.')"
      ],
      "metadata": {
        "colab": {
          "base_uri": "https://localhost:8080/"
        },
        "id": "lMbmqkY6e_yZ",
        "outputId": "2f56fe22-1a57-4336-c886-c74a8c76ace2"
      },
      "execution_count": null,
      "outputs": [
        {
          "output_type": "stream",
          "name": "stdout",
          "text": [
            "Quantas vezes o animal tocou na barra? 20\n",
            "O experimento passou para a próxima etapa.\n"
          ]
        }
      ]
    },
    {
      "cell_type": "code",
      "source": [
        "som1 = input('Houve sinal sonoro? (s/n) ')\n",
        "toque_barraEsquerda = input('O animal tocou na barra esquerda? (s/n) ')\n",
        "\n",
        "if (som1 == 's' and toque_barraEsquerda == 's'): \n",
        "    print('Liberar 0,5ml de recompensa.')\n",
        "else:\n",
        "    print('Não liberar recompensa.')"
      ],
      "metadata": {
        "colab": {
          "base_uri": "https://localhost:8080/"
        },
        "id": "TFTtByYufEef",
        "outputId": "1c3792c9-3cc6-4f77-f401-719d969d9ed5"
      },
      "execution_count": null,
      "outputs": [
        {
          "output_type": "stream",
          "name": "stdout",
          "text": [
            "Houve sinal sonoro? (s/n) s\n",
            "O animal tocou na barra esquerda? (s/n) s\n",
            "Liberar 0,5ml de recompensa.\n"
          ]
        }
      ]
    },
    {
      "cell_type": "code",
      "source": [
        "som2 = input('Houve um novo sinal sonoro? (s/n) ')\n",
        "toque_barraDireita = input('O animal tocou na barra direita? (s/n) ')\n",
        "\n",
        "if (som2 == 's' and toque_barraDireita == 's'): \n",
        "    print('Liberar 0,5ml de recompensa.')\n",
        "else:\n",
        "    print('Não liberar recompensa.')"
      ],
      "metadata": {
        "colab": {
          "base_uri": "https://localhost:8080/"
        },
        "id": "o_ZxmGWRfKSJ",
        "outputId": "206f4742-b23e-4c49-d0ba-a743862de875"
      },
      "execution_count": null,
      "outputs": [
        {
          "output_type": "stream",
          "name": "stdout",
          "text": [
            "Houve um novo sinal sonoro? (s/n) s\n",
            "O animal tocou na barra direita? (s/n) s\n",
            "Liberar 0,5ml de recompensa.\n"
          ]
        }
      ]
    },
    {
      "cell_type": "code",
      "source": [
        "toque50 = int(input('Quantas vezes o experimento foi realizado em 30 minutos?  '))\n",
        "if toque50 >= 50:\n",
        "    print('O experimento passou para a próxima etapa.')\n",
        "else:\n",
        "    print('O experimento não passou para a próxima etapa.')"
      ],
      "metadata": {
        "id": "RN6pArmnfN4K"
      },
      "execution_count": null,
      "outputs": []
    }
  ]
}