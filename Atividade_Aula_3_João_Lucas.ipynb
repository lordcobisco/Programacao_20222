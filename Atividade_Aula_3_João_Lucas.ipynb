{
  "nbformat": 4,
  "nbformat_minor": 0,
  "metadata": {
    "colab": {
      "provenance": [],
      "include_colab_link": true
    },
    "kernelspec": {
      "name": "python3",
      "display_name": "Python 3"
    },
    "language_info": {
      "name": "python"
    }
  },
  "cells": [
    {
      "cell_type": "markdown",
      "metadata": {
        "id": "view-in-github",
        "colab_type": "text"
      },
      "source": [
        "<a href=\"https://colab.research.google.com/github/jlucas201/Programacao_20222/blob/main/Atividade_Aula_3_Jo%C3%A3o_Lucas.ipynb\" target=\"_parent\"><img src=\"https://colab.research.google.com/assets/colab-badge.svg\" alt=\"Open In Colab\"/></a>"
      ]
    },
    {
      "cell_type": "markdown",
      "source": [
        "atividade 03\n"
      ],
      "metadata": {
        "id": "_3oAAiKivnTm"
      }
    },
    {
      "cell_type": "markdown",
      "source": [],
      "metadata": {
        "id": "UIONetDee4cM"
      }
    },
    {
      "cell_type": "markdown",
      "source": [
        "Atividade Contextualizada"
      ],
      "metadata": {
        "id": "MSZdFgDoxSsV"
      }
    },
    {
      "cell_type": "code",
      "source": [
        "tipocelular='epitelio'\n",
        "resolucao='512x512'\n",
        "faixa='200'\n",
        "Contraste='s'\n",
        "volts='220v'\n",
        "Digital='s'\n",
        "Tamanho='80 cm'\n",
        "Ano='2005'\n",
        "Modelo='zeiss'\n",
        "Cor='preto'\n",
        "\n",
        "print('recebimento de  dados para a configuração de microscopio')\n",
        "tipo_celular=input('Qual o tipo de célula? ')\n",
        "mudanca1=input('houve mudança na variavel inserida?(s/n)')\n",
        "print((mudanca1=='s' and tipo_celular!=tipocelular) or (mudanca1=='n' and tipo_celular==tipocelular))\n",
        "resolucao_imagem=input('qual a resolução da imagem?')\n",
        "mudanca1=input('houve mudança na variavel inserida?(s/n)')\n",
        "print((mudanca1=='s' and resolucao_imagem!=resolucao) or (mudanca1=='n' and resolucao_imagem==resolucao))\n",
        "faixa_iluminação=input('qual a faixa de iluminação desejada? ')\n",
        "mudanca1=input('houve mudança na variavel inserida?(s/n)')\n",
        "print((mudanca1=='s' and faixa_iluminação!=faixa) or (mudanca1=='n' and faixa_iluminação==faixa))\n",
        "contraste=input('Há contraste na lamina? (s)')\n",
        "mudanca1=input('houve mudança na variavel inserida?(s/n)')\n",
        "print((mudanca1=='s' and contraste!=Contraste) or (mudanca1=='n' and contraste==Contraste))\n",
        "voltagem=input('Qual a voltagem do equipamento?')\n",
        "mudanca1=input('houve mudança na variavel inserida?(s/n)')\n",
        "print((mudanca1=='s' and voltagem!=volts) or (mudanca1=='n' and voltagem==volts))\n",
        "digital=input('O microscopio é digital?')\n",
        "mudanca1=input('houve mudança na variavel inserida?(s/n)')\n",
        "print((mudanca1=='s' and digital!=Digital) or (mudanca1=='n' and digital==Digital))\n",
        "tamanho=input('qual o tamanho do microscopio?')\n",
        "mudanca1=input('houve mudança na variavel inserida?(s/n)')\n",
        "print((mudanca1=='s' and tamanho!=Tamanho) or (mudanca1=='n' and tamanho==Tamanho))\n",
        "ano=input('ano de fabricação')\n",
        "mudanca1=input('houve mudança na variavel inserida?(s/n)')\n",
        "print((mudanca1=='s' and ano!=Ano) or (mudanca1=='n' and ano==Ano))\n",
        "modelo=input('modelo?')\n",
        "mudanca1=input('houve mudança na variavel inserida?(s/n)')\n",
        "print((mudanca1=='s' and modelo!=Modelo) or (mudanca1=='n' and modelo==Modelo))\n",
        "cor=input('qual a cor?')\n",
        "mudanca1=input('houve mudança na variavel inserida?(s/n)')\n",
        "print((mudanca1=='s' and cor!=Cor) or (mudanca1=='n' and cor==Cor))\n"
      ],
      "metadata": {
        "id": "aaROgNn3xYle",
        "colab": {
          "base_uri": "https://localhost:8080/"
        },
        "outputId": "a5525f09-677f-4f06-8e09-057cfe203ec7"
      },
      "execution_count": null,
      "outputs": [
        {
          "output_type": "stream",
          "name": "stdout",
          "text": [
            "recebimento de  dados para a configuração de microscopio\n",
            "Qual o tipo de célula? 8\n",
            "houve mudança na variavel inserida?(s/n)n\n",
            "False\n",
            "qual a resolução da imagem?4\n",
            "houve mudança na variavel inserida?(s/n)n\n",
            "False\n"
          ]
        }
      ]
    },
    {
      "cell_type": "code",
      "source": [
        "print('As informações de configurações setadas pelo usuário são:')\n",
        "print(tipo_celular)\n",
        "print(resolucao_imagem)\n",
        "print(faixa_iluminação)\n",
        "print(contraste)\n",
        "print(voltagem)\n",
        "print(digital)\n",
        "print(tamanho)\n",
        "print(ano)\n",
        "print(modelo)\n",
        "print(cor)"
      ],
      "metadata": {
        "colab": {
          "base_uri": "https://localhost:8080/",
          "height": 252
        },
        "id": "O1vUTD4AzG5X",
        "outputId": "bec5c8ad-0b25-4cbf-a8b6-501be9f115d5"
      },
      "execution_count": null,
      "outputs": [
        {
          "output_type": "stream",
          "name": "stdout",
          "text": [
            "As informações de configurações setadas pelo usuário são:\n"
          ]
        },
        {
          "output_type": "error",
          "ename": "NameError",
          "evalue": "ignored",
          "traceback": [
            "\u001b[0;31m---------------------------------------------------------------------------\u001b[0m",
            "\u001b[0;31mNameError\u001b[0m                                 Traceback (most recent call last)",
            "\u001b[0;32m<ipython-input-1-1194e22fa580>\u001b[0m in \u001b[0;36m<module>\u001b[0;34m\u001b[0m\n\u001b[1;32m      1\u001b[0m \u001b[0mprint\u001b[0m\u001b[0;34m(\u001b[0m\u001b[0;34m'As informações de configurações setadas pelo usuário são:'\u001b[0m\u001b[0;34m)\u001b[0m\u001b[0;34m\u001b[0m\u001b[0;34m\u001b[0m\u001b[0m\n\u001b[0;32m----> 2\u001b[0;31m \u001b[0mprint\u001b[0m\u001b[0;34m(\u001b[0m\u001b[0mtipo_celular\u001b[0m\u001b[0;34m)\u001b[0m\u001b[0;34m\u001b[0m\u001b[0;34m\u001b[0m\u001b[0m\n\u001b[0m\u001b[1;32m      3\u001b[0m \u001b[0mprint\u001b[0m\u001b[0;34m(\u001b[0m\u001b[0mresolucao_imagem\u001b[0m\u001b[0;34m)\u001b[0m\u001b[0;34m\u001b[0m\u001b[0;34m\u001b[0m\u001b[0m\n\u001b[1;32m      4\u001b[0m \u001b[0mprint\u001b[0m\u001b[0;34m(\u001b[0m\u001b[0mfaixa_iluminação\u001b[0m\u001b[0;34m)\u001b[0m\u001b[0;34m\u001b[0m\u001b[0;34m\u001b[0m\u001b[0m\n\u001b[1;32m      5\u001b[0m \u001b[0mprint\u001b[0m\u001b[0;34m(\u001b[0m\u001b[0mcontraste\u001b[0m\u001b[0;34m)\u001b[0m\u001b[0;34m\u001b[0m\u001b[0;34m\u001b[0m\u001b[0m\n",
            "\u001b[0;31mNameError\u001b[0m: name 'tipo_celular' is not defined"
          ]
        }
      ]
    },
    {
      "cell_type": "code",
      "source": [
        "listax = input('Digite 10x a tecla correspondente à primeira letra do seu nome: ')\n",
        "listay = input('Digite 10x a tecla correspondente à ultima letra do seu nome: ')\n",
        "resposta=input('A informação foi digitada corretamente?')\n",
        "print('proxima fase')"
      ],
      "metadata": {
        "id": "AIWg9RU6BHno",
        "outputId": "10709e00-cdb4-4566-9fef-cb03b15e781d",
        "colab": {
          "base_uri": "https://localhost:8080/"
        }
      },
      "execution_count": null,
      "outputs": [
        {
          "output_type": "stream",
          "name": "stdout",
          "text": [
            "Digite 10x a tecla correspondente à primeira letra do seu nome: s\n",
            "Digite 10x a tecla correspondente à ultima letra do seu nome: j\n",
            "A informação foi digitada corretamente?s\n",
            "proxima fase\n"
          ]
        }
      ]
    },
    {
      "cell_type": "code",
      "source": [
        "listax = input('Digite 10x a tecla correspondente à segunda letra do seu nome: ')\n",
        "listay = input('Digite 10x a tecla correspondente à penúltima letra do seu nome: ')\n",
        "resposta=input('A informação foi digitada corretamente?')\n",
        "print('proxima fase')"
      ],
      "metadata": {
        "id": "SzTX-Dlr0oQ6"
      },
      "execution_count": null,
      "outputs": []
    },
    {
      "cell_type": "code",
      "source": [
        "print('Houve o término da claibração do sistema')"
      ],
      "metadata": {
        "id": "Heo9kBDWBOxi"
      },
      "execution_count": null,
      "outputs": []
    }
  ]
}