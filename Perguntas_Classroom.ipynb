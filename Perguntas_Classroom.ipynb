{
  "nbformat": 4,
  "nbformat_minor": 0,
  "metadata": {
    "colab": {
      "name": "Perguntas_Classroom.ipynb",
      "provenance": [],
      "authorship_tag": "ABX9TyPGWuJA0mLMtxAyYwe3TxD2",
      "include_colab_link": true
    },
    "kernelspec": {
      "name": "python3",
      "display_name": "Python 3"
    },
    "language_info": {
      "name": "python"
    }
  },
  "cells": [
    {
      "cell_type": "markdown",
      "metadata": {
        "id": "view-in-github",
        "colab_type": "text"
      },
      "source": [
        "<a href=\"https://colab.research.google.com/github/alineroberta/Programacao_20222/blob/main/Perguntas_Classroom.ipynb\" target=\"_parent\"><img src=\"https://colab.research.google.com/assets/colab-badge.svg\" alt=\"Open In Colab\"/></a>"
      ]
    },
    {
      "cell_type": "markdown",
      "source": [
        "# Perguntas - Aula 1"
      ],
      "metadata": {
        "id": "A9BRTkDswT8p"
      }
    },
    {
      "cell_type": "markdown",
      "source": [
        "### Apresente situações em que haveria ganhos de produtividade em sua vida cotidiana em consequência de aprender linguagem de programação\n",
        "> A programação auxiliaria na realização de tarefas que ainda são manuais mas podem facilmente ser automatizadas. Por exemplo, na fonoaudiologia, mais precisamente na audiologia, às vezes é necessário realizar um procedimento chamado mascaramento. O mascaramento é realizado por cálculos matemáticos simples, mas que muitas vezes geram confusão. Ademais, no âmbito de pesquisas, a tabulação de muitos dados e por muitos pesquisadores acaba gerando desgaste e desorganização dos dados. Creio que comandos simples de programação, esses problemas poderiam ser resolvidos."
      ],
      "metadata": {
        "id": "y-RTOlvVxE3C"
      }
    },
    {
      "cell_type": "markdown",
      "source": [
        "### Apresente situações em que o conhecimento de programação seria aplicável na neuroengenharia.\n",
        "> Por meio da programação é possivel fazer o processamento e análise de dados (interface cérebro-máquina), como no EEG, EMG e fNIRS. Além disso, podem ser criados dispositivos e sistemas que auxiliam na reabilitação e monitoramento dos pacientes."
      ],
      "metadata": {
        "id": "2n4yL2yZyHNP"
      }
    },
    {
      "cell_type": "markdown",
      "source": [
        "### Descreva com suas palavras como um sistema computacional se organiza\n",
        "> Um computador é composto por memória, processador e dispositivos de entrada e saída. \n",
        "* **Memória**: é que vai armazenar as informações que serão manipuladas pelo computador. Se relaciona com a crianção de variáveis nos programas.\n",
        "* **Processador**: é que vai realizar/executar diretamente as ações e cálculos.\n",
        "* **Dispositivos de entrada/saída**: são dispositivos que vão se comunicar com o computador, realizadando ações ou recebendo informações (enviando para o computador)\n",
        "** Dispositivos de entrada: mouse, scanner, teclado\n",
        "** Dispositivos de saída: impressora, fone de ouvido, monitor\n",
        "\n",
        "\n",
        "\n",
        "\n",
        "\n"
      ],
      "metadata": {
        "id": "OoG16eHR1_-x"
      }
    },
    {
      "cell_type": "markdown",
      "source": [
        "# Perguntas - Aula 2"
      ],
      "metadata": {
        "id": "WaVTElPb46yo"
      }
    },
    {
      "cell_type": "markdown",
      "source": [
        "### Apresente situações em que ferramentas de gerenciamento de projetos são necessárias.\n",
        "> Ferramentas de projeto são muito importantes quando há trabalhos com várias pessoas. Assim, podem ser definidas as demandas e também observar o que já foi feito, não sendo necessária a comunicação direta com os participantes."
      ],
      "metadata": {
        "id": "SLOiN2_D5-ND"
      }
    },
    {
      "cell_type": "markdown",
      "source": [
        "# Perguntas - Aula 3 "
      ],
      "metadata": {
        "id": "m4EJl691-mPk"
      }
    },
    {
      "cell_type": "markdown",
      "source": [
        "### Apresente situações em que a linguagem de programação Python pode ser utilizada.\n",
        "> A linguagem Pyton pode ser utilizada para diversas finalidades, dentre elas, para o processamento de sinais biológicos e desenvolvimento de softwares, aplicativos, jogos e machine learning.\n"
      ],
      "metadata": {
        "id": "NSiVpyDL_aQ8"
      }
    },
    {
      "cell_type": "markdown",
      "source": [
        "### Liste alguns recursos da linguagem Python\n",
        "> O Python é uma linguagem de alto nível, isso significa que é mais fácil de 'ler', quando comparada a outras linguagens de programação. É uma linguagem que pode ser compilada em outras linguagens. Sendo assim, é possível utilizar funções de outras linguagens nos códigos python. Os códigos python também podem ser executados em qualquer plataforma, como Linux e Max, sem precisar alterá-los.\n"
      ],
      "metadata": {
        "id": "M_Z024pq_1LK"
      }
    },
    {
      "cell_type": "markdown",
      "source": [
        "### Liste algumas vantagens em utilizar uma IDE.\n",
        "> As vantagens das IDE é que o programador tem um ambiente único em que pode escrever códigos em diferentes linguagens.  Outra vantagem é que esses programas 'sugerem' os códigos, completando informações. Por fim, essas plataformas marcam quando há erros nas linhas e sinalizam qual foi o problema."
      ],
      "metadata": {
        "id": "huI6LWohCF8M"
      }
    },
    {
      "cell_type": "markdown",
      "source": [
        "### Quais são os recursos necessários para que um programa em Python possa ser executado?\n",
        "> é necessario memória RAM, sistema operacional, uma IDE para vocês escrever os códigos, bibliotecas e conhecimentos sobre a sintaxe da linguagem e semântica/lógica da programação. "
      ],
      "metadata": {
        "id": "jdaRkbD7Fk5V"
      }
    },
    {
      "cell_type": "markdown",
      "source": [
        "# Perguntas - Aula 4"
      ],
      "metadata": {
        "id": "e2RUWYvFLG1l"
      }
    },
    {
      "cell_type": "markdown",
      "source": [
        "### Explique a necessidade de utilização de estruturas não sequenciais.\n",
        "> As estruturas não sequências criam outras rotas alternativas no programa. Nesse tipo de estrutura há uma repetição de tarefa até que uma codição seja satisfeita (ou não). Isso é o que ocorre no *while* e no *for*."
      ],
      "metadata": {
        "id": "1EmtbQwCLLey"
      }
    },
    {
      "cell_type": "markdown",
      "source": [
        "# Perguntas - Aula 6"
      ],
      "metadata": {
        "id": "0Ur-AKIDOd9u"
      }
    },
    {
      "cell_type": "markdown",
      "source": [
        "### Quais aplicações podem ser enxergadas para estruturas de repetição?\n",
        "> Estruturas de repetição são importantes para ser uzadas em situações de looping e de repetição de uma tarefa até que uma condição seja modificada. Como por exemplo, o movimento de caminhada, andar de bicicleta, mexer numa panela - são atividades que vão acontecer até que a condição modifique: chegar a um local, apertar um botão, ferver, etc. Também é interessante para ciclos, em que se terá uma repetição contada x vezes.\n"
      ],
      "metadata": {
        "id": "Ic_BEUE8Od2x"
      }
    }
  ]
}