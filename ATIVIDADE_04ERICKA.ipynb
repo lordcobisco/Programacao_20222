{
  "cells": [
    {
      "cell_type": "markdown",
      "metadata": {
        "id": "view-in-github",
        "colab_type": "text"
      },
      "source": [
        "<a href=\"https://colab.research.google.com/github/erickaraiane/Programacao_20222/blob/main/ATIVIDADE_04ERICKA.ipynb\" target=\"_parent\"><img src=\"https://colab.research.google.com/assets/colab-badge.svg\" alt=\"Open In Colab\"/></a>"
      ]
    },
    {
      "cell_type": "code",
      "execution_count": null,
      "metadata": {
        "colab": {
          "base_uri": "https://localhost:8080/"
        },
        "id": "Bt6zh_tBEJXE",
        "outputId": "3296fe5e-3bd8-4a2f-8af7-36c34ac03263"
      },
      "outputs": [
        {
          "name": "stdout",
          "output_type": "stream",
          "text": [
            "você é uma pessoa inteligente?0\n",
            "nao ser inteligente\n"
          ]
        }
      ],
      "source": [
        "x=int(input('você é uma pessoa inteligente?'))\n",
        "if(x):\n",
        "  print('continue estudando')\n",
        "else:\n",
        "  print('nao ser inteligente')"
      ]
    },
    {
      "cell_type": "code",
      "execution_count": null,
      "metadata": {
        "colab": {
          "base_uri": "https://localhost:8080/"
        },
        "id": "QmasiHOJI_dM",
        "outputId": "6a12133e-f623-4342-cc57-7bf0a4d1b516"
      },
      "outputs": [
        {
          "name": "stdout",
          "output_type": "stream",
          "text": [
            "o botao 1 foi apertado?1\n",
            "botao 2 foi apertado?0\n",
            "foram adicionada 10 gramas de comida\n",
            "foram adicionados 15 gramas de comida\n"
          ]
        }
      ],
      "source": [
        "\n",
        "b1=int(input('o botao 1 foi apertado?'))\n",
        "b2=int(input('botao 2 foi apertado?'))\n",
        "if(b1 and not b2):\n",
        "  print('foram adicionada 10 gramas de comida')\n",
        "if(not b1 and b2):\n",
        "  print('foram adicionadas 5 gramas de comida')\n",
        "if(not b1 and not b2):\n",
        "  print('nao foi adicionado nenhuma comida')\n",
        "else: \n",
        "  print('foram adicionados 15 gramas de comida')"
      ]
    },
    {
      "cell_type": "code",
      "execution_count": null,
      "metadata": {
        "colab": {
          "base_uri": "https://localhost:8080/"
        },
        "id": "ksxZeFCTQ6-L",
        "outputId": "8d2e61d9-4b5a-4794-d952-4e20e3c44016"
      },
      "outputs": [
        {
          "name": "stdout",
          "output_type": "stream",
          "text": [
            "voce e uma pessoa preguicosa1\n",
            "voce e uma pessoa inteligente0\n",
            "dificil\n"
          ]
        }
      ],
      "source": [
        "p= int(input('voce e uma pessoa preguicosa'))\n",
        "i= int(input('voce e uma pessoa inteligente'))\n",
        "if(p and not i):\n",
        "  print('dificil')\n",
        "if(not p and i):\n",
        "  print('tirar nota boa')\n",
        "if(not p and not i):\n",
        "  print('vai dar certo')\n",
        "if(p and i):\n",
        "  print('beleza')\n",
        "  \n"
      ]
    },
    {
      "cell_type": "code",
      "execution_count": null,
      "metadata": {
        "colab": {
          "base_uri": "https://localhost:8080/"
        },
        "id": "qFlMoJCrTpqb",
        "outputId": "69bf5ac0-4335-40c3-f6ea-d6d4153faba0"
      },
      "outputs": [
        {
          "name": "stdout",
          "output_type": "stream",
          "text": [
            "voce e uma pessoa preguicosas\n",
            "voce e uma pessoa inteligenten\n",
            "dificil\n"
          ]
        }
      ],
      "source": [
        "p= input('voce e uma pessoa preguicosa')\n",
        "i= input('voce e uma pessoa inteligente')\n",
        "if(p=='s' and i=='n'):\n",
        "  print('dificil')\n",
        "if(p=='n' and i=='s'):\n",
        "  print('tirar nota boa')\n",
        "if(p=='n' and i=='n'):\n",
        "  print('vai dar certo')\n",
        "if(p=='s' and i=='s'):\n",
        "  print('beleza')"
      ]
    },
    {
      "cell_type": "code",
      "execution_count": null,
      "metadata": {
        "id": "MXz_YSCeTb4h"
      },
      "outputs": [],
      "source": []
    },
    {
      "cell_type": "code",
      "execution_count": null,
      "metadata": {
        "colab": {
          "base_uri": "https://localhost:8080/"
        },
        "id": "sf88nIaSVdZe",
        "outputId": "a2aae35f-457f-419b-e18a-5d3b35c0de4f"
      },
      "outputs": [
        {
          "name": "stdout",
          "output_type": "stream",
          "text": [
            "digite um numero <54\n",
            "o valor< que 5 e 4\n"
          ]
        }
      ],
      "source": [
        "var=int(input('digite um numero <5' ))\n",
        "if(var>5):\n",
        "  print('ops esse valor e < 5')\n",
        "else:\n",
        "  print('o valor< que 5 e', var)\n",
        "   "
      ]
    },
    {
      "cell_type": "code",
      "execution_count": null,
      "metadata": {
        "colab": {
          "base_uri": "https://localhost:8080/"
        },
        "id": "Psimm0nkphxJ",
        "outputId": "5903d119-3efd-455d-fb1f-85eb1e20f552"
      },
      "outputs": [
        {
          "output_type": "stream",
          "name": "stdout",
          "text": [
            "o animal esta habituado?sim\n",
            "iniciar coleta\n",
            "o animal se aprixou 30 cm?sim\n",
            "colocar 0,5 ml de recompensa\n",
            "quantas vezes o animal tocou na barra30\n",
            "passar proxima etapa\n",
            "SOM1ACIONADO\n",
            "o animal tocou a barra direita ou barra esquerdasim\n",
            "SOM2ACIONADO\n",
            "o animal tocou a barra direita ou barra esquerdasim\n",
            "TEMPO DO EXPERIMENTO 30MIN\n",
            "quantas vezes o animal tocou a barra em 30mi?50\n",
            "continuar ensinando o animal\n"
          ]
        }
      ],
      "source": [
        "#EXERCÍCIO AULA 4\n",
        "\n",
        "#Método de discriminação de estímulos auditivos para primatas através do condicionamento operante.\n",
        "varAnimalHab = str(input('o animal esta habituado?'))\n",
        "if(varAnimalHab == 'sim'):\n",
        "  print('iniciar coleta')\n",
        "if (varAnimalHab == 'nao'):\n",
        "  print('habituar animal')\n",
        "\n",
        "prox=str(input('o animal se aprixou 30 cm?'))\n",
        "if(prox=='sim'):\n",
        "  print('colocar 0,5 ml de recompensa')\n",
        "if(prox=='nao'):\n",
        "  print('nao recebe comida')\n",
        "quantasVezesTocou = int(input('quantas vezes o animal tocou na barra'))\n",
        "if(quantasVezesTocou>20):\n",
        "  print('passar proxima etapa')\n",
        "if(quantasVezesTocou<20):\n",
        "  print('nao avanca experimento')\n",
        "print('SOM1ACIONADO')\n",
        "barra=str(input('o animal tocou a barra direita ou barra esquerda'))\n",
        "if(barra=='direita'):\n",
        "  print('libera 0,5ml de alimento')\n",
        "if(barra=='esquerda'):\n",
        "  print('nao libera comida')\n",
        "print('SOM2ACIONADO')\n",
        "barra=str(input('o animal tocou a barra direita ou barra esquerda'))\n",
        "if(barra=='direita'):\n",
        "  print('libera 0,5ml de alimento')\n",
        "if(barra=='esquerda'):\n",
        "  print('nao libera comida')\n",
        "\n",
        "print('TEMPO DO EXPERIMENTO 30MIN')\n",
        "TempoExperimento=int(input('quantas vezes o animal tocou a barra em 30mi?'))\n",
        "if(TempoExperimento<=50):\n",
        "  print('continuar ensinando o animal')\n",
        "else:\n",
        "  print('seguir proxima fase')\n",
        "\n",
        "   \n"
      ]
    }
  ],
  "metadata": {
    "colab": {
      "name": "ATIVIDADE 04ERICKA.ipynb",
      "provenance": [],
      "authorship_tag": "ABX9TyO4AV6rax9LD5wJT5ic11rm",
      "include_colab_link": true
    },
    "kernelspec": {
      "display_name": "Python 3",
      "name": "python3"
    },
    "language_info": {
      "name": "python"
    }
  },
  "nbformat": 4,
  "nbformat_minor": 0
}