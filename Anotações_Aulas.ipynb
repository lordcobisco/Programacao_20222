{
  "nbformat": 4,
  "nbformat_minor": 0,
  "metadata": {
    "colab": {
      "provenance": [],
      "authorship_tag": "ABX9TyMuo9h9YK3aC618Gg1MVCSm",
      "include_colab_link": true
    },
    "kernelspec": {
      "name": "python3",
      "display_name": "Python 3"
    },
    "language_info": {
      "name": "python"
    }
  },
  "cells": [
    {
      "cell_type": "markdown",
      "metadata": {
        "id": "view-in-github",
        "colab_type": "text"
      },
      "source": [
        "<a href=\"https://colab.research.google.com/github/alineroberta/Programacao_20222/blob/main/Anota%C3%A7%C3%B5es_Aulas.ipynb\" target=\"_parent\"><img src=\"https://colab.research.google.com/assets/colab-badge.svg\" alt=\"Open In Colab\"/></a>"
      ]
    },
    {
      "cell_type": "markdown",
      "source": [
        "# Aula 5 "
      ],
      "metadata": {
        "id": "8aH7EV6GqVet"
      }
    },
    {
      "cell_type": "markdown",
      "source": [
        "## Listas\n",
        "\n",
        "Sequência de objetos separados por vírgula e dentro de colchetes []\n",
        "* Estrutura mais utilizada \n",
        "* Permite modificar os elementos \n",
        "* Permite redimensionamento\n",
        "\n",
        "Sintaxe de criação de uma lista:\n",
        "\n",
        "\n",
        "```\n",
        "# Lista = [elemento1, elemento2, elemento3, ...]\n",
        "```\n",
        "ou \n",
        "\n",
        "```\n",
        "# Lista = []\n",
        "```\n",
        "\n",
        "\n"
      ],
      "metadata": {
        "id": "2uoka8ZYqiTS"
      }
    },
    {
      "cell_type": "markdown",
      "source": [
        "Exemplo de criação de listas"
      ],
      "metadata": {
        "id": "AD2_Ewz4NlyU"
      }
    },
    {
      "cell_type": "code",
      "source": [
        "lista_vazia = [] #lista vazia\n",
        "print(lista_vazia)\n",
        "print(type(lista_vazia))\n",
        "\n",
        "print()\n",
        "lista_aniversario = ['aline','michael jackson', 'demi lovato', 'taylor swift']\n",
        "print (lista_aniversario)\n",
        "print (type(lista_aniversario))"
      ],
      "metadata": {
        "colab": {
          "base_uri": "https://localhost:8080/"
        },
        "id": "Zl65RmxsqueN",
        "outputId": "77dde5b7-392c-4f93-fa60-e8e2dda04d2e"
      },
      "execution_count": null,
      "outputs": [
        {
          "output_type": "stream",
          "name": "stdout",
          "text": [
            "[]\n",
            "<class 'list'>\n",
            "\n",
            "['aline', 'michael jackson', 'demi lovato', 'taylor swift']\n",
            "<class 'list'>\n"
          ]
        }
      ]
    },
    {
      "cell_type": "markdown",
      "source": [
        "Lista dentro de uma lista"
      ],
      "metadata": {
        "id": "BbkMUEg8qynT"
      }
    },
    {
      "cell_type": "code",
      "source": [
        "convidado_confirmado = ['andre', True]\n",
        "lista_aniversario = [convidado_confirmado,'michael jackson', 'demi lovato', 'taylor swift'] \n",
        "print(lista_aniversario)\n"
      ],
      "metadata": {
        "colab": {
          "base_uri": "https://localhost:8080/"
        },
        "id": "3jIdf-Yhq08M",
        "outputId": "626ad9ce-1dc5-4cde-b402-03f64ed5b4c3"
      },
      "execution_count": null,
      "outputs": [
        {
          "output_type": "stream",
          "name": "stdout",
          "text": [
            "[['andre', True], 'michael jackson', 'demi lovato', 'taylor swift']\n"
          ]
        }
      ]
    },
    {
      "cell_type": "markdown",
      "source": [
        "**Operadores de acesso**\n",
        "\n",
        "* o primeiro item sempre é o 0 e o ultimo é o -1\n",
        "* [0:3] --> significa que eu quero do primeiro nome (0) ao 2ª (antes do ultimo número apresentado)"
      ],
      "metadata": {
        "id": "X3ylOxkVre7p"
      }
    },
    {
      "cell_type": "code",
      "source": [
        "print(lista_aniversario)\n",
        "print(lista_aniversario[0])\n",
        "print(lista_aniversario[1])\n",
        "print(lista_aniversario[3])\n",
        "print(lista_aniversario[0:3]) #vai imprimir do item 0 ao 2\n",
        "print(lista_aniversario[-1]) #vai imprimir o ultimo item\n",
        "print(lista_aniversario[-2]) #vai imprimir o penúltimo\n",
        "\n",
        "#dentro da lista, na posição 0 (aline, False) eu quero valor 1 (False)\n",
        "print(lista_aniversario[0][1])"
      ],
      "metadata": {
        "id": "V4JXtVYGriNY",
        "colab": {
          "base_uri": "https://localhost:8080/"
        },
        "outputId": "d418b5a6-fd5b-42a1-e376-1032da26411f"
      },
      "execution_count": null,
      "outputs": [
        {
          "output_type": "stream",
          "name": "stdout",
          "text": [
            "[['andre', True], 'michael jackson', 'demi lovato', 'taylor swift']\n",
            "['andre', True]\n",
            "michael jackson\n",
            "taylor swift\n",
            "[['andre', True], 'michael jackson', 'demi lovato']\n",
            "taylor swift\n",
            "demi lovato\n",
            "True\n"
          ]
        }
      ]
    },
    {
      "cell_type": "markdown",
      "source": [
        "Comprimento de uma lista"
      ],
      "metadata": {
        "id": "48YyFOYcQZVG"
      }
    },
    {
      "cell_type": "code",
      "source": [
        "print (lista_aniversario)\n",
        "print (len(lista_aniversario))"
      ],
      "metadata": {
        "colab": {
          "base_uri": "https://localhost:8080/"
        },
        "id": "Y6SQ0kvJQdQw",
        "outputId": "d5e4b441-c588-4807-9707-a7d967ebcb60"
      },
      "execution_count": null,
      "outputs": [
        {
          "output_type": "stream",
          "name": "stdout",
          "text": [
            "[['andre', True], 'michael jackson', 'demi lovato', 'taylor swift']\n",
            "4\n"
          ]
        }
      ]
    },
    {
      "cell_type": "markdown",
      "source": [
        "Concatenação e multiplicação"
      ],
      "metadata": {
        "id": "T6tg-AEnQsEt"
      }
    },
    {
      "cell_type": "code",
      "source": [
        "print (lista_aniversario)\n",
        "nova_lista = ['julia', 'maria', 3333, 'ana', 123]\n",
        "print (nova_lista)\n",
        "print (lista_aniversario + nova_lista) #concatenação\n",
        "print (nova_lista*3) #multiplicação"
      ],
      "metadata": {
        "colab": {
          "base_uri": "https://localhost:8080/"
        },
        "id": "cIcIaATDQuqL",
        "outputId": "172debf0-e1e7-47d6-cf66-20d0837ae805"
      },
      "execution_count": null,
      "outputs": [
        {
          "output_type": "stream",
          "name": "stdout",
          "text": [
            "[['andre', True], 'michael jackson', 'demi lovato', 'taylor swift']\n",
            "['julia', 'maria', 3333, 'ana', 123]\n",
            "[['andre', True], 'michael jackson', 'demi lovato', 'taylor swift', 'julia', 'maria', 3333, 'ana', 123]\n",
            "['julia', 'maria', 3333, 'ana', 123, 'julia', 'maria', 3333, 'ana', 123, 'julia', 'maria', 3333, 'ana', 123]\n"
          ]
        }
      ]
    },
    {
      "cell_type": "markdown",
      "source": [
        "Verificando a existência de itens em uma lista #in"
      ],
      "metadata": {
        "id": "bbcy4UsWR7Bv"
      }
    },
    {
      "cell_type": "code",
      "source": [
        "print ('demi lovato' in lista_aniversario) #pergunta. R: t/f\n",
        "print ('rihanna' in lista_aniversario)"
      ],
      "metadata": {
        "id": "fmQ6wgGkr3sy",
        "colab": {
          "base_uri": "https://localhost:8080/"
        },
        "outputId": "dc84161f-bbcb-4672-de11-5d8ec1cf8bb9"
      },
      "execution_count": null,
      "outputs": [
        {
          "output_type": "stream",
          "name": "stdout",
          "text": [
            "True\n",
            "False\n"
          ]
        }
      ]
    },
    {
      "cell_type": "code",
      "source": [
        "if 'demi lovato' in lista_aniversario:\n",
        "    print ('hos geldim, hayatim <3')"
      ],
      "metadata": {
        "id": "r3GaKzhtr5-r"
      },
      "execution_count": null,
      "outputs": []
    },
    {
      "cell_type": "markdown",
      "source": [
        "Valores mínimos, máximos e soma"
      ],
      "metadata": {
        "id": "OGGc0qaRSZBv"
      }
    },
    {
      "cell_type": "code",
      "source": [
        "lista_numeros = [5, 10, 20, 18, 50, 2, 3, 9, 100, 54]\n",
        "print (lista_numeros)\n",
        "print(min(lista_numeros))\n",
        "print(max(lista_numeros))\n",
        "print(sum(lista_numeros))\n",
        "\n",
        "# print(sum(nova_lista)) --> isso não faz pq essa lista tem strings e numeros\n",
        "#essas operações só podem ser feitas com listas de numeros"
      ],
      "metadata": {
        "colab": {
          "base_uri": "https://localhost:8080/"
        },
        "id": "XHHTxxeEScoy",
        "outputId": "013856c1-a8d4-4686-d419-174bb2863255"
      },
      "execution_count": null,
      "outputs": [
        {
          "output_type": "stream",
          "name": "stdout",
          "text": [
            "[5, 10, 20, 18, 50, 2, 3, 9, 100, 54]\n",
            "2\n",
            "100\n",
            "271\n"
          ]
        }
      ]
    },
    {
      "cell_type": "code",
      "source": [
        "numeros = [1,2,3,4,5,6,7,8,9,10]\n",
        "print (sum(numeros))\n",
        "print (min(numeros))\n",
        "print (max(numeros))"
      ],
      "metadata": {
        "colab": {
          "base_uri": "https://localhost:8080/"
        },
        "id": "jeWZO3cKsCxk",
        "outputId": "b6104478-77cb-4dc8-f7a7-6fe9d5803bd0"
      },
      "execution_count": null,
      "outputs": [
        {
          "output_type": "stream",
          "name": "stdout",
          "text": [
            "55\n",
            "1\n",
            "10\n"
          ]
        }
      ]
    },
    {
      "cell_type": "markdown",
      "source": [
        "Método das listas: \n",
        "* append = adiciona um item à lista\n",
        "```\n",
        "# lista.append('nome/valor para inserir)\n",
        "```\n",
        "\n",
        "* insert = adiciona um item também, mas tem que ser determinada a posição. ex.: na posição 2 eu quero colocar tal coisa\n",
        "```\n",
        "# lista.insert(2, 'oq vou inserir') \n",
        "```\n",
        "* pop = remover um item, dizendo o indice dele\n",
        "```\n",
        "# lista.pop(2)\n",
        "```\n",
        "* remove = vou retirar um ítem, não pelo indice, mas pelo nome dele\n",
        "```\n",
        "# lista.remove('tal coisa')\n",
        "```\n",
        "* index = uso para saber em que posição de índice está a coisa que eu quero, chamando pelo nome\n",
        "```\n",
        "# lista.index('tal coisa')\n",
        "```\n",
        "* sort = vai listar em ordem alfabética.\n",
        "```\n",
        "# lista.sort() #n pode incluir print na mesma linha\n",
        "```\n",
        "* reverse = vai inverter a ordem da lista, colocando de trás para frente.\n",
        "```\n",
        "# livros.reverse() #n pode incluir print na mesma linha\n",
        "```\n",
        "* count = vou dar o nome do item e quero saber quantas vezes ele aparece\n",
        "\n",
        "\n",
        "\n"
      ],
      "metadata": {
        "id": "PVgfveF8sIHc"
      }
    },
    {
      "cell_type": "code",
      "source": [
        "nome = ['aline', 'roberta', 'xavier']\n",
        "print(nome)\n",
        "print(nome.append('da silva')) #append = adicionar algum valor na lista\n",
        "print(nome.insert (2, 'jackson'))#insert = você insere um valor, determinando a posição dele\n",
        "#print(nome.pop(0)) #pop = remover alguma item\n",
        "#print (nome.remove('da silva')) #remove = você pode retirar um valor, dizendo exatamente seu nome, ao invés de dizer os índices\n",
        "print(nome.index('aline')) #index = pra saber em que posição está um item\n",
        "nome.sort() #ordenar por ordem alfabética\n",
        "print(nome)\n",
        "nome.reverse() #inverte a ordem da lista\n",
        "print(nome)\n",
        "print(nome.append('jackson'))\n",
        "print(nome.count('jackson')) #conta quantas vezes a coisa que eu tô procurando aparece"
      ],
      "metadata": {
        "colab": {
          "base_uri": "https://localhost:8080/"
        },
        "id": "PKyT9d1gqdCh",
        "outputId": "a9d0e60b-a75e-47e6-b1a7-eb694dac2b9b"
      },
      "execution_count": null,
      "outputs": [
        {
          "output_type": "stream",
          "name": "stdout",
          "text": [
            "['aline', 'roberta', 'xavier']\n",
            "None\n",
            "None\n",
            "0\n",
            "['aline', 'da silva', 'jackson', 'roberta', 'xavier']\n",
            "['xavier', 'roberta', 'jackson', 'da silva', 'aline']\n",
            "None\n",
            "2\n"
          ]
        }
      ]
    },
    {
      "cell_type": "markdown",
      "source": [
        "Aliasing and Cloning"
      ],
      "metadata": {
        "id": "OXvtEkf0a5Hh"
      }
    },
    {
      "cell_type": "code",
      "source": [
        "a = 81, 82, 83\n",
        "b = a\n",
        "print (a is b)"
      ],
      "metadata": {
        "colab": {
          "base_uri": "https://localhost:8080/"
        },
        "id": "Hi_0UE-TbJcQ",
        "outputId": "e82506b0-4a3c-427d-9805-80d02e71ed11"
      },
      "execution_count": null,
      "outputs": [
        {
          "output_type": "stream",
          "name": "stdout",
          "text": [
            "True\n"
          ]
        }
      ]
    },
    {
      "cell_type": "code",
      "source": [
        "a = [81, 82, 83]\n",
        "b = [81, 82, 83]\n",
        "print (a == b)\n",
        "print (a is b)"
      ],
      "metadata": {
        "colab": {
          "base_uri": "https://localhost:8080/"
        },
        "id": "bgtBsrt2bfVs",
        "outputId": "5975cba7-1553-4e25-9775-35981355c892"
      },
      "execution_count": null,
      "outputs": [
        {
          "output_type": "stream",
          "name": "stdout",
          "text": [
            "True\n",
            "False\n"
          ]
        }
      ]
    },
    {
      "cell_type": "code",
      "source": [
        "b = a\n",
        "print (a == b)\n",
        "print (a is b)\n",
        "\n",
        "b[0] = 5 #estou substituindo o item no index 0 para 5\n",
        "print(a)"
      ],
      "metadata": {
        "colab": {
          "base_uri": "https://localhost:8080/"
        },
        "id": "NOoguQ2Qbset",
        "outputId": "b1887338-259d-4ab6-9860-aea16cb0b2cb"
      },
      "execution_count": null,
      "outputs": [
        {
          "output_type": "stream",
          "name": "stdout",
          "text": [
            "True\n",
            "True\n",
            "[5, 82, 83]\n"
          ]
        }
      ]
    },
    {
      "cell_type": "markdown",
      "source": [
        "## Tuplas\n",
        "* Uma tupla é uma lista imutável que restringe a adição, alteração e remoção de elementos. \n",
        "* Uma tupla possuí as mesmas características que fundamentam as listas. \n",
        "* A diferença entre lista e tupla é que a lista é uma estrutura de dados homogéneos e Tuplas uma estrutura de dados heterogéneos. \n",
        "* Geralmente numa lista, o tipo de dados da sequência são do mesmo tipo e numa tupla, geralmente são de tipos distintos\n",
        "* Suporta sintaxe de índices e fatiamento\n",
        "* Poderosa funcionalidade de atribuição (packing/unpacking) \n",
        "* Criação é mais rápida que a lista"
      ],
      "metadata": {
        "id": "lxPK7CJxsfeJ"
      }
    },
    {
      "cell_type": "code",
      "source": [
        "p='python'\n",
        "print(p[0:0])\n",
        "print(p[0:1])\n",
        "print(p[1:2])  \n",
        "\n",
        "tupla = (1,2, 'aline', 'chocolate')\n",
        "print (type(tupla))\n",
        "print(tupla)"
      ],
      "metadata": {
        "id": "P_JvxDu7smPL",
        "colab": {
          "base_uri": "https://localhost:8080/"
        },
        "outputId": "5c6b7b3e-fae5-41de-d1f8-af2389c0d56f"
      },
      "execution_count": null,
      "outputs": [
        {
          "output_type": "stream",
          "name": "stdout",
          "text": [
            "\n",
            "p\n",
            "y\n",
            "<class 'tuple'>\n",
            "(1, 2, 'aline', 'chocolate')\n"
          ]
        }
      ]
    },
    {
      "cell_type": "markdown",
      "source": [
        "## Dicionário"
      ],
      "metadata": {
        "id": "UewwOvERswST"
      }
    },
    {
      "cell_type": "code",
      "source": [
        "dicionario = {}\n",
        "dicionario['perda severa'] = ['michael', 'jackson']\n",
        "dicionario['audição normal'] = ['rihanna', 'madonna', 'beyonce']\n",
        "print(dicionario)\n",
        "dicionario['perda severa'].append('jay-Z')\n",
        "print (dicionario)\n",
        "print(dicionario.keys())\n",
        "\n",
        "dicionario = {'convidados': ['eu mesma', 'euzinha', 'benim'], \n",
        "            'não convidados': ['você', 'you', 'sen']}\n",
        "print(dicionario[\"não convidados\"])"
      ],
      "metadata": {
        "id": "RI6AnFoZsuJ5",
        "colab": {
          "base_uri": "https://localhost:8080/"
        },
        "outputId": "121aaa1f-b5d0-4689-bedc-b3f56eb62b84"
      },
      "execution_count": null,
      "outputs": [
        {
          "output_type": "stream",
          "name": "stdout",
          "text": [
            "{'perda severa': ['michael', 'jackson'], 'audição normal': ['rihanna', 'madonna', 'beyonce']}\n",
            "{'perda severa': ['michael', 'jackson', 'jay-Z'], 'audição normal': ['rihanna', 'madonna', 'beyonce']}\n",
            "dict_keys(['perda severa', 'audição normal'])\n",
            "['você', 'you', 'sen']\n"
          ]
        }
      ]
    },
    {
      "cell_type": "code",
      "source": [
        "print(dicionario.keys()) #produz uma lista com os 'capítulos'/chave do dicionários\n",
        "print(dicionario.values()) #produz uma lista com os valores de cada capítulo\n",
        "print(dicionario.items()) #produz uma lista com tuplas de acordo com os 'capítulos'\n"
      ],
      "metadata": {
        "colab": {
          "base_uri": "https://localhost:8080/",
          "height": 270
        },
        "id": "3n5bOXaivD1B",
        "outputId": "d7a738c8-1c75-41ab-ff00-be5b28163797"
      },
      "execution_count": null,
      "outputs": [
        {
          "output_type": "stream",
          "name": "stdout",
          "text": [
            "dict_keys(['convidados', 'não convidados'])\n",
            "dict_values([['eu mesma', 'euzinha', 'benim'], ['você', 'you', 'sen']])\n",
            "dict_items([('convidados', ['eu mesma', 'euzinha', 'benim']), ('não convidados', ['você', 'you', 'sen'])])\n"
          ]
        },
        {
          "output_type": "error",
          "ename": "TypeError",
          "evalue": "ignored",
          "traceback": [
            "\u001b[0;31m---------------------------------------------------------------------------\u001b[0m",
            "\u001b[0;31mTypeError\u001b[0m                                 Traceback (most recent call last)",
            "\u001b[0;32m<ipython-input-11-34911dcb4e12>\u001b[0m in \u001b[0;36m<module>\u001b[0;34m\u001b[0m\n\u001b[1;32m      3\u001b[0m \u001b[0mprint\u001b[0m\u001b[0;34m(\u001b[0m\u001b[0mdicionario\u001b[0m\u001b[0;34m.\u001b[0m\u001b[0mitems\u001b[0m\u001b[0;34m(\u001b[0m\u001b[0;34m)\u001b[0m\u001b[0;34m)\u001b[0m \u001b[0;31m#produz uma lista com tuplas de acordo com os 'capítulos'\u001b[0m\u001b[0;34m\u001b[0m\u001b[0;34m\u001b[0m\u001b[0m\n\u001b[1;32m      4\u001b[0m \u001b[0;34m\u001b[0m\u001b[0m\n\u001b[0;32m----> 5\u001b[0;31m \u001b[0mdicionario\u001b[0m\u001b[0;34m[\u001b[0m\u001b[0;34m'convidados'\u001b[0m\u001b[0;34m]\u001b[0m\u001b[0;34m.\u001b[0m\u001b[0mpop\u001b[0m\u001b[0;34m(\u001b[0m\u001b[0;34m'benim'\u001b[0m\u001b[0;34m)\u001b[0m\u001b[0;34m\u001b[0m\u001b[0;34m\u001b[0m\u001b[0m\n\u001b[0m\u001b[1;32m      6\u001b[0m \u001b[0mprint\u001b[0m\u001b[0;34m(\u001b[0m\u001b[0mdicionario\u001b[0m\u001b[0;34m[\u001b[0m\u001b[0;34m'convidados'\u001b[0m\u001b[0;34m]\u001b[0m\u001b[0;34m)\u001b[0m\u001b[0;34m\u001b[0m\u001b[0;34m\u001b[0m\u001b[0m\n",
            "\u001b[0;31mTypeError\u001b[0m: 'str' object cannot be interpreted as an integer"
          ]
        }
      ]
    },
    {
      "cell_type": "markdown",
      "source": [
        "# Aula 6 - Estruturas de repetição: For, while"
      ],
      "metadata": {
        "id": "wTIaNw9CuYBG"
      }
    },
    {
      "cell_type": "markdown",
      "source": [
        "### Repetição contada (for)"
      ],
      "metadata": {
        "id": "kEYz-6_Y_J-r"
      }
    },
    {
      "cell_type": "code",
      "execution_count": null,
      "metadata": {
        "colab": {
          "base_uri": "https://localhost:8080/"
        },
        "id": "imICI6iHt77c",
        "outputId": "aeecf3d5-e432-4a30-f95a-1bf69bbef499"
      },
      "outputs": [
        {
          "output_type": "stream",
          "name": "stdout",
          "text": [
            "0\n",
            "1\n",
            "2\n",
            "3\n",
            "4\n",
            "5\n",
            "6\n",
            "7\n",
            "8\n",
            "9\n",
            "andré\n",
            "felipe\n",
            "oliveira\n",
            "michael\n",
            "jackson\n",
            "demi\n",
            "katy\n",
            "rihanna\n"
          ]
        }
      ],
      "source": [
        "for numeros in range (10):\n",
        "  print (numeros)\n",
        "\n",
        "lista_nomes = ['andré', 'felipe', 'oliveira', 'michael', 'jackson', 'demi', 'katy', 'rihanna']\n",
        "for nome in lista_nomes:\n",
        "  print (nome)\n"
      ]
    },
    {
      "cell_type": "markdown",
      "source": [
        "Range inverso\n",
        "\n",
        "range (inicia, para, passo)"
      ],
      "metadata": {
        "id": "41qs0jl6_Vg2"
      }
    },
    {
      "cell_type": "code",
      "source": [
        "for numeros in range(9,-5,-1):\n",
        "  print(numeros)"
      ],
      "metadata": {
        "colab": {
          "base_uri": "https://localhost:8080/"
        },
        "id": "Kd0TDCEN_XUl",
        "outputId": "b3004461-19dc-41cf-de74-7c32b1449c26"
      },
      "execution_count": null,
      "outputs": [
        {
          "output_type": "stream",
          "name": "stdout",
          "text": [
            "9\n",
            "8\n",
            "7\n",
            "6\n",
            "5\n",
            "4\n",
            "3\n",
            "2\n",
            "1\n",
            "0\n",
            "-1\n",
            "-2\n",
            "-3\n",
            "-4\n"
          ]
        }
      ]
    },
    {
      "cell_type": "markdown",
      "source": [
        "Strings"
      ],
      "metadata": {
        "id": "D9L04ddgBST3"
      }
    },
    {
      "cell_type": "code",
      "source": [
        "for letra in 'Aline Roberta':\n",
        "  print(letra)"
      ],
      "metadata": {
        "colab": {
          "base_uri": "https://localhost:8080/"
        },
        "id": "QYpEMuiQBUSh",
        "outputId": "910d9f94-9129-4346-eb8e-825de95e0dcd"
      },
      "execution_count": null,
      "outputs": [
        {
          "output_type": "stream",
          "name": "stdout",
          "text": [
            "A\n",
            "l\n",
            "i\n",
            "n\n",
            "e\n",
            " \n",
            "R\n",
            "o\n",
            "b\n",
            "e\n",
            "r\n",
            "t\n",
            "a\n"
          ]
        }
      ]
    },
    {
      "cell_type": "code",
      "source": [
        "# dados_sensor_inercial = [0.988, 3.52, 5.2]\n",
        "# dados_sensor_EEG = [0.788, 2.45, 1.36]\n",
        "# for IMU, EEG in zip (dados_sensor_inercial, dados_sensor_EEG):\n",
        "#   print (IMU, EEG)"
      ],
      "metadata": {
        "id": "z5k72hI9C4On"
      },
      "execution_count": null,
      "outputs": []
    },
    {
      "cell_type": "markdown",
      "source": [
        "### Repetição condicional (while)"
      ],
      "metadata": {
        "id": "YwiFtavIOU9C"
      }
    },
    {
      "cell_type": "code",
      "source": [
        "contador = 0\n",
        "while contador <= 5:\n",
        "  print (contador)\n",
        "  contador = contador + 1"
      ],
      "metadata": {
        "id": "VRFRP8WUOeRl",
        "colab": {
          "base_uri": "https://localhost:8080/"
        },
        "outputId": "d1b8ecd8-0ebc-42e2-c63f-3f46d6983dc0"
      },
      "execution_count": null,
      "outputs": [
        {
          "output_type": "stream",
          "name": "stdout",
          "text": [
            "0\n",
            "1\n",
            "2\n",
            "3\n",
            "4\n",
            "5\n"
          ]
        }
      ]
    },
    {
      "cell_type": "code",
      "source": [
        "continuarPrograma = True\n",
        "valorEEG = []\n",
        "valorIMU = []\n",
        "while continuarPrograma:\n",
        "  print ('menu do programa:  ')\n",
        "  print ('para ler os dados do EEG, digite 1:  ')\n",
        "  print ('para ler os dados do IMU, digite 2:  ')\n",
        "  print ('para processar os dados coletados, digite 3:  ')\n",
        "  escolha = int(input('Digite para escolher:  '))\n",
        "  if escolha ==1:\n",
        "    valorEEG.append(float(input ('insira os dados do EEG:  ')))\n",
        "  elif escolha == 2:\n",
        "    valorIMU.append(float(input('insira os dados do IMU:  ')))\n",
        "  elif escolha == 3:\n",
        "    if len (valorEEG) ==0 or len (valorIMU)==0:\n",
        "      continue\n",
        "    if len(valorEEG) == len(valorIMU):\n",
        "      for vEEG, vIMU in zip(valorEEG, valorIMU):\n",
        "        print (vEEG + vIMU)\n",
        "    else:\n",
        "      print ('tamanhos diferentes')\n",
        "      print (valorEEG, valorIMU)\n",
        "  else:\n",
        "    print('você não digitou um valor válido')\n",
        "    # continuarPrograma = False\n",
        "    break "
      ],
      "metadata": {
        "colab": {
          "base_uri": "https://localhost:8080/",
          "height": 514
        },
        "id": "G2lf7k7aQ60q",
        "outputId": "ff77fd47-9cef-468b-eb5b-60942273a30c"
      },
      "execution_count": null,
      "outputs": [
        {
          "name": "stdout",
          "output_type": "stream",
          "text": [
            "menu do programa:  \n",
            "para ler os dados do EEG, digite 1:  \n",
            "para ler os dados do IMU, digite 2:  \n",
            "para processar os dados coletados, digite 3:  \n",
            "Digite para escolher:  2\n",
            "insira os dados do IMU:  2\n",
            "menu do programa:  \n",
            "para ler os dados do EEG, digite 1:  \n",
            "para ler os dados do IMU, digite 2:  \n",
            "para processar os dados coletados, digite 3:  \n",
            "Digite para escolher:  1\n",
            "insira os dados do EEG:  2\n",
            "menu do programa:  \n",
            "para ler os dados do EEG, digite 1:  \n",
            "para ler os dados do IMU, digite 2:  \n",
            "para processar os dados coletados, digite 3:  \n",
            "Digite para escolher:  3\n"
          ]
        },
        {
          "output_type": "error",
          "ename": "TypeError",
          "evalue": "ignored",
          "traceback": [
            "\u001b[0;31m---------------------------------------------------------------------------\u001b[0m",
            "\u001b[0;31mTypeError\u001b[0m                                 Traceback (most recent call last)",
            "\u001b[0;32m<ipython-input-31-70f7aad0751f>\u001b[0m in \u001b[0;36m<module>\u001b[0;34m\u001b[0m\n\u001b[1;32m      7\u001b[0m   \u001b[0mprint\u001b[0m \u001b[0;34m(\u001b[0m\u001b[0;34m'para ler os dados do IMU, digite 2:  '\u001b[0m\u001b[0;34m)\u001b[0m\u001b[0;34m\u001b[0m\u001b[0;34m\u001b[0m\u001b[0m\n\u001b[1;32m      8\u001b[0m   \u001b[0mprint\u001b[0m \u001b[0;34m(\u001b[0m\u001b[0;34m'para processar os dados coletados, digite 3:  '\u001b[0m\u001b[0;34m)\u001b[0m\u001b[0;34m\u001b[0m\u001b[0;34m\u001b[0m\u001b[0m\n\u001b[0;32m----> 9\u001b[0;31m   \u001b[0mescolha\u001b[0m \u001b[0;34m=\u001b[0m \u001b[0mint\u001b[0m\u001b[0;34m(\u001b[0m\u001b[0minput\u001b[0m\u001b[0;34m(\u001b[0m\u001b[0;34m'Digite para escolher:  '\u001b[0m\u001b[0;34m)\u001b[0m\u001b[0;34m)\u001b[0m\u001b[0;34m\u001b[0m\u001b[0;34m\u001b[0m\u001b[0m\n\u001b[0m\u001b[1;32m     10\u001b[0m   \u001b[0;32mif\u001b[0m \u001b[0mescolha\u001b[0m \u001b[0;34m==\u001b[0m\u001b[0;36m1\u001b[0m\u001b[0;34m:\u001b[0m\u001b[0;34m\u001b[0m\u001b[0;34m\u001b[0m\u001b[0m\n\u001b[1;32m     11\u001b[0m     \u001b[0mvalorEEG\u001b[0m\u001b[0;34m.\u001b[0m\u001b[0mappend\u001b[0m\u001b[0;34m(\u001b[0m\u001b[0mfloat\u001b[0m\u001b[0;34m(\u001b[0m\u001b[0minput\u001b[0m \u001b[0;34m(\u001b[0m\u001b[0;34m'insira os dados do EEG:  '\u001b[0m\u001b[0;34m)\u001b[0m\u001b[0;34m)\u001b[0m\u001b[0;34m)\u001b[0m\u001b[0;34m\u001b[0m\u001b[0;34m\u001b[0m\u001b[0m\n",
            "\u001b[0;31mTypeError\u001b[0m: unsupported operand type(s) for +: 'float' and 'list'"
          ]
        }
      ]
    },
    {
      "cell_type": "code",
      "source": [
        "estímulo = False\n",
        "freq_escolhida = [input('qual a frequência será apresentada? (em Hz) ')]\n",
        "intensidade = int (input ('qual intensidade vai começar?'))\n",
        "\n",
        "paciente_responde = int (input('paciente respondeu? 1=sim, 0= não'))\n",
        "\n",
        "if paciente_responde == 1:\n",
        "  print ('diminuir 10dB')\n",
        "  intensidade = intensidade - 10\n",
        "  print ('intensidade em', freq_escolhida '=', intensidade)\n",
        "else:\n",
        "  print ('confirme a resposta na mesma intensidade')\n",
        "  print (intensidade)\n",
        "  \n",
        "  print ('aumentar 5dB')\n",
        "  intensidade = intensidade + 5\n",
        "  paciente_responde = int (input('paciente respondeu? 1=sim, 0= não'))\n",
        "  if paciente_responde == 1:"
      ],
      "metadata": {
        "id": "enurXkmtw8OU"
      },
      "execution_count": null,
      "outputs": []
    }
  ]
}