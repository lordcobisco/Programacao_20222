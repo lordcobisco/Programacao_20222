{
  "nbformat": 4,
  "nbformat_minor": 0,
  "metadata": {
    "colab": {
      "provenance": []
    },
    "kernelspec": {
      "name": "python3",
      "display_name": "Python 3"
    },
    "language_info": {
      "name": "python"
    }
  },
  "cells": [
    {
      "cell_type": "markdown",
      "source": [
        "TAREFA P/CASA "
      ],
      "metadata": {
        "id": "OSXo1D7MVLvt"
      }
    },
    {
      "cell_type": "code",
      "execution_count": null,
      "metadata": {
        "colab": {
          "base_uri": "https://localhost:8080/"
        },
        "id": "-yl0sxCyBnDh",
        "outputId": "682e4967-74f8-4c2b-8bbf-3dcbd2f86b8b"
      },
      "outputs": [
        {
          "output_type": "stream",
          "name": "stdout",
          "text": [
            "Mounted at /content/drive\n"
          ]
        }
      ],
      "source": [
        "from google.colab import drive\n",
        "drive.mount('/content/drive')"
      ]
    },
    {
      "cell_type": "markdown",
      "source": [
        "**Resolução da atividade do intervalo do sinal:**"
      ],
      "metadata": {
        "id": "RP9qPFXbcu06"
      }
    },
    {
      "cell_type": "code",
      "source": [
        "#Atividade slide X, forma que o prof resolveu:\n",
        "max_ref= -1000\n",
        "S2 = 0\n",
        "S = 0\n",
        "C = 0\n",
        "for j in range (0, M):\n",
        "  if f[j]>=0 and f[j]<= 0.4:\n",
        "    if p[j]> max_ref:\n",
        "      max_ref =p[j]\n",
        "    S = S + p[j]\n",
        "    C = C+1\n",
        "    S2 = S2 + f[j]*p[j]\n",
        "media = S/C\n",
        "MNF = S2/S\n",
        "print(MNF)\n",
        "print(max_ref)\n",
        "print(media)\n",
        "print(S)\n",
        "\n",
        "#Como Ezequiel resolveu:\n",
        "import pandas as pd\n",
        "p = pd.valores[data, coluns = ['p']]\n",
        "f = pd.volores[data, coluns = ['f']]\n",
        "f2 = [i for i in f if i <= ['j']]\n",
        "MNF= []\n",
        "for i in range(0, len(f2)):\n",
        "  a = p[i]*f[i]/p[i]\n",
        "MNF.append(a)\n",
        "MNF_sum = sum(MNF)\n",
        "\n",
        "#COMO GERAS RESPONDEU:\n",
        "'''P É UM VETOR'''\n",
        "'''F É UM VETOR'''\n",
        "TTP = 0\n",
        "I = 0\n",
        "while(F[i]<= 0.4):\n",
        "  TTP += P[i]\n",
        "  i += 1\n",
        "  print(TTP)\n",
        "\n",
        "#MNP\n",
        "MNP=TTP/(i-1)\n",
        "P_MAX= P[0]\n",
        "I = 0\n",
        "while (F[i] <= 0.4):\n",
        "  if p_max< P[i]:\n",
        "    p_max = P[i]\n",
        "    I += 1\n",
        "  print(p_max)\n",
        "DIV = 0 \n",
        "i = 0 \n",
        "while F[i] <= 0.4\n",
        "  DIV += F[i]*P[i]\n",
        "  I += 1\n",
        "MNF = DIV/TTP\n",
        "\n"
      ],
      "metadata": {
        "id": "a1ca2VGlCRJx"
      },
      "execution_count": null,
      "outputs": []
    },
    {
      "cell_type": "markdown",
      "source": [
        "**1) Leitura de ARQUIVOS:**\n",
        "\n",
        "'PATH = CAMINHO DA PASTA'\n",
        "\n",
        "\n",
        "```\n",
        "import panda as pd\n",
        "import matplotlib import pyplot as plt\n",
        "x=pd.read_csv(path)\n",
        "\n",
        "plt.plot(x)\n",
        "plt.plot(5*x)\n",
        "plt.xlabel('samples') #Nomeia e plota o eixo X\n",
        "plt.ylabels('Amplitude') #Nomeia e plota o eixo Y\n",
        "plt.title('Respiration signal') #Nomeia e plota o título \n",
        "plt.legend() #Plota todas as legendas \n",
        "```\n",
        "\n"
      ],
      "metadata": {
        "id": "azWI5xIvbZyS"
      }
    }
  ]
}