{
  "nbformat": 4,
  "nbformat_minor": 0,
  "metadata": {
    "colab": {
      "provenance": [],
      "collapsed_sections": [],
      "authorship_tag": "ABX9TyND5NwASOBlu6z7CeIXsLyv",
      "include_colab_link": true
    },
    "kernelspec": {
      "name": "python3",
      "display_name": "Python 3"
    },
    "language_info": {
      "name": "python"
    }
  },
  "cells": [
    {
      "cell_type": "markdown",
      "metadata": {
        "id": "view-in-github",
        "colab_type": "text"
      },
      "source": [
        "<a href=\"https://colab.research.google.com/github/jlucas201/Programacao_20222/blob/main/Atividade_Aula_5_Jo%C3%A3o_Lucas.ipynb\" target=\"_parent\"><img src=\"https://colab.research.google.com/assets/colab-badge.svg\" alt=\"Open In Colab\"/></a>"
      ]
    },
    {
      "cell_type": "code",
      "source": [
        "#a\n",
        "estados=[\"Acre \",\"Amapá\",\"Amazonas\",\"Rondônia\",\"Roraima\",\"Tocantins\",\"Pará\",\"Alagoas \",\"Bahia\",\"Ceará \",\"Maranhão\",\"Paraíba\",\"Pernambuco\",\n",
        "\"Piauí\",\"Rio Grande do Norte\",\"Sergipe\",\"Rio de Janeiro\",\"São Paulo \",\"Espírito Santo\",\"Minas Gerais\",\n",
        "\"Rio Grande do Sul\",\"Santa Catarina\",\"Paraná\",\"Distrito Federal\",\"Goiás\",\"Mato Grosso\",\"Mato Grosso do Sul\"]\n",
        "populacao=[881935,845731,4144597,1777225,605761,1572866,8602865,3337357,14873064,9132078,7075181,40181127,9557071,3273227,3506853,2298696,\n",
        "17264943,45919049,4018650,21168791,11377239,7164788,11433957,3015268,7018354,3484466,2778986]\n",
        "casos=[22605,39703,112263,48232,39665,37856,178375,72938,217115,137408,198202,96223,113183,66315,57720,68313,\n",
        "194651,702665,100859,175715,98007,121666,1275,138735,102665,74509,37425]\n",
        "casos_novos=[57,185,351,42,365,867,406,204,1085,555,583,190,225,237,178,316,372,3172,1279,1331,130,786,\n",
        "1275,2268,1073,1240,589]\n",
        "obitosAcumulados=[582,617,3505,568,1017,516,5945,1763,4475,3277,8163,2183,7210,1619,2081,1717,14566,26899,2908,4223,\n",
        "2744,1839,2733,2042,2336,2368,640]\n",
        "NovosObitos=[6,4,22,0,0,5,5,10,69,13,30,21,22,11,14,12,4,47,33,91,55,42,42,66,14,28,14]\n",
        "municipiororaiama=[\"Amajari\",\"Alto Alegre\",\"Boa Vista\",\"Bonfim\",\"Cantá\",\"Mucajaí\",\"Normandia\",\"Pacaraima\",\"Uiramutã\",\n",
        "\"caracaraí\",\"Caroebe\",\"Rorainopólis\",\"São João da Baliza\",\"São Luiz\",\"Iracema\"]"
      ],
      "metadata": {
        "id": "Hg_2IPJOOJIG"
      },
      "execution_count": null,
      "outputs": []
    },
    {
      "cell_type": "code",
      "source": [
        "#b\n",
        "print('Obitos no RJ: ',obitosAcumulados[16])\n",
        "#c\n",
        "print(obitosAcumulados)\n",
        "#d\n",
        "print('Obitos na paraiba -10: ',obitosAcumulados[11]-10)"
      ],
      "metadata": {
        "colab": {
          "base_uri": "https://localhost:8080/"
        },
        "id": "1NdXBzdNvba6",
        "outputId": "16e45028-e785-4f54-9642-c9f6e55c14e9"
      },
      "execution_count": null,
      "outputs": [
        {
          "output_type": "stream",
          "name": "stdout",
          "text": [
            "Obitos no RJ:  1717\n",
            "[582, 617, 3505, 568, 574, 1017, 516, 5945, 1763, 4475, 3277, 8163, 2183, 7210, 1619, 2081, 1717, 14566, 26899, 2908, 4223, 2744, 1839, 2733, 2042, 2336, 2368, 640]\n",
            "Obitos na paraiba -10:  8153\n"
          ]
        }
      ]
    },
    {
      "cell_type": "markdown",
      "source": [
        "#e)\n",
        "Não, pois não há como modificar uma tupla"
      ],
      "metadata": {
        "id": "AugQbGXlzBxg"
      }
    },
    {
      "cell_type": "code",
      "source": [
        "#f\n",
        "estado_municipios=[estados,municipiororaiama]\n",
        "print(estado_municipios)"
      ],
      "metadata": {
        "colab": {
          "base_uri": "https://localhost:8080/"
        },
        "id": "hdYrBQpGzNHS",
        "outputId": "e8d329e9-0de9-40cd-8eac-85a426b69f1d"
      },
      "execution_count": null,
      "outputs": [
        {
          "output_type": "stream",
          "name": "stdout",
          "text": [
            "[['Acre ', 'Amapá', 'Amazonas', 'Rondônia', 'Roraima', 'Tocantins', 'Pará', 'Alagoas ', 'Bahia', 'Ceará ', 'Maranhão', 'Paraíba', 'Pernambuco', 'Piauí', 'Rio Grande do Norte', 'Sergipe', 'Rio de Janeiro', 'São Paulo ', 'Espírito Santo', 'Minas Gerais', 'Rio Grande do Sul', 'Santa Catarina', 'Paraná', 'Distrito Federal', 'Goiás', 'Mato Grosso', 'Mato Grosso do Sul'], ['Amajari', 'Alto Alegre', 'Boa Vista', 'Bonfim', 'Cantá', 'Mucajaí', 'Normandia', 'Pacaraima', 'Uiramutã', 'caracaraí', 'Caroebe', 'Rorainopólis', 'São João da Baliza', 'São Luiz', 'Iracema']]\n"
          ]
        }
      ]
    },
    {
      "cell_type": "code",
      "source": [
        "#g\n",
        "estado_municipios.remove(municipiororaiama)"
      ],
      "metadata": {
        "colab": {
          "base_uri": "https://localhost:8080/",
          "height": 200
        },
        "id": "EHjUF3uzGW7T",
        "outputId": "6e5c69e2-8f08-44ff-c47a-3862bbbdb18b"
      },
      "execution_count": null,
      "outputs": [
        {
          "output_type": "error",
          "ename": "ValueError",
          "evalue": "ignored",
          "traceback": [
            "\u001b[0;31m---------------------------------------------------------------------------\u001b[0m",
            "\u001b[0;31mValueError\u001b[0m                                Traceback (most recent call last)",
            "\u001b[0;32m<ipython-input-22-0695b91ff311>\u001b[0m in \u001b[0;36m<module>\u001b[0;34m\u001b[0m\n\u001b[1;32m      1\u001b[0m \u001b[0;31m#g\u001b[0m\u001b[0;34m\u001b[0m\u001b[0;34m\u001b[0m\u001b[0;34m\u001b[0m\u001b[0m\n\u001b[0;32m----> 2\u001b[0;31m \u001b[0mestado_municipios\u001b[0m\u001b[0;34m.\u001b[0m\u001b[0mremove\u001b[0m\u001b[0;34m(\u001b[0m\u001b[0mmunicipioRR\u001b[0m\u001b[0;34m)\u001b[0m\u001b[0;34m\u001b[0m\u001b[0;34m\u001b[0m\u001b[0m\n\u001b[0m\u001b[1;32m      3\u001b[0m \u001b[0mestado_municipios\u001b[0m\u001b[0;34m\u001b[0m\u001b[0;34m\u001b[0m\u001b[0m\n",
            "\u001b[0;31mValueError\u001b[0m: list.remove(x): x not in list"
          ]
        }
      ]
    },
    {
      "cell_type": "code",
      "source": [
        "#i\n",
        "len(estado_municipios)"
      ],
      "metadata": {
        "colab": {
          "base_uri": "https://localhost:8080/"
        },
        "id": "WmDXwMKJHPoK",
        "outputId": "d6c89eb8-6c0b-447a-d2e1-78a21c08f8a5"
      },
      "execution_count": null,
      "outputs": [
        {
          "output_type": "execute_result",
          "data": {
            "text/plain": [
              "1"
            ]
          },
          "metadata": {},
          "execution_count": 23
        }
      ]
    },
    {
      "cell_type": "code",
      "source": [
        "#j\n",
        "NovosObitos=[3,31,0,6,6,4,5,6,5,0]\n",
        "print(max(NovosObitos))\n",
        "print(min(NovosObitos))"
      ],
      "metadata": {
        "id": "LsdwQc6kIr3k"
      },
      "execution_count": null,
      "outputs": []
    },
    {
      "cell_type": "code",
      "source": [
        "#k\n",
        "estado_municipio={'rj':'Rio de janeiro',\n",
        "                  'RN':'Natal',\n",
        "                  'SP':'São Paulo',\n",
        "                  'Ceará':'Fortaleza',\n",
        "                  'Pará':'Belém',\n",
        "                  }"
      ],
      "metadata": {
        "id": "02cl05OGJjCj"
      },
      "execution_count": null,
      "outputs": []
    },
    {
      "cell_type": "code",
      "source": [
        "#l\n",
        "municipioT=(\"Maceió\",\"Salvador\",\"Fortaleza\",\"São Luis\",\"João Pessoa\",\"Recife\",\"Teresina\",\"Natal\",\n",
        "\"Aracaju\",\"Parnamirim\")\n",
        "casos_novospiaui=(77,153,41,73,1,57,31,24,180,19)\n",
        "print('teresina/piaui: ',casos_novospiaui[6])"
      ],
      "metadata": {
        "id": "8L5Sh8IzKYxH"
      },
      "execution_count": null,
      "outputs": []
    }
  ]
}