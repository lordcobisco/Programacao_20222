{
  "nbformat": 4,
  "nbformat_minor": 0,
  "metadata": {
    "colab": {
      "name": "Aula 3.erickaipynb",
      "provenance": [],
      "authorship_tag": "ABX9TyNYIio2qbIRus37HYG3eSkZ",
      "include_colab_link": true
    },
    "kernelspec": {
      "name": "python3",
      "display_name": "Python 3"
    },
    "language_info": {
      "name": "python"
    }
  },
  "cells": [
    {
      "cell_type": "markdown",
      "metadata": {
        "id": "view-in-github",
        "colab_type": "text"
      },
      "source": [
        "<a href=\"https://colab.research.google.com/github/erickaraiane/Programacao_20222/blob/main/Aula_3_erickaipynb.ipynb\" target=\"_parent\"><img src=\"https://colab.research.google.com/assets/colab-badge.svg\" alt=\"Open In Colab\"/></a>"
      ]
    },
    {
      "cell_type": "code",
      "execution_count": null,
      "metadata": {
        "colab": {
          "base_uri": "https://localhost:8080/"
        },
        "id": "VtW4vigvg0gj",
        "outputId": "bbcb533d-14f8-4027-b4f4-7b73dfe5ec39"
      },
      "outputs": [
        {
          "output_type": "stream",
          "name": "stdout",
          "text": [
            "ÍndiceDeMassaCorporea\n"
          ]
        }
      ],
      "source": [
        "print('ÍndiceDeMassaCorporea')\n"
      ]
    },
    {
      "cell_type": "code",
      "source": [
        "Variavel = 'ericka'\n",
        "print(Variavel)"
      ],
      "metadata": {
        "colab": {
          "base_uri": "https://localhost:8080/"
        },
        "id": "jb1dzyI6i1r7",
        "outputId": "ce8c59fa-971b-46eb-f108-f2b3e1a5d3a9"
      },
      "execution_count": null,
      "outputs": [
        {
          "output_type": "stream",
          "name": "stdout",
          "text": [
            "ericka\n"
          ]
        }
      ]
    },
    {
      "cell_type": "code",
      "source": [
        "Variavel = 3\n",
        "print(Variavel) "
      ],
      "metadata": {
        "colab": {
          "base_uri": "https://localhost:8080/"
        },
        "id": "ZCLUNlOblf4q",
        "outputId": "47f739aa-f1c5-4f1e-c683-88e1a360f8a2"
      },
      "execution_count": null,
      "outputs": [
        {
          "output_type": "stream",
          "name": "stdout",
          "text": [
            "3\n"
          ]
        }
      ]
    },
    {
      "cell_type": "code",
      "source": [
        "varariavelBooleano = True \n",
        "print(varariavelBooleano)"
      ],
      "metadata": {
        "colab": {
          "base_uri": "https://localhost:8080/"
        },
        "id": "UIOajF_Glwoq",
        "outputId": "5bcd2061-26f4-4627-f02c-235afc5d6ed0"
      },
      "execution_count": null,
      "outputs": [
        {
          "output_type": "stream",
          "name": "stdout",
          "text": [
            "True\n"
          ]
        }
      ]
    },
    {
      "cell_type": "code",
      "source": [
        "varString = 'Ericka'\n",
        "print(varString)\n",
        "print(type(varString)) "
      ],
      "metadata": {
        "colab": {
          "base_uri": "https://localhost:8080/"
        },
        "id": "2vFv05B1mkvv",
        "outputId": "d462d64e-cada-43e5-ef21-c17324b9a425"
      },
      "execution_count": null,
      "outputs": [
        {
          "output_type": "stream",
          "name": "stdout",
          "text": [
            "Ericka\n",
            "<class 'str'>\n"
          ]
        }
      ]
    },
    {
      "cell_type": "code",
      "source": [
        "X = 5\n",
        "print(X)\n",
        "print(type(X))"
      ],
      "metadata": {
        "colab": {
          "base_uri": "https://localhost:8080/"
        },
        "id": "GJqBti-_n-mj",
        "outputId": "4a7f581d-f6d0-4b57-b801-41c0a0dcc708"
      },
      "execution_count": null,
      "outputs": [
        {
          "output_type": "stream",
          "name": "stdout",
          "text": [
            "5\n",
            "<class 'int'>\n"
          ]
        }
      ]
    },
    {
      "cell_type": "code",
      "source": [
        "varFlut = 1.0\n",
        "print(varFlut) \n",
        "print(type(varFlut))"
      ],
      "metadata": {
        "colab": {
          "base_uri": "https://localhost:8080/"
        },
        "id": "tV3ET385ojF6",
        "outputId": "9c701fbf-c3bb-4f37-8018-90808867dd3b"
      },
      "execution_count": null,
      "outputs": [
        {
          "output_type": "stream",
          "name": "stdout",
          "text": [
            "1.0\n",
            "<class 'float'>\n"
          ]
        }
      ]
    },
    {
      "cell_type": "code",
      "source": [
        "Varbool1 = True\n",
        "Varbool2 = False\n",
        "\n",
        "print(Varbool1,Varbool2)\n",
        "print(type(Varbool1))\n",
        "print(type(Varbool2))\n",
        "\n"
      ],
      "metadata": {
        "colab": {
          "base_uri": "https://localhost:8080/"
        },
        "id": "2etPljq4o2Vi",
        "outputId": "53fb1a10-2e59-4c1c-a0f0-af64d8865908"
      },
      "execution_count": null,
      "outputs": [
        {
          "output_type": "stream",
          "name": "stdout",
          "text": [
            "True False\n",
            "<class 'bool'>\n",
            "<class 'bool'>\n"
          ]
        }
      ]
    },
    {
      "cell_type": "code",
      "source": [
        "import math\n",
        "print(math.sqrt(25))\n",
        "\n"
      ],
      "metadata": {
        "colab": {
          "base_uri": "https://localhost:8080/"
        },
        "id": "pgMJg_WPsg91",
        "outputId": "32d4f62e-eab8-4ae4-91eb-c3dc8c38122c"
      },
      "execution_count": null,
      "outputs": [
        {
          "output_type": "stream",
          "name": "stdout",
          "text": [
            "5.0\n"
          ]
        }
      ]
    },
    {
      "cell_type": "code",
      "source": [
        "VarSoma = 5+6\n",
        "print(VarSoma)\n",
        "print(55-10)\n",
        "print(9/3)\n",
        "print(5*5)"
      ],
      "metadata": {
        "colab": {
          "base_uri": "https://localhost:8080/"
        },
        "id": "yI9c7CXyuLLV",
        "outputId": "632af6be-9a16-4821-f6b0-27e7f143b5e6"
      },
      "execution_count": null,
      "outputs": [
        {
          "output_type": "stream",
          "name": "stdout",
          "text": [
            "11\n",
            "45\n",
            "3.0\n",
            "25\n"
          ]
        }
      ]
    },
    {
      "cell_type": "code",
      "source": [
        "x,y,z = 1,2,3\n",
        "print(x+y+z)"
      ],
      "metadata": {
        "colab": {
          "base_uri": "https://localhost:8080/"
        },
        "id": "Vt5Nb0P2xWHs",
        "outputId": "f1fda17d-f9f2-4636-c319-64dee43737b1"
      },
      "execution_count": null,
      "outputs": [
        {
          "output_type": "stream",
          "name": "stdout",
          "text": [
            "6\n"
          ]
        }
      ]
    },
    {
      "cell_type": "code",
      "source": [
        "VarEricka = True\n",
        "print('Ericka', not VarEricka)\n",
        "print(VarEricka)"
      ],
      "metadata": {
        "colab": {
          "base_uri": "https://localhost:8080/"
        },
        "id": "nfblmlVOxrXc",
        "outputId": "28c07289-5e9f-4529-c19e-f1249c86fa43"
      },
      "execution_count": null,
      "outputs": [
        {
          "output_type": "stream",
          "name": "stdout",
          "text": [
            "Ericka False\n",
            "True\n"
          ]
        }
      ]
    },
    {
      "cell_type": "code",
      "source": [
        "Var1 = True\n",
        "Var2 = False \n",
        "print(Var1 and Var2)\n"
      ],
      "metadata": {
        "colab": {
          "base_uri": "https://localhost:8080/"
        },
        "id": "ZV4IQR8S0Czr",
        "outputId": "5677c67b-fb94-4a62-8958-2cb3be41e33f"
      },
      "execution_count": null,
      "outputs": [
        {
          "output_type": "stream",
          "name": "stdout",
          "text": [
            "False\n"
          ]
        }
      ]
    },
    {
      "cell_type": "code",
      "source": [
        "Var1 = True\n",
        "Var2 = False \n",
        "print(Var1 or Var2)"
      ],
      "metadata": {
        "colab": {
          "base_uri": "https://localhost:8080/"
        },
        "id": "EqOr6_xSz12A",
        "outputId": "d71441cb-a5c7-453d-a631-f4b786ad3ac0"
      },
      "execution_count": null,
      "outputs": [
        {
          "output_type": "stream",
          "name": "stdout",
          "text": [
            "True\n"
          ]
        }
      ]
    },
    {
      "cell_type": "code",
      "source": [
        "print(2==3)\n",
        "print(2!=3)"
      ],
      "metadata": {
        "colab": {
          "base_uri": "https://localhost:8080/"
        },
        "id": "ibS6nJGw1SHL",
        "outputId": "8d193602-048f-492d-d03e-fdf57611031f"
      },
      "execution_count": null,
      "outputs": [
        {
          "output_type": "stream",
          "name": "stdout",
          "text": [
            "False\n",
            "True\n"
          ]
        }
      ]
    },
    {
      "cell_type": "code",
      "source": [
        "#calculo IMC\n",
        "p=56\n",
        "a=1.68\n",
        "imc=(p/a**2)\n",
        "print(imc)\n",
        "#IMCnormal18.5 e 25  IMCbaixo<17 a 18.5 IMCalto> 25 e 30 IMCmuitoalto >30 \n",
        "print('peso muito abaixo do normal',imc<17)\n",
        "print('peso abaixo do normal', 17<=imc<=18.5)\n",
        "print('peso normal', 18.5<=imc<=25)\n",
        "print('peso a cima do normal',25<=imc<=30)\n",
        "print('peso muito a cima do normal', imc >30)\n"
      ],
      "metadata": {
        "colab": {
          "base_uri": "https://localhost:8080/"
        },
        "id": "9FDRyCoa1zZ6",
        "outputId": "b7a5efbd-d1f0-4467-9fda-49742aebc0a6"
      },
      "execution_count": null,
      "outputs": [
        {
          "output_type": "stream",
          "name": "stdout",
          "text": [
            "19.841269841269845\n",
            "peso muito abaixo do normal False\n",
            "peso abaixo do normal False\n",
            "peso normal True\n",
            "peso a cima do normal False\n",
            "peso muito a cima do normal False\n"
          ]
        }
      ]
    },
    {
      "cell_type": "code",
      "source": [
        "#calculo IMC\n",
        "p=float(input('digite seu peso'))\n",
        "a=float(input('digite sua altura'))\n",
        "imc=(p/a**2)\n",
        "print(imc)\n",
        "#IMCnormal18.5 e 25  IMCbaixo<17 a 18.5 IMCalto> 25 e 30 IMCmuitoalto >30 \n",
        "print('peso muito abaixo do normal',imc<17)\n",
        "print('peso abaixo do normal', 17<=imc<=18.5)\n",
        "print('peso normal', 18.5<=imc<=25)\n",
        "print('peso a cima do normal',25<=imc<=30)\n",
        "print('peso muito a cima do normal', imc >30)"
      ],
      "metadata": {
        "colab": {
          "base_uri": "https://localhost:8080/"
        },
        "id": "08k8ltMqAlwR",
        "outputId": "0f324d18-e731-4439-e780-eecbf681a7b7"
      },
      "execution_count": null,
      "outputs": [
        {
          "output_type": "stream",
          "name": "stdout",
          "text": [
            "digite seu peso56\n",
            "digite sua altura1.68\n",
            "19.841269841269845\n",
            "peso muito abaixo do normal False\n",
            "peso abaixo do normal False\n",
            "peso normal True\n",
            "peso a cima do normal False\n",
            "peso muito a cima do normal False\n"
          ]
        }
      ]
    },
    {
      "cell_type": "code",
      "source": [],
      "metadata": {
        "id": "DN6DVNChECbc"
      },
      "execution_count": null,
      "outputs": []
    },
    {
      "cell_type": "code",
      "source": [
        "#calculo IMC\n",
        "p=float(input('digite seu peso'))\n",
        "a=float(input('digite sua altura'))\n",
        "imc=(p/a**2)\n",
        "print(imc)\n",
        "#IMCnormal18.5 e 25  IMCbaixo<17 a 18.5 IMCalto> 25 e 30 IMCmuitoalto >30 \n",
        "if(imc<17):\n",
        "  print('peso muito abaixo do normal')\n",
        "if(imc>17):\n",
        "  print('peso abaixo do normal')\n",
        "if(17<=imc<=18.5):\n",
        "  print('peso normal')\n",
        "if(18<=imc<=25):\n",
        "  print('peso a cima do normal')\n",
        "if(25<=imc<=30):\n",
        "  print('peso muito a cima do normal')"
      ],
      "metadata": {
        "colab": {
          "base_uri": "https://localhost:8080/"
        },
        "id": "vUqpoTMmYRyX",
        "outputId": "09137f3a-afea-49cd-901a-be715acb3574"
      },
      "execution_count": null,
      "outputs": [
        {
          "output_type": "stream",
          "name": "stdout",
          "text": [
            "digite seu peso56\n",
            "digite sua altura1.68\n",
            "19.841269841269845\n",
            "peso abaixo do normal\n",
            "peso a cima do normal\n"
          ]
        }
      ]
    }
  ]
}