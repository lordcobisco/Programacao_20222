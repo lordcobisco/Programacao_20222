{
  "nbformat": 4,
  "nbformat_minor": 0,
  "metadata": {
    "colab": {
      "provenance": [],
      "authorship_tag": "ABX9TyOhj6zvIDqi7SMiRS+/12RK",
      "include_colab_link": true
    },
    "kernelspec": {
      "name": "python3",
      "display_name": "Python 3"
    },
    "language_info": {
      "name": "python"
    }
  },
  "cells": [
    {
      "cell_type": "markdown",
      "metadata": {
        "id": "view-in-github",
        "colab_type": "text"
      },
      "source": [
        "<a href=\"https://colab.research.google.com/github/BrunaLarissa24/Programacao_20222/blob/main/AtividadeContextualizada_Aula5.ipynb\" target=\"_parent\"><img src=\"https://colab.research.google.com/assets/colab-badge.svg\" alt=\"Open In Colab\"/></a>"
      ]
    },
    {
      "cell_type": "markdown",
      "source": [
        "Uma forma de ajudar no combate é utilizar modelos de simulação que ajudam a estimar a dinâmica da doença, levando em consideração o crescimento de óbitos, infectados, pessoas recuperadas e internações. Uma forma de acessar esses dados é utilizando a base de dados disponibilizada pelo governo disponível no link: https://covid.saude.gov.br/. Os dados disponibilizados estão organizados na forma de um arquivo cvs não estruturado, ou seja, não é tão simples acessar os dados adequados para realizar um determinado processamento sobre parcela específica dos dados. Para facilitar esse processo, responda conforme solicitado.\n",
        "\n",
        "\n",
        "\n",
        "*   Realize o download dos dados de forma manual e crie uma lista e uma tupla com as informações disponíveis no documento csv (coloque pelo menos 1 linha por estado e 10 regiões de saúde diferentes, algo próximo de umas 40 linhas).\n",
        "*   Mande printar na tela o número de casos acumulados para o estado do rio de janeiro tanto para a tupla quanto para a lista.\n",
        "*   Apresente na tela todos os óbitos acumulados mostrando os casos apenas para o caso dos estados (sem mostrar regiões de saúde, etc..).\n",
        "*   Assuma que os dados de óbitos novos para o estado da paraíba estejam errados em 10 unidades para menos. Sobrescreva a informação tanto na lista quanto na tupla, corrigindo os dados.\n",
        "*   As duas operações foram possíveis (lista e tupla)? Justifique.\n",
        "*   Crie uma nova lista com apenas dados de 1 estado e todos os municípios e adicione essa lista nova a lista já existente (append ou insert). \n",
        "*   Remova da lista os dados das regiões de saúde.\n",
        "*   Verifique se a soma dos dados dos municípios na data de 18/08/2020 é igual ao dado da lista, mostrando na tela apenas se for verdadeiro.\n",
        "*   Retorne o tamanho total da lista.\n",
        "*   Verifique qual é o maior valor numérico de óbitos novos e o menor valor numérico de óbitos novos.\n",
        "*   Crie um dicionário de forma que seja possível encontrar os municípios associados a um estado específico e extrair os dados de casos novos em apenas um comando.\n",
        "*   Extraia os dados de Teresina/PI apresentando os casos novos com um print."
      ],
      "metadata": {
        "id": "DTWthpdUfqdD"
      }
    },
    {
      "cell_type": "code",
      "source": [
        "# Bibliotecas\n",
        "import math "
      ],
      "metadata": {
        "id": "kKu6CNIaZW9T"
      },
      "execution_count": 4,
      "outputs": []
    },
    {
      "cell_type": "code",
      "execution_count": 6,
      "metadata": {
        "id": "Z26SJwUZfia7"
      },
      "outputs": [],
      "source": [
        "# Lista de estados\n",
        "\n",
        "estadosLista = [ \"Acre \", \"Amapá\", \"Amazonas\", \"Rondônia\", \"Roraima\", \"Tocantins\", \"Pará\", \"Alagoas \", \"Bahia\", \"Ceará \", \"Maranhão\", \"Paraíba\", \"Pernambuco\", \"Piauí\",\n",
        "           \"Rio Grande do Norte\", \"Sergipe\", \"Rio de Janeiro\", \"São Paulo \", \"Espírito Santo\", \"Minas Gerais\", \"Rio Grande do Sul\", \"Santa Catarina\", \"Paraná\", \n",
        "           \"Distrito Federal\", \"Goiás\", \"Mato Grosso\", \"Mato Grosso do Sul\"]\n",
        "\n",
        "populacaoLista = [ 881935, 845731, 4144597, 1777225, 605761, 1572866, 8602865, 3337357, 14873064, 9132078, 7075181, 40181127, 9557071, 3273227, 3506853, 2298696, 17264943,\n",
        "             45919049, 4018650, 21168791, 11377239, 7164788, 11433957, 3015268, 7018354, 3484466, 2778986]\n",
        "\n",
        "casosAcumuladoLista = [ 22605, 39703, 112263, 48232, 39665, 37856, 178375, 72938, 217115, 137408, 198202, 96223, 113183, 66315, 57720, 68313, 194651, 702665,\n",
        "                  100859, 175715, 98007, 121666, 1275, 138735, 102665, 74509, 37425]\n",
        "\n",
        "casosNovosLista = [ 57, 185, 351, 42, 365, 867, 406, 204, 1085, 555, 583, 190, 225, 237, 178, 316, 372, 3172, 1279, 1331, 130, 786, 1275, 2268, 1073, 1240, 589]\n",
        "\n",
        "obitosAcumuladosLista = [ 582, 617, 3505, 568, 1017, 516, 5945, 1763, 4475, 3277, 8163, 2183, 7210, 1619, 2081, 1717, 14566, 26899, 2908, 4223, 2744, 1839, 2733, 2042, \n",
        "                         2336, 2368, 640]\n",
        "\n",
        "novosObitosLista = [ 6, 4, 22, 0, 0, 5, 5, 10, 69, 13, 30, 21, 22, 11, 14, 12, 4, 47, 33, 91, 55, 42, 42, 66, 14, 28, 14]\n",
        "\n",
        "listaEstado = [ estadosLista, populacaoLista, casosAcumuladoLista, casosNovosLista, obitosAcumuladosLista, novosObitosLista]"
      ]
    },
    {
      "cell_type": "code",
      "source": [
        "# Tupla de estados\n",
        "estadosTupla = ( \"Acre \", \"Amapá\", \"Amazonas\", \"Rondônia\", \"Roraima\", \"Tocantins\", \"Pará\", \"Alagoas\", \"Bahia\", \"Ceará \", \"Maranhão\", \"Paraíba\",\"Pernambuco\", \"Piauí\",\n",
        "                \"Rio Grande do Norte\", \"Sergipe\", \"Rio de Janeiro\", \"São Paulo\", \"Espírito Santo\", \"Minas Gerais\", \"Rio Grande do Sul\", \"Santa Catarina\", \"Paraná\", \n",
        "                \"Distrito Federal\", \"Goiás\", \"Mato Grosso\", \"Mato Grosso do Sul\")\n",
        "populacaoTupla = ( 881935, 845731, 4144597, 1777225, 605761, 1572866, 8602865, 3337357, 14873064, 9132078,7075181,40181127,9557071,3273227,3506853,2298696,\n",
        "17264943,45919049,4018650,21168791,11377239,7164788,11433957,3015268,7018354,3484466,2778986)\n",
        "CasosAcumuladoTupla = ( 22605, 39703, 112263, 48232, 39665, 37856, 178375, 72938, 217115, 137408, 198202, 96223, 113183, 66315, 57720, 68313, 194651,\n",
        "                       702665, 100859, 175715, 98007, 121666, 1275, 138735, 102665, 74509, 37425)\n",
        "\n",
        "casosnovosTupla = ( 57, 185, 351, 42, 365, 867, 406, 204, 1085, 555, 583, 190, 225, 237, 178, 316, 372, 3172, 1279, 1331, 130, 786, 1275, 2268, 1073, 1240, 589)\n",
        "\n",
        "obitosAcumuladosTupla = ( 582, 617, 3505, 568, 1017, 516, 5945, 1763, 4475, 3277, 8163, 2183, 7210, 1619, 2081, 1717, 14566, 26899, 2908, 4223, 2744, 1839, \n",
        "                         2733, 2042, 2336, 2368, 640)\n",
        "novosObitosTupla = (6,4,22,0,0,5,5,10,69,13,30,21,22,11,14,12,4,47,33,91,55,42,42,66,14,28,14)\n",
        "estadoTupla = ( estadosTupla, populacaoTupla, CasosAcumuladoTupla, casosnovosTupla, obitosAcumuladosTupla, novosObitosTupla)\n"
      ],
      "metadata": {
        "id": "qGJ0uy3ufa2h"
      },
      "execution_count": 7,
      "outputs": []
    },
    {
      "cell_type": "code",
      "source": [
        "# Casos Acumulados no Rio de Janeiro\n",
        "\n",
        "print('Casos Acumulados no Rio de Janeiro:', obitosAcumuladosLista[16]) # Lista\n",
        "print('Casos Acumulados no Rio de Janeiro:', obitosAcumuladosTupla[16]) # Tupla"
      ],
      "metadata": {
        "colab": {
          "base_uri": "https://localhost:8080/"
        },
        "id": "bhZuzJvnhB8o",
        "outputId": "56e15120-fc5e-4c25-b5a1-954381989614"
      },
      "execution_count": 8,
      "outputs": [
        {
          "output_type": "stream",
          "name": "stdout",
          "text": [
            "Casos Acumulados no Rio de Janeiro: 14566\n",
            "Casos Acumulados no Rio de Janeiro: 14566\n"
          ]
        }
      ]
    },
    {
      "cell_type": "code",
      "source": [
        "# Óbito acumulado para todos os estados\n",
        "\n",
        "print(obitosAcumuladosLista)\n"
      ],
      "metadata": {
        "colab": {
          "base_uri": "https://localhost:8080/"
        },
        "id": "ZweMPLJlhcBY",
        "outputId": "65acda28-78e1-4bdc-c99c-03da47c7efaf"
      },
      "execution_count": 9,
      "outputs": [
        {
          "output_type": "stream",
          "name": "stdout",
          "text": [
            "[582, 617, 3505, 568, 1017, 516, 5945, 1763, 4475, 3277, 8163, 2183, 7210, 1619, 2081, 1717, 14566, 26899, 2908, 4223, 2744, 1839, 2733, 2042, 2336, 2368, 640]\n"
          ]
        }
      ]
    },
    {
      "cell_type": "code",
      "source": [
        "# Alterar número de novos óbitos do estado da Paraíba\n",
        "\n",
        "x = int(input('Dados de óbitos novos na Paraíba: '))\n",
        "\n",
        "novosObitosLista[11] = (x)\n",
        "print(novosObitosLista) # Lista\n",
        "\n",
        "#novosObitosTupla[11] = (x)\n",
        "#print(novosObitosTupla) # Lista"
      ],
      "metadata": {
        "colab": {
          "base_uri": "https://localhost:8080/"
        },
        "id": "UxHkrryjjXGH",
        "outputId": "4f4ef877-f6c9-44d1-e49f-1da28449924f"
      },
      "execution_count": 10,
      "outputs": [
        {
          "output_type": "stream",
          "name": "stdout",
          "text": [
            "Dados de óbitos novos na Paraíba: 500\n",
            "[6, 4, 22, 0, 0, 5, 5, 10, 69, 13, 30, 500, 22, 11, 14, 12, 4, 47, 33, 91, 55, 42, 42, 66, 14, 28, 14]\n"
          ]
        }
      ]
    },
    {
      "cell_type": "markdown",
      "source": [
        "e) As duas operações foram possíveis (lista e tupla)? Justifique.\n",
        "\n",
        "Não, a alteração foi possível apenas na lista porque depois que uma tupla é criada, você não pode alterar seus valores."
      ],
      "metadata": {
        "id": "gv5_jLDpsyQV"
      }
    },
    {
      "cell_type": "code",
      "source": [
        "# Rio Grande do Norte e municípios\n",
        "\n",
        "listaMunicipiosRN = ['Acari', 'Assu', 'Afonso Bezerra', 'Água Nova', 'Alexandria', 'Almino Afonso', 'Alto do Rodrigues', 'Angicos', 'Antônio Martins', \n",
        "                     'Apodi', 'Areia Branca', 'Arês','Campo Grande', 'Baía Formosa', 'Baraúna', 'Barcelona', 'Bento Fernandes', 'Bodó', 'Bom Jesus', \n",
        "                     'Brejinho', 'Caiçara do Norte', 'Caicó', 'Campo Redondo', 'Canguaretama', 'Caraúbas', 'Carnaúba  dos Dantas', 'Carnaubais', \n",
        "                     'Ceará-Mirim', 'Cerro Corá', 'Coronel Ezequiel', 'Coronel João Pessoa', 'Cruzeta', 'Currais Novos', 'Doutor Severiano', 'Parnamirim', \n",
        "                     'Encanto', 'Equador', 'Espírito Santo', 'Extremoz', 'Felipe Guerra', 'Fernando Pedroza', 'Florânia', 'Francisco Dantas', 'Frutuoso Gomes',\n",
        "                      'Galinhos', 'Goianinha', 'Governador Dix-Sept Rosado', 'Grossos', 'Guamaré', 'Ielmo Marinho', 'Ipanguaçu', 'Ipueira', 'Itajá', 'Itaú', 'Jaçanã', \n",
        "                     'Jandaíra', 'Janduís', 'Januário Cicco', 'Japi', 'Jardim de Angicos', 'João Câmara', 'João Dias', 'José da Penha', 'Jucurutu', 'Jundiá', 'Lagoa dAnta',\n",
        "                     'Lagoa de Pedras', 'Lagoa de Velhos', 'Lagoa Nova', 'Lagoa Salgada', 'Lajes', 'Lajes Pintadas', 'Lucrécia', 'Luís Gomes', 'Macaíba', 'Macau', 'Major Sales', \n",
        "                     'Marcelino Vieira', 'Martins', 'Maxaranguape', 'Messias Targino', 'Montanhas', 'Monte Alegre', 'Monte das Gameleiras', 'Mossoró', 'Natal', 'Nísia Floresta', \n",
        "                     'Nova Cruz', 'Olho dágua do Borges', 'Ouro Branco', 'Paraná', 'Paraú', 'Parazinho' , 'Parelhas', 'Rio do Fogo', 'Passa e Fica', \n",
        "                     'Passagem', 'Passagem', 'Patu', 'Santa Maria', 'Pau dos Ferros', 'Pedra Grande', 'Pedra Preta', 'Pedro Avelino', 'Pedro Velho', 'Pendências', \n",
        "                     'Pilões', 'Poço Branco', 'Portalegre', 'Porto do Mangue', 'Serra Caiada', 'Pureza', 'Rafael Fernandes', 'Rafael Godeiro', 'Riacho da Cruz', \n",
        "                     'Riacho de Santana', 'Riachuelo', 'Rodolfo Fernandes', 'Tibau', 'Ruy Barbosa', 'Santa Cruz', 'Santana do Matos', 'Santana do Seridó', 'Santo Antônio', \n",
        "                     'São Bento do Norte', 'São Bento do Trairí', 'São Fernando', 'São Francisco do Oeste', 'São Gonçalo do Amarante', 'São João do Sabugi', 'São José de Mipibu', \n",
        "                     'São José do Campestre', 'São José do Seridó', 'São Miguel', 'São Miguel do Gostoso', 'São Paulo do Potengi', 'São Pedro', 'São Rafel', 'São Tomé', \n",
        "                     'São Vicente', 'Senador Elói de Souza', 'Senador Georgino Avelino', 'Serra de São Bento', 'Serra do Mel', 'Serra Negra do Norte', 'Serrinha', \n",
        "                     'Serrinha dos Pintos', 'Severiano Melo', 'Sítio Novo', 'Taboleiro Grande', 'Taipu', 'Tangará', 'Tenente Ananias', 'Tenente Laurentino Cruz', \n",
        "                     'Tibau do Sul', 'Timbaíba dos Batistas', 'Touros', 'Triunfo Potiguar', 'Umarizal', 'Upanema', 'Várzea', 'Venha-Ver', 'Vila Flor']"
      ],
      "metadata": {
        "id": "LhjABuveOJeX"
      },
      "execution_count": 11,
      "outputs": []
    },
    {
      "cell_type": "code",
      "source": [
        "estadosLista.append(listaMunicipiosRN)"
      ],
      "metadata": {
        "id": "jy4a13MIPWPY"
      },
      "execution_count": 23,
      "outputs": []
    },
    {
      "cell_type": "code",
      "source": [
        "len(estadosLista)"
      ],
      "metadata": {
        "id": "X6Ht8XJaPZkW",
        "colab": {
          "base_uri": "https://localhost:8080/"
        },
        "outputId": "dcf6c125-f217-4810-ba5b-f78dcef27e44"
      },
      "execution_count": 27,
      "outputs": [
        {
          "output_type": "execute_result",
          "data": {
            "text/plain": [
              "30"
            ]
          },
          "metadata": {},
          "execution_count": 27
        }
      ]
    },
    {
      "cell_type": "code",
      "source": [
        "estadosLista.remove(listaMunicipiosRN)"
      ],
      "metadata": {
        "id": "vWV7B7ocjyMB"
      },
      "execution_count": 28,
      "outputs": []
    },
    {
      "cell_type": "code",
      "source": [
        "len(estadosLista)"
      ],
      "metadata": {
        "colab": {
          "base_uri": "https://localhost:8080/"
        },
        "id": "5NpRZdkvj3yY",
        "outputId": "cf2a8451-c787-49e8-8ae7-ad90628ec187"
      },
      "execution_count": 29,
      "outputs": [
        {
          "output_type": "execute_result",
          "data": {
            "text/plain": [
              "29"
            ]
          },
          "metadata": {},
          "execution_count": 29
        }
      ]
    },
    {
      "cell_type": "code",
      "source": [
        "print(max(novosObitosLista))\n",
        "print(min(novosObitosLista))"
      ],
      "metadata": {
        "colab": {
          "base_uri": "https://localhost:8080/"
        },
        "id": "utvh8ekKjpMn",
        "outputId": "2c87ee24-5d4a-470f-e4e1-977a63f0b4d4"
      },
      "execution_count": 30,
      "outputs": [
        {
          "output_type": "stream",
          "name": "stdout",
          "text": [
            "500\n",
            "0\n"
          ]
        }
      ]
    },
    {
      "cell_type": "code",
      "source": [
        "estado_municipio = {'RN':'Natal',\n",
        "                  'RS':'Porto Alegre',\n",
        "                  'SP':'São Paulo',\n",
        "                  'GO':'Goiânia',\n",
        "                  'Pará':'Belém',\n",
        "                  }"
      ],
      "metadata": {
        "id": "zY1QyPVAPcVt"
      },
      "execution_count": 31,
      "outputs": []
    }
  ]
}