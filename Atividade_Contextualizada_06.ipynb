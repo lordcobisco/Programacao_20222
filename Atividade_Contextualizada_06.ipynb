{
  "cells": [
    {
      "cell_type": "markdown",
      "metadata": {
        "id": "view-in-github",
        "colab_type": "text"
      },
      "source": [
        "<a href=\"https://colab.research.google.com/github/leticiaainoan/Programacao_20222/blob/main/Atividade_Contextualizada_06.ipynb\" target=\"_parent\"><img src=\"https://colab.research.google.com/assets/colab-badge.svg\" alt=\"Open In Colab\"/></a>"
      ]
    },
    {
      "cell_type": "code",
      "execution_count": null,
      "metadata": {
        "colab": {
          "base_uri": "https://localhost:8080/"
        },
        "id": "X4OJsMiUIgwT",
        "outputId": "a7ae29d0-ea9e-4cd8-86c1-24bf0b9338b1"
      },
      "outputs": [
        {
          "output_type": "stream",
          "name": "stdout",
          "text": [
            "Iniciado o procedimento de anestesia\n",
            "Qual espécie de animal vai entrar no centro cirúrgico? primata ou rato? rato\n",
            "Qual medicamento será aplicado? Ketamina ou xilazina?ketamina\n",
            "Qual o peso do animal ? 2\n",
            "A dosagem de Ketamina no rato é :  150.0 IM\n"
          ]
        }
      ],
      "source": [
        "#Cirurgia esterotáxica\n",
        "print(\"Iniciado o procedimento de anestesia\")\n",
        "animal=str(input(\"Qual espécie de animal vai entrar no centro cirúrgico? primata ou rato? \"))\n",
        "medicamento=str(input(\"Qual medicamento será aplicado? Ketamina ou xilazina?\"))\n",
        "peso=float(input(\"Qual o peso do animal ? \" ))\n",
        "if(animal==\"primata\" and medicamento ==\"xilazina\" ):\n",
        "  print(\"A dosagem de de Xilazina no primata é de \", peso*0.5,\"IM\")\n",
        "elif(animal==\"primata\" and medicamento ==\"ketamina\" ):\n",
        "  print(\"A dosagem de de Ketamina no primata é de \", peso*5,\"IM\")\n",
        "elif (animal==\"rato\" and medicamento==\"xilazina\"):\n",
        "  print(\"A dosagem de xilazina no rato  é: \", peso*5, \"IM\")\n",
        "elif(animal==\"rato\" and medicamento==\"ketamina\"):\n",
        "  print(\"A dosagem de Ketamina no rato é : \", peso*75, \"IM\")\n",
        "\n",
        "\n",
        "\n"
      ]
    },
    {
      "cell_type": "code",
      "source": [
        "while True:\n",
        "  anestesia=str(input(\"O animal está anesstesiado? \"))\n",
        "  if (anestesia==\"sim\"):\n",
        "    print(\"Posicionar o animal no estereotáxico \")\n",
        "    break\n",
        "  else:\n",
        "    print(\"O animal precisa estar anestesiado\")\n",
        "    \n"
      ],
      "metadata": {
        "colab": {
          "base_uri": "https://localhost:8080/"
        },
        "id": "eA22ICYHIsSC",
        "outputId": "71043797-1888-4a18-fef4-d3cd5fb59f91"
      },
      "execution_count": null,
      "outputs": [
        {
          "output_type": "stream",
          "name": "stdout",
          "text": [
            "O animal está anesstesiado? nao\n",
            "O animal precisa estar anestesiado\n",
            "O animal está anesstesiado? nao\n",
            "O animal precisa estar anestesiado\n",
            "O animal está anesstesiado? sim\n",
            "Posicionar o animal no estereotáxico \n"
          ]
        }
      ]
    },
    {
      "cell_type": "code",
      "source": [
        " #As barras que suportam o peso do animal devem ser posicionadas no ouvido externo do animal.\n",
        "print(\"Posicionar no ouvido externo do animal as barras que suportam seu peso\")\n",
        "while True:\n",
        "  barra=str(input(\"As barras estão posicionadas no ouvido externo?\"))\n",
        "  if(barra==\"sim\"):\n",
        "    print(\"Ir para proxima etapa\")\n",
        "    break\n",
        "  else:\n",
        "    print(\"As barras precisam estar posicionadas no ouvido esquerdo\")\n",
        "while True:\n",
        "  barra=str(input(\"O animal piscou? \"))\n",
        "  if(barra==\"sim\"):\n",
        "    print(\"Ir para proxima etapa \")\n",
        "    break\n",
        "  else:\n",
        "    print(\"O animal precisa piscar \")\n",
        "while True:\n",
        "  angulo=str(input(\"A cabeça do animal precisamente alinhado com o Bregma e o Lambida? \"))\n",
        "  if(angulo==\"sim\"):\n",
        "    print(\"ALINHADO, IR PARA A PROXIMA ETAPA DA CIRURGIA \")\n",
        "    break\n",
        "  else:\n",
        "    print(\"ALINHAMENTO PRECISO É UMA UMA ETAPA MUITO IMORTANTE, POSICIONE NOVAMENTE \")\n"
      ],
      "metadata": {
        "colab": {
          "base_uri": "https://localhost:8080/"
        },
        "id": "6mlIVd_JKk9C",
        "outputId": "f3c86dc6-d01e-4e9d-e791-51617069609a"
      },
      "execution_count": null,
      "outputs": [
        {
          "output_type": "stream",
          "name": "stdout",
          "text": [
            "Posicionar no ouvido externo do animal as barras que suportam seu peso\n",
            "As barras estão posicionadas no ouvido externo?aim\n",
            "As barras precisam estar posicionadas no ouvido esquerdo\n",
            "As barras estão posicionadas no ouvido externo?sim\n",
            "Ir para proxima etapa\n",
            "O animal piscou?sim\n",
            "Ir para proxima etapa\n",
            "A cabeça do animal precisamente alinhado com o Bregma e o Lambidanao\n",
            "ALINHAMENTO PRECISO É UMA UMA ETAPA MUITO IMORTANTE, POSICIONE NOVAMENTE\n",
            "A cabeça do animal precisamente alinhado com o Bregma e o Lambidasim\n",
            "ALINHADO, IR PARA A PROXIMA ETAPA DA CIRURGIA\n"
          ]
        }
      ]
    },
    {
      "cell_type": "code",
      "source": [
        "#Limpeza do campo de trabalho: Este procedimento requer o cumprimento de algumas etapas:\n",
        "# Retirada da pelagem que recobre a parte superior da calota craniana, \n",
        "#Retirada dos tecidos moles (epiderme, derme e tecido conjuntivo) até alcançar a parte óssea da caixa craniana.\n",
        "# Por último e não menos importante deve-se limpar a calota craniana de qualquer resto de “pele” que esteja sobrando utilizando H2O2 10 volumes\n",
        "\n",
        "print(\"****LIMPEZA DO CAMPO DE TRABALHO****\")\n",
        "print(\"Este procedimento requer o cumprimento de algumas etapas:\")\n",
        "lista=[\"1- Retirada da pelagem que recobre a parte superior da calota craniana;\",\"2- Retirada dos tecidos moles até alcançar a parte óssea da caixa craniana;\",\"3- Limpar a calota craniana de qualquer resto de “pele” que esteja sobrando utilizando H2O2 10 volume.\"]\n",
        "for i in lista:\n",
        "  print(i)\n",
        "\n",
        "print(\"Etapa 1 \")\n",
        "while True:\n",
        "  pelagem=str(input(\"A pelagem que recobre a parte superior da calota craniana foi retirada? \"))\n",
        "  if (pelagem==\"sim\"):\n",
        "    print(\"Ótimo, ir para etapa dois\")\n",
        "    break\n",
        "  else:\n",
        "    print(\"A PELAGEM DEVE SER RETIRADA, POR FAVOR CUMPRIR ESTA ETAPA! \") \n",
        "print(\"Etapa 2 \")\n",
        "print(\"Os tecidos moles devem ser retirados e são eles:\" )\n",
        "tecidos=[\"1- Epiderme\", \"2- Derme\", \"3- Tecido Conjuntivo\"]\n",
        "for t in tecidos:\n",
        "  print(t)\n",
        "while True:\n",
        "  pelagem=str(input(\"Os tecidos moles foram devidamente retirados? \"))\n",
        "  if (pelagem==\"sim\"):\n",
        "    print(\"Ótimo, ir para etapa três\")\n",
        "    break\n",
        "  else:\n",
        "    print(\"OS TECIDOS MOLES DEVEM SER RETIRADOS, POR FAVOR CUMPRIR ESTA ETAPA! \")\n",
        "\n",
        "print(\"Etapa 3 \")\n",
        "while True:\n",
        "  pelagem=str(input(\"a calota craniana foi devidamente limpa? \"))\n",
        "  if (pelagem==\"sim\"):\n",
        "    print(\"LIMPEZA DEVIDAMENTE FEITA, IR PARA PROXIMA ETAPA DA CIRURGIA\")\n",
        "    break\n",
        "  else:\n",
        "    print(\"REFORÇAR A LIMPEZA COM H2O2 VOLUME 10! \") \n"
      ],
      "metadata": {
        "colab": {
          "base_uri": "https://localhost:8080/"
        },
        "id": "mdVSLbdRUC2X",
        "outputId": "0e5d14de-ccde-4b4b-d0f3-973cba12a0b4"
      },
      "execution_count": null,
      "outputs": [
        {
          "output_type": "stream",
          "name": "stdout",
          "text": [
            "****LIMPEZA DO CAMPO DE TRABALHO****\n",
            "Este procedimento requer o cumprimento de algumas etapas:\n",
            "1- Retirada da pelagem que recobre a parte superior da calota craniana;\n",
            "2- Retirada dos tecidos moles até alcançar a parte óssea da caixa craniana;\n",
            "3- Limpar a calota craniana de qualquer resto de “pele” que esteja sobrando utilizando H2O2 10 volume.\n",
            "Etapa 1 \n",
            "A pelagem que recobre a parte superior da calota craniana foi retirada? NAO\n",
            "A PELAGEM DEVE SER RETIRADA, POR FAVOR CUMPRIR ESTA ETAPA! \n",
            "A pelagem que recobre a parte superior da calota craniana foi retirada? sim\n",
            "Ótimo, ir para etapa dois\n",
            "Etapa 2 \n",
            "Os tecidos moles devem ser retirados e são eles:\n",
            "1- Epiderme\n",
            "2- Derme\n",
            "3- Tecido Conjuntivo\n",
            "Os tecidos moles foram devidamente retirados? nao\n",
            "OS TECIDOS MOLES DEVEM SER RETIRADOS, POR FAVOR CUMPRIR ESTA ETAPA! \n",
            "Os tecidos moles foram devidamente retirados? sim\n",
            "Ótimo, ir para etapa três\n",
            "Etapa 3 \n",
            "a calota craniana foi devidamente limpa? nao\n",
            "REFORÇAR A LIMPEZA COM H2O2 VOLUME 10! \n",
            "a calota craniana foi devidamente limpa? sim\n",
            "LIMPEZA DEVIDAMENTE FEITA, IR PARA PROXIMA ETAPA DA CIRURGIA\n"
          ]
        }
      ]
    },
    {
      "cell_type": "code",
      "source": [
        "#utiliza-se uma pequena camada de poliacrilato em todo o perímetro externo para evitar sangramentos.\n",
        "print(\"Aplicar pequena camada de policrilato em todo perímetro externo para evitar sangramentos\")\n",
        "while True:\n",
        "  poli=str(input(\"Foi aplicado uma pequena camada em policrilato em todo perímetro externo? \"))\n",
        "  if (poli==\"sim\"):\n",
        "    print(\"Ótimo, ir para a proxima etapa\")\n",
        "    break\n",
        "  else:\n",
        "    print(\"APLIQUE O POLICRILATO PARA EVITAR SANGRAMENTOS \")\n",
        "\n",
        "  "
      ],
      "metadata": {
        "colab": {
          "base_uri": "https://localhost:8080/"
        },
        "id": "xzBnOcbuWG3w",
        "outputId": "4ad96ae8-7487-4c46-886d-faedd1fa1675"
      },
      "execution_count": null,
      "outputs": [
        {
          "output_type": "stream",
          "name": "stdout",
          "text": [
            "Aplicar pequena camada de policrilato em todo perímetro externo para evitar sangramentos\n",
            "Foi aplicado uma pequena camada em policrilato em todo perímetro externo? nao\n",
            "APLIQUE O POLICRILATO PARA EVITAR SANGRAMENTOS \n",
            "Foi aplicado uma pequena camada em policrilato em todo perímetro externo? nao\n",
            "APLIQUE O POLICRILATO PARA EVITAR SANGRAMENTOS \n",
            "Foi aplicado uma pequena camada em policrilato em todo perímetro externo? sim\n",
            "Ótimo, ir para a proxima etapa\n"
          ]
        }
      ]
    },
    {
      "cell_type": "code",
      "source": [
        "#deve-se escolher um ponto para a fixação de parafusos, de preferência na parte posterior da calota craniana, pois a camada óssea é\n",
        "# mais espessa e suporta uma maior profundidade do parafuso. \n",
        "\n",
        "tupla=(\"Agora é hora de escolher qual o ponto de fixação dos parafusos\",\"DÊ PREFERÊNCIA NA PARTE SUPERIOR DA CALOTA CRANIANA, POIS É A CAMADA ÓSSEA QUE MAIS ESPESSA E SUPORTA MAIOR PROFUNDIDADE DO PARAFUSO\",\"OBSERVAÇÃO: *** CUIDADO PARA NÃO APROFUNDAR MUITO O PARAFUSO. COM PARAFUSOS MAIORES DEVE-SE DAR 3 VOLTAS NO PARAFUSO*** \")\n",
        "print(tupla[0])\n",
        "print(tupla[1])\n",
        "print(tupla[2])\n",
        "\n",
        "voltas=str(input(\"O parafuso escolhido é consideravelmente grande ?\"))\n",
        "while True:\n",
        "  if (voltas==\"sim\"):\n",
        "    print(\"Dê, pelo menos, três voltas no parafuso e posicione no ponto de fixação\")\n",
        "    break\n",
        "  else:\n",
        "    print(\"Posicione no ponto de fixação\")\n",
        "    break"
      ],
      "metadata": {
        "colab": {
          "base_uri": "https://localhost:8080/"
        },
        "id": "vUvlaGx6Tvb9",
        "outputId": "afce64f5-f13f-414c-d54c-789ec3e93fd6"
      },
      "execution_count": null,
      "outputs": [
        {
          "output_type": "stream",
          "name": "stdout",
          "text": [
            "Agora é hora de escolher qual o ponto de fixação dos parafusos\n",
            "DÊ PREFERÊNCIA NA PARTE SUPERIOR DA CALOTA CRANIANA, POIS É A CAMADA ÓSSEA QUE MAIS ESPESSA E SUPORTA MAIOR PROFUNDIDADE DO PARAFUSO\n",
            "OBSERVAÇÃO: *** CUIDADO PARA NÃO APROFUNDAR MUITO O PARAFUSO. COM PARAFUSOS MAIORES DEVE-SE DAR 3 VOLTAS NO PARAFUSO*** \n",
            "O parafuso escolhido é consideravelmente grande ?nao\n",
            "Posicione no ponto de fixação\n"
          ]
        }
      ]
    },
    {
      "cell_type": "code",
      "source": [
        "#Posicionar a agulha (devidamente preparada para o tamanho da cânula e que servirá de suporte para a fixação das cânulas)\n",
        "# sobre o bregma (ver figura acima). Fazer os cálculos de posicionamento AnteroPosterior (AP), LateroLateral (LL) \n",
        "#e DorsoVentral (DV). Os valores utilizados para os cálculos são os valores encontrados nas réguas a partir do posicionamento da agulha.\n",
        "while True:\n",
        "  canula=str(input(\"A agulha esta devidamente preparada para o tamanho da cânula? \"))\n",
        "  if (canula==\"sim\"):\n",
        "    print(\"Fazer os cálculos de posicionamento\")\n",
        "    break\n",
        "  else:\n",
        "    print(\"A agulha deve estar preparada para o tamanho da cânula, faça os ajustes necessários \")\n",
        "print(\"Agora será feito os cálculos de posicionamento\")\n",
        "po={\"AnteroPosterior\":[\"AP\"], \"LateroLateral\": [\"LL\"], \"DorsoVentral\":[\"DV\"]}\n",
        "print(po)\n"
      ],
      "metadata": {
        "colab": {
          "base_uri": "https://localhost:8080/"
        },
        "id": "BGm3yb4Cdwv7",
        "outputId": "d54f68cc-62bc-462e-9f07-d7278f7a31ae"
      },
      "execution_count": null,
      "outputs": [
        {
          "output_type": "stream",
          "name": "stdout",
          "text": [
            "A agulha esta devidamente preparada para o tamanho da cânula? nao\n",
            "A agulha deve estar preparada para o tamanho da cânula, faça os ajustes necessários \n",
            "A agulha esta devidamente preparada para o tamanho da cânula? nao\n",
            "A agulha deve estar preparada para o tamanho da cânula, faça os ajustes necessários \n",
            "A agulha esta devidamente preparada para o tamanho da cânula? sim\n",
            "Fazer os cálculos de posicionamento\n",
            "Agora será feito os cálculos de posicionamento\n",
            "{'AnteroPosterior': ['AP'], 'LateroLateral': ['LL'], 'DorsoVentral': ['LL']}\n"
          ]
        }
      ]
    },
    {
      "cell_type": "code",
      "source": [
        "#Os valores utilizados para os cálculos são os valores encontrados nas réguas a partir do posicionamento da agulha.\n",
        "\n",
        "agulha=str(input(\"A agulha foi posicionada conforme sugerido?\"))\n",
        "if(agulha==\"sim\"):\n",
        "  posicao={\"AP\":[6.42],\"LL\":[3.33],\"DV\":[4.20]}\n",
        "  print(\"Os valores encontrados em cada régua são: \")\n",
        "  print(posicao)\n",
        "  AP=6.42- 0.42\n",
        "  LL1=3.33+ 0.30\n",
        "  LL2=3.33-0.30\n",
        "  DV=4.20- 0.20\n",
        "  print(\"Cálculos do hipocampo realizados são: \")\n",
        "  print(\"AP = \", AP, \"cm\")\n",
        "  print(\"LL = \", LL1, \"cm e \", LL2, \"cm\" )\n",
        "  print(\"DV = \", DV, \"cm\")\n",
        "else:\n",
        "  posicao1=float(input(\"Qual a posição do AnteroPosterior?\"))\n",
        "  posicao2=float(input(\"Qual a posição do LateroLateral?\"))\n",
        "  posicao3=float(input(\"Qual a posição do DorsoVentral?\"))\n",
        "\n",
        "  print(\"Cálculos do hipocampo realizados são: \")\n",
        "  AP = posicao1- 0.42\n",
        "  LL1 = posicao2+ 0.30\n",
        "  LL2= posicao2-0.30\n",
        "  DV = posicao3- 0.20\n",
        "  print(\"AP = \", AP)\n",
        "  print(\"LL = \", LL1, \"cm e \", LL2)\n",
        "  print(\"DV = \", DV)\n",
        "\n",
        "\n"
      ],
      "metadata": {
        "colab": {
          "base_uri": "https://localhost:8080/"
        },
        "id": "OOD1zmpOkz6L",
        "outputId": "ebacc98d-db6c-4ead-899d-0ef32b21c4d5"
      },
      "execution_count": null,
      "outputs": [
        {
          "output_type": "stream",
          "name": "stdout",
          "text": [
            "A agulha foi posicionada conforme sugerido?sim\n",
            "Os valores encontrados em cada régua são: \n",
            "{'AP': [6.42], 'LL': [3.33], 'DV': [4.2]}\n",
            "Cálculos do hipocampo realizados são: \n",
            "AP =  6.0 cm\n",
            "LL =  3.63 cm e  3.0300000000000002 cm\n",
            "DV =  4.0 cm\n"
          ]
        }
      ]
    },
    {
      "cell_type": "code",
      "source": [
        "#Após estes cálculos feitos é hora de localizar os pontos de inserção das cânulas-guia.\n",
        "#Assim que estes pontos forem localizados é necessário fazer furos para a introdução das cânulas-guia.\n",
        "#A localização destes pontos deve ser definida pelos valores encontrados nos cálculos AnteroPosterior (6,00) \n",
        "#e LateroLateral (3,63 e 3,03). Deve-se escolher qual dos hemisférios vai ser colocada a primeira cânula,\n",
        "# daí os dois valores para as medidas LL\n",
        "\n",
        "print(\"É HORA DE LOCALIZAR OS PONTOS DE INSERÇÃO DAS CÂNULAS-GUIA \")\n",
        "sugerido=str(input(\"Usar dados sugeridos?\"))\n",
        "if (sugerido==\"sim\"):\n",
        "  hemisferio1=str(input(\"Em qual Hemisfério vai ser colocada a primeira cânula? norte ou sul? \"))\n",
        "  if (hemisferio1==\"norte\"):\n",
        "    print(\"LL = \", posicao3, \"cm\")\n",
        "  elif (hemisferio1==\"sul\"):\n",
        "    print(\"LL = \", 3.0, \"cm\")\n",
        "    print(\"Posiciona os demais parafusos a partir do posicionamento do primeiro parafuso e o hemisfério escolhido \",\"AP = \", 6.00 ,\"DV = \", 4.00 )\n",
        "elif(sugerido==\"nao\"):\n",
        "  print(\"Utilizar dados do posicionamento escolhidos\")\n",
        "  hemisferio2=str(input(\"Em qual Hemisfério vai ser colocada a primeira cânula? norte ou sul? \"))\n",
        "  if (hemisferio2==\"norte\"):\n",
        "    print(\"LL = \", LL1, \"cm\")\n",
        "  elif (hemisferio2==\"sul\"):\n",
        "    print(\"LL = \", LL2, \"cm\")\n",
        "    print(\"Posiciona os demais parafusos a partir do posicionamento do primeiro parafuso e o hemisfério escolhido \",\"AP = \", AP ,\"DV = \", DV )\n"
      ],
      "metadata": {
        "colab": {
          "base_uri": "https://localhost:8080/"
        },
        "id": "YbzLtsCOrYEG",
        "outputId": "14159fbc-1794-4137-99b0-d92f3991391f"
      },
      "execution_count": null,
      "outputs": [
        {
          "output_type": "stream",
          "name": "stdout",
          "text": [
            "É HORA DE LOCALIZAR OS PONTOS DE INSERÇÃO DAS CÂNULAS-GUIA \n",
            "Usar dados sugeridos?nao\n",
            "Utilizar dados do posicionamento escolhidos\n",
            "Em qual Hemisfério vai ser colocada a primeira cânula? norte ou sul? sul\n",
            "LL =  3.7 cm\n",
            "Posiciona os demais parafusos a partir do posicionamento do primeiro parafuso e o hemisfério escolhido  AP =  2.58 DV =  1.8\n"
          ]
        }
      ]
    },
    {
      "cell_type": "markdown",
      "source": [],
      "metadata": {
        "id": "3U-N6xLLdu8h"
      }
    },
    {
      "cell_type": "code",
      "source": [
        "#Depois de posicionar a agulha, fazer um furo com a broca até alcançar as meninges.\n",
        "# A não perfuração das meninges é o procedimento ideal, e para conseguir isso apoie\n",
        "# a mão que segura a broca contra o assoalho ou ao estereotáxico e perfure o crânio a +- 450 de angulação.\n",
        "\n",
        "print(\"FAZER FURO COM A BROCA\")\n",
        "print(\" Apoie a mão que segura a broca contra o assoalho ou ao estereotáxico e perfure o crânio a +- 45° de angulação.\")\n",
        "while True:\n",
        "  meninge=str(input(\"O furo alconçou as meninges?\"))\n",
        "  if(meninge==\"sim\"):\n",
        "    while True:\n",
        "      toque=str(input(\"As meninges foram perfuradas?\"))\n",
        "      if (toque==\"sim\"):\n",
        "        print(\"Temos umm problema, o ideal é que não perfure\")\n",
        "        break\n",
        "      else:\n",
        "        print(\"Ótimo, o ideal é que não perfure\")\n",
        "        break\n",
        "    break\n",
        "  else:\n",
        "    print(\"O furo deve alcaçar as meninges\")\n"
      ],
      "metadata": {
        "colab": {
          "base_uri": "https://localhost:8080/"
        },
        "id": "3bobazrH2VTB",
        "outputId": "24012ddc-526b-4789-9986-4fa6135bef88"
      },
      "execution_count": null,
      "outputs": [
        {
          "output_type": "stream",
          "name": "stdout",
          "text": [
            "FAZER FURO COM A BROCA\n",
            " Apoie a mão que segura a broca contra o assoalho ou ao estereotáxico e perfure o crânio a +- 45° de angulação.\n",
            "O furo alconçou as meninges?sim\n",
            "As meninges foram perfuradas?nao\n",
            "Ótimo, o ideal é que não perfure\n"
          ]
        }
      ]
    },
    {
      "cell_type": "code",
      "source": [
        "#Após ter atingido este objetivo, introduza a cânula-guia previamente confeccionada até o valor DorsoVentral (4,00) que foi calculado anteriormente.\n",
        "while True:\n",
        "  canula=str(input(\"a cânula já está confeccionada ?  \"))\n",
        "  if(canula==\"sim\"):\n",
        "    print(\"Ótimo, introduzir na posição DrorsoVentral que é :\",DV ,\"cm\")\n",
        "    break\n",
        "  else:\n",
        "    print(\"A cênula deveria estar previamente confeccionada\")\n",
        "\n"
      ],
      "metadata": {
        "colab": {
          "base_uri": "https://localhost:8080/"
        },
        "id": "gjc0VnGacZ7p",
        "outputId": "582aa8db-c15c-40d0-d6a9-872c2f399aaf"
      },
      "execution_count": null,
      "outputs": [
        {
          "output_type": "stream",
          "name": "stdout",
          "text": [
            "a cânula já está confeccionada ?  sim\n",
            "Ótimo, introduzir na posição DrorsoVentral que é : 2.8 cm\n"
          ]
        }
      ]
    },
    {
      "cell_type": "code",
      "source": [
        "#Logo após drenar qualquer sangue ou líquido cefalorraquidiano que esteja saindo pelo orifício criado no crânio. Para isso utilize pequenos rolos de papel absorvente.\n",
        "sangue={\"Para drenar o sangue, ou qualquer liquido que esteja saindo do orifício criado no crânio\":[\"UTILIZAR PAPEL ABSORVENTE\"]}\n",
        "print(sangue)"
      ],
      "metadata": {
        "colab": {
          "base_uri": "https://localhost:8080/"
        },
        "id": "psT3e7t_eib0",
        "outputId": "8804ce55-ed93-4831-afc5-36e418771dc2"
      },
      "execution_count": null,
      "outputs": [
        {
          "output_type": "stream",
          "name": "stdout",
          "text": [
            "{'Para drenar o sangue, ou qualquer liquido que esteja saindo do orifício criado no crânio': ['UTILIZAR PAPEL ABSORVENTE']}\n"
          ]
        }
      ]
    },
    {
      "cell_type": "code",
      "source": [
        "#Faça uma mistura do acrílico polimerizante com o solvente até ficar com textura espessa porém maleável\n",
        "# (o ideal é que a mistura seja capaz de cobrir a parte desejada sem escorrer por todo o crânio). \n",
        "#Com essa mistura faça um capacete abrangendo o crânio, a cânula-guia e o parafuso. Deixe secar até ficar suficientemente rígido.\n",
        "\n",
        "print(\"Faça uma mistura do acrílico polimerizante com o solvente\")\n",
        "while True:\n",
        "  mistura1=(str(input(\"A textura está espeça ?\")))\n",
        "  mistura2=(str(input(\"Também está maleável\")))\n",
        "  if(mistura1==\"sim\" and mistura2==\"sim\"):\n",
        "    print(\"ótimo\")\n",
        "    while True:\n",
        "      cobrir=str(input(\"Está cobrindo a parte desejada? \"))\n",
        "      escorrer=str(input(\"Está escorendo?\"))\n",
        "      if(cobrir==\"sim\" and escorrer==\"nao\"):\n",
        "        print(\"Com essa mistura faça um capacete abrangendo o crânio, a cânula-guia e o parafuso. Deixe secar até ficar suficientemente rígido.\")\n",
        "        break\n",
        "      else:\n",
        "        print(\"A mistura deve cobrir a parte desejada e não deve escorrer\")\n",
        "    break\n",
        "  else:\n",
        "    print(\"A textura deve ta espeça e maleável\")\n",
        "    break\n"
      ],
      "metadata": {
        "colab": {
          "base_uri": "https://localhost:8080/"
        },
        "id": "xwlf-pBdgsBd",
        "outputId": "dccb8d43-5f14-4e1d-b231-aa93d782336e"
      },
      "execution_count": null,
      "outputs": [
        {
          "output_type": "stream",
          "name": "stdout",
          "text": [
            "Faça uma mistura do acrílico polimerizante com o solvente\n",
            "A textura está espeça ?sim\n",
            "Também está maleávelsim\n",
            "ótimo\n",
            "Está cobrindo a parte desejada? sim\n",
            "Está escorendo?nao\n",
            "Com essa mistura faça um capacete abrangendo o crânio, a cânula-guia e o parafuso. Deixe secar até ficar suficientemente rígido.\n"
          ]
        }
      ]
    },
    {
      "cell_type": "code",
      "source": [
        "#O próximo passo é a fixação da outra cânula-guia. Deve-se levantar levemente o braço do estereotáxico cuidando para que a cânula-guia previamente fixada não se movimente. \n",
        "#Logo após, posicionar a agulha sobre o outro ponto de inserção da cânula-guia. Introduzir a cânula-guia até o valor DV (4,00) calculado previamente.\n",
        "print(\"FIXAÇÃO DA PRÓXIMA CÂNULA GUIA\")\n",
        "while True:\n",
        "  canula2=str(input(\"a cânula já está previamente fixada ?  \"))\n",
        "  if(canula2==\"sim\"):\n",
        "    print(\"ÓTIMO, Não se movimente!\")\n",
        "    break\n",
        "  else:\n",
        "    print(\"A cânula deveria estar previamente fixada\")\n",
        "\n",
        "while True:\n",
        "  agulha=str(input(\"A agulha está posicionada sobre o outro ponto de inserção da cânula\"))\n",
        "  if(agulha==\"sim\"):\n",
        "     print(\"Ótimo, introduzir na posição DrorsoVentral que é :\",DV ,\"cm\")\n",
        "     break\n",
        "  else:\n",
        "    print(\"A agulha deve estar posicionada sobre o outro ponto de inserção da cânula\")"
      ],
      "metadata": {
        "colab": {
          "base_uri": "https://localhost:8080/"
        },
        "id": "-2qOUAELlRC7",
        "outputId": "05084909-6ddf-4974-f986-5f561fa11bd0"
      },
      "execution_count": null,
      "outputs": [
        {
          "output_type": "stream",
          "name": "stdout",
          "text": [
            "FIXAÇÃO DA PRÓXIMA CÂNULA GUIA\n",
            "a cânula já está previamente fixada ?  não\n",
            "A cânula deveria estar previamente fixada\n",
            "a cânula já está previamente fixada ?  sim\n",
            "ÓTIMO, Não se movimente!\n",
            "A agulha está posicionada sobre o outro ponto de inserção da cânulanão\n",
            "A agulha deve estar posicionada sobre o outro ponto de inserção da cânula\n",
            "A agulha está posicionada sobre o outro ponto de inserção da cânulasim\n",
            "Ótimo, introduzir na posição DrorsoVentral que é : 4.0 cm\n"
          ]
        }
      ]
    },
    {
      "cell_type": "code",
      "source": [
        "#Seguir novamente a descrição do item 9 e após fixar a cânula conforme item 10.\n",
        "# De preferência espalhar o cimento sobre a maior área do crânio, sempre deixando um espaço entre o capacete e o início da área tecidual.\n",
        "# Este cuidado previne de um futuro descolamento do capacete devido a entrada de sangue u outro líquido entre o capacete e o crânio.\n",
        "\n",
        "print(\"Faça uma mistura do acrílico polimerizante com o solvente\")\n",
        "while True:\n",
        "  mistura1=(str(input(\"A textura está espeça ?\")))\n",
        "  mistura2=(str(input(\"Também está maleável\")))\n",
        "  if(mistura1==\"sim\" and mistura2==\"sim\"):\n",
        "    print(\"ótimo\")\n",
        "    while True:\n",
        "      cobrir=str(input(\"Está cobrindo a parte desejada? \"))\n",
        "      escorrer=str(input(\"Está escorendo?\"))\n",
        "      if(cobrir==\"sim\" and escorrer==\"nao\"):\n",
        "        print(\"Com essa mistura faça um capacete abrangendo o crânio, a cânula-guia e o parafuso. Deixe secar até ficar suficientemente rígido.\")\n",
        "        break\n",
        "      else:\n",
        "        print(\"A mistura deve cobrir a parte desejada e não deve escorrer\")\n",
        "    break\n",
        "  else:\n",
        "    print(\"A textura deve ta espeça e maleável\")\n",
        "    break\n"
      ],
      "metadata": {
        "id": "8NnRL8tl4Xgk"
      },
      "execution_count": null,
      "outputs": []
    },
    {
      "cell_type": "code",
      "source": [
        "#Levantar bem devagar seguindo as instruções do item contida no item 11.\n",
        "# Acomodar o animal em uma caixa aquecida por uma lâmpada e sem outros animais acordados. \n",
        "#Assim que o animal despertar colocá-lo de volta a sua caixa-moradia.\n",
        "print(\"Levantar levemente o braço do estereotáxico cuidando para que a cânula-guia previamente fixada não se movimente. \")\n",
        "\n",
        "while True:\n",
        "  caixa=str(input(\"Foi preparada uma caixa aquecida por uma lâmpada para acomodar o animal? \"))\n",
        "  if(caixa==\"sim\"):\n",
        "    so=str(input(\"O local está sem os outros animais acordados? \"))\n",
        "    if(so==\"sim\"):\n",
        "      print(\"Acomodar o animal para que ele deseperte tranquilamente\")\n",
        "      break\n",
        "    elif(so==\"nao\"):\n",
        "      print(\"O local deve estar sem outros animais acordados\")\n",
        "  else:\n",
        "    print(\"Prepare um local previamente aquecido para acomodar o animal\")\n",
        "\n",
        "while True:\n",
        "  acordar=str(input(\"O animal despertou? \"))\n",
        "  if(acordar==\"sim\"):\n",
        "    print(\"O local está sem os outros animais acordados? \")"
      ],
      "metadata": {
        "colab": {
          "base_uri": "https://localhost:8080/"
        },
        "id": "cqFKK8g05Hod",
        "outputId": "1c36ed6c-d7b6-4ebe-c3fa-40048292b8a5"
      },
      "execution_count": null,
      "outputs": [
        {
          "output_type": "stream",
          "name": "stdout",
          "text": [
            "Levantar levemente o braço do estereotáxico cuidando para que a cânula-guia previamente fixada não se movimente. \n",
            "Foi preparada uma caixa aquecida por uma lâmpada para acomodar o animal? sim\n",
            "O local está sem os outros animais acordados? nao\n",
            "O local deve estar sem outros animais acordados\n",
            "Foi preparada uma caixa aquecida por uma lâmpada para acomodar o animal? sim\n",
            "O local está sem os outros animais acordados? nao\n",
            "O local deve estar sem outros animais acordados\n",
            "Foi preparada uma caixa aquecida por uma lâmpada para acomodar o animal? sim\n",
            "O local está sem os outros animais acordados? sim\n",
            "Acomodar o animal para que ele deseperte tranquilamente\n"
          ]
        }
      ]
    },
    {
      "cell_type": "code",
      "source": [
        "#Levantar bem devagar seguindo as instruções do item contida no item 11.\n",
        "# Acomodar o animal em uma caixa aquecida por uma lâmpada e sem outros animais acordados. \n",
        "#Assim que o animal despertar colocá-lo de volta a sua caixa-moradia.\n",
        "print(\"Levantar levemente o braço do estereotáxico cuidando para que a cânula-guia previamente fixada não se movimente. \")\n",
        "\n",
        "while True:\n",
        "  caixa=str(input(\"Foi preparada uma caixa aquecida por uma lâmpada para acomodar o animal? \"))\n",
        "  if(caixa==\"sim\"):\n",
        "    so=str(input(\"O local está sem os outros animais acordados? \"))\n",
        "    if(so==\"sim\"):\n",
        "      print(\"Acomodar o animal para que ele deseperte tranquilamente\")\n",
        "      break\n",
        "    elif(so==\"nao\"):\n",
        "      print(\"O local deve estar sem outros animais acordados\")\n",
        "  else:\n",
        "    print(\"Prepare um local previamente aquecido para acomodar o animal\")\n",
        "\n",
        "while True:\n",
        "  acordar=str(input(\"O animal despertou? \"))\n",
        "  if(acordar==\"sim\"):\n",
        "    print(\"Colocar o animal na caixa de moradia\")\n",
        "    break\n",
        "  else:\n",
        "    print(\"Esperar o animal despertar\")"
      ],
      "metadata": {
        "colab": {
          "base_uri": "https://localhost:8080/"
        },
        "outputId": "dc05f837-0493-4041-9792-8aa5c4e19786",
        "id": "TUIma8L39OYp"
      },
      "execution_count": null,
      "outputs": [
        {
          "output_type": "stream",
          "name": "stdout",
          "text": [
            "Levantar levemente o braço do estereotáxico cuidando para que a cânula-guia previamente fixada não se movimente. \n",
            "Foi preparada uma caixa aquecida por uma lâmpada para acomodar o animal? sim\n",
            "O local está sem os outros animais acordados? sim\n",
            "Acomodar o animal para que ele deseperte tranquilamente\n"
          ]
        }
      ]
    }
  ],
  "metadata": {
    "colab": {
      "provenance": [],
      "collapsed_sections": [],
      "authorship_tag": "ABX9TyOzMNn55778wd06bTdHurKa",
      "include_colab_link": true
    },
    "kernelspec": {
      "display_name": "Python 3",
      "name": "python3"
    },
    "language_info": {
      "name": "python"
    }
  },
  "nbformat": 4,
  "nbformat_minor": 0
}