{
  "nbformat": 4,
  "nbformat_minor": 0,
  "metadata": {
    "colab": {
      "provenance": [],
      "authorship_tag": "ABX9TyM9pAbvLEPhZHCEDFv6kGwV",
      "include_colab_link": true
    },
    "kernelspec": {
      "name": "python3",
      "display_name": "Python 3"
    },
    "language_info": {
      "name": "python"
    }
  },
  "cells": [
    {
      "cell_type": "markdown",
      "metadata": {
        "id": "view-in-github",
        "colab_type": "text"
      },
      "source": [
        "<a href=\"https://colab.research.google.com/github/leticiaainoan/Programacao_20222/blob/main/Atividade_Contextualizada_03.ipynb\" target=\"_parent\"><img src=\"https://colab.research.google.com/assets/colab-badge.svg\" alt=\"Open In Colab\"/></a>"
      ]
    },
    {
      "cell_type": "code",
      "source": [
        "#Declarando as variáveis\n",
        "resolucao= 600 #resolução\n",
        "celula1= \"procariótica\" #tipo de cálula \n",
        "celula2= \"eucariótica\"\n",
        "lux_min=1000\n",
        "lux_max=3000\n",
        "faixa_lux_min=2.3\n",
        "faixa_lux_max=4.6\n",
        "resol_max=9000\n",
        "resol_min=800\n",
        "objetiva1=345\n",
        "zoom1=5\n",
        "\n",
        "\n",
        "print(\"Esse programa tem como objetivo receber dados para ...\")\n",
        "\n",
        "objetiva2=int(input(\"Qual a objetiva de menor aumento?\"))\n",
        "print('Houve alteração na variável inserida?', int(objetiva1) != int(objetiva2))\n",
        "\n",
        "celula2=str(input(\"Qual a célula tipo de cálula a ser analizada ?\"))\n",
        "print('Houve alteração na variável inserida?', str(celula1) != str(celula2))\n",
        "\n",
        "resolucao2=str(input(\"Qual a resolução ?\"))\n",
        "print('Houve alteração na variável inserida?', int(resolucao) != int(resolucao2))\n",
        "\n",
        "zoom2=str(input(\"Quantas vezes deve dar o zoom ?\"))\n",
        "print('Houve alteração na variável inserida?', int(zoom1) != int(zoom2))\n",
        "\n",
        "lux_max2=int(input(\"Qual a luminância máxima?\"))\n",
        "print('Houve alteração na variável inserida?', int(lux_max) != int(lux_max2))\n",
        "\n",
        "lux_min2=int(input(\"Qual a luminância mínima?\"))\n",
        "print('Houve alteração na variável inserida?', int(lux_min) != int(lux_min2))\n",
        "\n",
        "faixa_lux_max2=float(input(\"Qual a faixa de iluminação máxima?\"))\n",
        "print('Houve alteração na variável inserida?', int(faixa_lux_max) != int(faixa_lux_max2))\n",
        "\n",
        "faixa_lux_min2=float(input(\"Qual a faixa de iluminação mínima?\"))\n",
        "print('Houve alteração na variável inserida?', int(faixa_lux_min) != int(faixa_lux_min2))\n",
        "\n",
        "resol_max2=int(input(\"Qual a resolução máxima?\"))\n",
        "print('Houve alteração na variável inserida?', int(resol_max) != int(resol_max2))\n",
        "\n",
        "resol_min2=int(input(\"Qual a resolução mínima?\"))\n",
        "print('Houve alteração na variável inserida?', int(resol_min) != int(resol_min2))\n",
        "\n"
      ],
      "metadata": {
        "colab": {
          "base_uri": "https://localhost:8080/"
        },
        "id": "vA-xEfNLSCle",
        "outputId": "eba50d20-5b6a-4907-9ff3-377dc3896834"
      },
      "execution_count": null,
      "outputs": [
        {
          "output_type": "stream",
          "name": "stdout",
          "text": [
            "Esse programa tem como objetivo receber dados para ...\n",
            "Qual a objetiva de menor aumento?345\n",
            "Houve alteração na variável inserida? False\n",
            "Qual a célula tipo de cálula a ser analizada ?procariótica\n",
            "Houve alteração na variável inserida? False\n",
            "Qual a resolução ?600\n",
            "Houve alteração na variável inserida? False\n",
            "Quantas vezes deve dar o zoom ?6\n",
            "Houve alteração na variável inserida? True\n",
            "Qual a luminância máxima?9000\n",
            "Houve alteração na variável inserida? True\n",
            "Qual a luminância mínima?1000\n",
            "Houve alteração na variável inserida? False\n",
            "Qual a faixa de iluminação máxima?4.5\n",
            "Houve alteração na variável inserida? False\n",
            "Qual a faixa de iluminação mínima?1.2\n",
            "Houve alteração na variável inserida? True\n",
            "Qual a resolução máxima?8000\n",
            "Houve alteração na variável inserida? True\n",
            "Qual a resolução mínima?800\n",
            "Houve alteração na variável inserida? False\n"
          ]
        }
      ]
    },
    {
      "cell_type": "code",
      "source": [
        "print(\" A objetiva de menor aumento digitada foi : \",objetiva2)\n",
        "print(\" O tipo de célula digitada foi : \",celula2)\n",
        "print(\" A resolução digitada foi : \",resolucao2)\n",
        "print(\" O zoom digitada foi : \",zoom2)\n",
        "print(\" A luminância máxima digitada foi : \",lux_max2)\n",
        "print(\" A luminância minima digitada foi : \",lux_min2)\n",
        "print(\" A faixa de iluminação máxima digitada foi : \",faixa_lux_max2)\n",
        "print(\" A faixa de iluminação minima digitada foi : \",faixa_lux_min2)\n",
        "print(\" A faixa de resolução máxima digitada foi : \",resol_max2)\n",
        "print(\" A faixa de resolução minima digitada foi : \",resol_min2)\n",
        "\n"
      ],
      "metadata": {
        "colab": {
          "base_uri": "https://localhost:8080/"
        },
        "id": "dKhSHRM0Pqkf",
        "outputId": "064f292f-2112-4814-c5d5-fc44fa360575"
      },
      "execution_count": null,
      "outputs": [
        {
          "output_type": "stream",
          "name": "stdout",
          "text": [
            " A objetiva de menor aumento digitada foi :  345\n",
            " O tipo de célula digitada foi :  procariótica\n",
            " A resolução digitada foi :  600\n",
            " O zoom digitada foi :  6\n",
            " A luminância máxima digitada foi :  9000\n",
            " A luminância minima digitada foi :  1000\n",
            " A faixa de iluminação máxima digitada foi :  4.5\n",
            " A faixa de iluminação minima digitada foi :  1.2\n",
            " A faixa de resolução máxima digitada foi :  8000\n",
            " A faixa de resolução minima digitada foi :  800\n"
          ]
        }
      ]
    },
    {
      "cell_type": "code",
      "source": [
        "#Após setada as configurações iniciais o usuário deve utilizar dois caracteres para a calibração do equipamento no sentido horizontal.\n",
        "# Para isso, ele deve apertar a tecla correspondente à primeira letra do seu nome 10x e à última letra do seu nome 10x.\n",
        "#Imediatamente após apertar a tecla o programa deve apresentar na tela que a informação foi corretamente digitada e mostrar o caractere pressionado\n",
        "print(\"Calibração do equipamento no sentido horizontal\")\n",
        "calibrar0=\"LLLLLLLLLL\"\n",
        "calibrar1=str(input(\"Digite e letra 'L' 10x: \"))\n",
        "print(calibrar1)\n",
        "print(str(calibrar0)==str(calibrar1))\n",
        "calibrar00=\"AAAAAAAAAA\"\n",
        "calibrar2=str(input(\"Digite e letra 'A' 10x: \"))\n",
        "print(calibrar2)\n",
        "print(str(calibrar00)==str(calibrar2))"
      ],
      "metadata": {
        "id": "jDp7bXwfncMf",
        "colab": {
          "base_uri": "https://localhost:8080/"
        },
        "outputId": "5e53d380-3a59-4487-a7d7-b78e4c2b84ee"
      },
      "execution_count": null,
      "outputs": [
        {
          "output_type": "stream",
          "name": "stdout",
          "text": [
            "Calibração do equipamento no sentido horizontal\n",
            "Digite e letra 'L' 10x: LLLLLLLLL\n",
            "LLLLLLLLL\n",
            "False\n",
            "Digite e letra 'A' 10x: AAAAAAAAAA\n",
            "AAAAAAAAAA\n",
            "True\n"
          ]
        }
      ]
    },
    {
      "cell_type": "code",
      "source": [
        "#Na sequência o usuário deve utilizar dois caracteres para a calibração do equipamento no sentido vertical.\n",
        "# Para isso, ele deve apertar a tecla correspondente à segunda letra do seu nome 10x e à penúltima letra do seu nome 10x.\n",
        "\n",
        "print(\"Calibração do equipamento no sentido vertical\")\n",
        "calibrar000=\"EEEEEEEEEE\"\n",
        "calibrar3=str(input(\"Digite e letra 'E' 10x: \"))\n",
        "print(calibrar3)\n",
        "print(str(calibrar000)==str(calibrar3))\n",
        "calibrar0000=\"IIIIIIIIII\"\n",
        "calibrar4=str(input(\"Digite e letra 'I' 10x: \"))\n",
        "print(calibrar4)\n",
        "print(str(calibrar0000)==str(calibrar4))\n",
        "\n",
        "print(\"O SISTEMA FOI CALIBRADO!!!\")"
      ],
      "metadata": {
        "colab": {
          "base_uri": "https://localhost:8080/"
        },
        "id": "Fl_W3X_drAfP",
        "outputId": "14c7815c-ff89-4f23-e24e-06c0e6efe266"
      },
      "execution_count": null,
      "outputs": [
        {
          "output_type": "stream",
          "name": "stdout",
          "text": [
            "Calibração do equipamento no sentido vertical\n",
            "Digite e letra 'E' 10x: EEEEEEEEEE\n",
            "EEEEEEEEEE\n",
            "True\n",
            "Digite e letra 'I' 10x: IIIIIIIIII\n",
            "IIIIIIIIII\n",
            "True\n",
            "O SISTEMA FOI CALIBRADO!!!\n"
          ]
        }
      ]
    },
    {
      "cell_type": "code",
      "source": [],
      "metadata": {
        "id": "H-5wTG1-t18y"
      },
      "execution_count": null,
      "outputs": []
    }
  ]
}