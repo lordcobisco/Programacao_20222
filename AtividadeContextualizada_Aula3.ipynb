{
  "nbformat": 4,
  "nbformat_minor": 0,
  "metadata": {
    "colab": {
      "provenance": [],
      "authorship_tag": "ABX9TyMS+4Q3M+BSoBkoJscZGSRT",
      "include_colab_link": true
    },
    "kernelspec": {
      "name": "python3",
      "display_name": "Python 3"
    },
    "language_info": {
      "name": "python"
    }
  },
  "cells": [
    {
      "cell_type": "markdown",
      "metadata": {
        "id": "view-in-github",
        "colab_type": "text"
      },
      "source": [
        "<a href=\"https://colab.research.google.com/github/BrunaLarissa24/Programacao_20222/blob/main/AtividadeContextualizada_Aula3.ipynb\" target=\"_parent\"><img src=\"https://colab.research.google.com/assets/colab-badge.svg\" alt=\"Open In Colab\"/></a>"
      ]
    },
    {
      "cell_type": "markdown",
      "source": [
        "**Elabore um programa em python que atenda aos seguintes requisitos:**\n",
        "Obs: Não devem ser utilizadas estruturas de programação que não estejam na aula 3.\n",
        "\n",
        "\n",
        "\n",
        "*   Crie as variáveis necessárias para que o programa funcione corretamente.\n",
        "*   Inicialize as variáveis com valores padrão adequados.\n",
        "*   Crie uma pequena mensagem de apresentação do programa para realizar uma interface com o usuário. Ex.: “Esse programa tem como objetivo receber dados para ...”\n",
        "*   Solicite algumas informações necessárias para a configuração de um microscópio dessa natureza. Buscar pelo menos 10 itens para essas informações de entrada. Ex.: resolução da imagem desejada, tipo de célula a ser escaneada, faixa de iluminação necessária. \n",
        "*   Para cada informação digitada, apresente na tela a seguinte mensagem: “Houve alteração na variável inserida? ”. Após a mensagem, apresentar verdadeiro ou falso com base no que foi digitado pelo usuário e o que estava armazenado na variável. Obs.: Não deve ser utilizado if aqui.\n",
        "*   Retorne ao usuário de forma organizada as informações que foram digitadas. Ex.: “As informações de configurações setadas pelo usuário são: ...”\n",
        "*   Após setada as configurações iniciais o usuário deve utilizar dois caracteres para a calibração do equipamento no sentido horizontal. Para isso, ele deve apertar a tecla correspondente à primeira letra do seu nome 10x e à última letra do seu nome 10x.\n",
        "*   Imediatamente após apertar a tecla o programa deve apresentar na tela que a informação foi corretamente digitada e mostrar o caractere pressionado.\n",
        "*   Na sequência o usuário deve utilizar dois caracteres para a calibração do equipamento no sentido vertical. Para isso, ele deve apertar a tecla correspondente à segunda letra do seu nome 10x e à penúltima letra do seu nome 10x.\n",
        "*   Imediatamente após apertar a tecla o programa deve apresentar na tela que a informação foi corretamente digitada e mostrar o caractere pressionado.\n",
        "*   Finalmente, o programa deverá apresentar na tela que houve o término da calibração do sistema.\n",
        "*   Para verificar que o programa está funcionando corretamente, execute-o colocando um breakpoint na linha 15. Tire um print da tela mostrando a linha parada e as informações armazenadas nas variáveis até então.\n"
      ],
      "metadata": {
        "id": "I12-81ZTkwAG"
      }
    },
    {
      "cell_type": "code",
      "source": [
        "print('Olá! Esse programa recebe os dados para a configuração do microscopio')"
      ],
      "metadata": {
        "colab": {
          "base_uri": "https://localhost:8080/"
        },
        "id": "tRAmX6qymnte",
        "outputId": "40ded1cf-90b1-4126-dc94-5a42851fa051"
      },
      "execution_count": null,
      "outputs": [
        {
          "output_type": "stream",
          "name": "stdout",
          "text": [
            "Olá! Esse programa recebe os dados para a configuração do microscopio\n"
          ]
        }
      ]
    },
    {
      "cell_type": "code",
      "source": [
        "# Variáveis\n",
        "\n",
        "tipoCelular1 = \"neuronio\"\n",
        "resolucaoImagem1 = \"600\" \n",
        "intensidade1 = \"alta\"\n",
        "tipoLente1 = \"objetiva\"\n",
        "laser1 = \"730\"\n",
        "modoEscaneamento1 = \"lambda\"\n",
        "filtro1 = \"optico\"\n",
        "contraste1 = \"s\" \n",
        "marca1 = \"Thorlabs\"\n",
        "modelo1 = \"zeiss\"\n"
      ],
      "metadata": {
        "id": "0xHn6YrPpdW8"
      },
      "execution_count": null,
      "outputs": []
    },
    {
      "cell_type": "code",
      "source": [
        "# Solicite algumas informações necessárias para a configuração de um microscópio dessa natureza. \n",
        "\n",
        "tipoCelular2 = input('Qual o tipo de célula a ser escaneada? ')\n",
        "mudanca1 = input('Houve mudança na variavel inserida?(v/f): ')\n",
        "print((mudanca1=='v' and tipoCelular1 != tipoCelular2) or (mudanca1=='f' and tipoCelular1 == tipoCelular2))\n",
        "\n",
        "resolucaoImagem2 = input('Qual a resolução da imagem?')\n",
        "mudanca1 = input('Houve mudança na variavel inserida?(v/f): ')\n",
        "print((mudanca1=='v' and resolucaoImagem1 != resolucaoImagem2) or (mudanca1=='f' and resolucaoImagem1 == resolucaoImagem2))\n",
        "\n",
        "intensidade2 = input('Qual a intensidade?')\n",
        "mudanca1 = input('Houve mudança na variavel inserida?(v/f): ')\n",
        "print((mudanca1=='v' and intensidade1 != intensidade2) or (mudanca1=='f' and intensidade1 == intensidade2))\n",
        "\n",
        "tipoLente2 = input('Qual o tipo de lente?')\n",
        "mudanca1 = input('Houve mudança na variavel inserida?(v/f): ')\n",
        "print((mudanca1=='v' and tipoLente1 != tipoLente2) or (mudanca1=='f' and tipoLente1 == tipoLente2))\n",
        "\n",
        "laser2 = input('Qual a varredura a laser?')\n",
        "mudanca1 = input('Houve mudança na variavel inserida?(v/f): ')\n",
        "print((mudanca1=='v' and laser1 != laser2) or (mudanca1=='f' and laser1 == laser2))\n",
        "\n",
        "modoEscaneamento2 = input('Qual o modo de escaneamento?')\n",
        "mudanca1 = input('Houve mudança na variavel inserida?(v/f): ')\n",
        "print((mudanca1=='v' and modoEscaneamento1 != modoEscaneamento2) or (mudanca1=='f' and modoEscaneamento1 == modoEscaneamento2))\n",
        "\n",
        "filtro2 = input('Qual o tipo de filtro?')\n",
        "mudanca1 = input('Houve mudança na variavel inserida?(v/f): ')\n",
        "print((mudanca1=='v' and filtro1 != filtro2) or (mudanca1=='f' and filtro1 == filtro2))\n",
        "\n",
        "contraste2 = input('Qual a resolução da imagem?')\n",
        "mudanca1 = input('Houve mudança na variavel inserida?(v/f): ')\n",
        "print((mudanca1 =='v' and contraste1 != contraste2) or (mudanca1=='f' and contraste1 == contraste2))\n",
        "\n",
        "marca2 = input('Qual a marca?')\n",
        "mudanca1 = input('Houve mudança na variavel inserida?(v/f): ')\n",
        "print((mudanca1 == 'v' and marca1 != marca2) or (mudanca1=='f' and marca1 == marca2))\n",
        "\n",
        "modelo2 = input('Qual o modelo?')\n",
        "mudanca1 = input('Houve mudança na variavel inserida?(v/f): ')\n",
        "print((mudanca1=='v' and modelo1 != modelo2) or (mudanca1=='f' and modelo1 == modelo2))"
      ],
      "metadata": {
        "colab": {
          "base_uri": "https://localhost:8080/"
        },
        "id": "J9lIZtKFnLZE",
        "outputId": "8a18c02c-7f0a-470a-be36-032c8272ad73"
      },
      "execution_count": null,
      "outputs": [
        {
          "output_type": "stream",
          "name": "stdout",
          "text": [
            "Qual o tipo de célula a ser escaneada? neuronio\n",
            "Houve mudança na variavel inserida?(v/f): f\n",
            "True\n",
            "Qual a resolução da imagem?600\n",
            "Houve mudança na variavel inserida?(v/f): f\n",
            "False\n",
            "Qual a intensidade?alta\n",
            "Houve mudança na variavel inserida?(v/f): f\n",
            "True\n",
            "Qual o tipo de lente?objetiva\n",
            "Houve mudança na variavel inserida?(v/f): f\n",
            "True\n",
            "Qual a varredura a laser?730\n",
            "Houve mudança na variavel inserida?(v/f): f\n",
            "True\n",
            "Qual o modo de escaneamento?lambda\n",
            "Houve mudança na variavel inserida?(v/f): f\n",
            "True\n",
            "Qual o tipo de filtro?optico\n",
            "Houve mudança na variavel inserida?(v/f): f\n",
            "True\n",
            "Qual a resolução da imagem?s\n",
            "Houve mudança na variavel inserida?(v/f): f\n",
            "True\n",
            "Qual a marca?Thorlabs\n",
            "Houve mudança na variavel inserida?(v/f): f\n",
            "False\n",
            "Qual o modelo?zeiss\n",
            "Houve mudança na variavel inserida?(v/f): f\n",
            "True\n"
          ]
        }
      ]
    },
    {
      "cell_type": "code",
      "source": [
        "# Retorne ao usuário de forma organizada as informações que foram digitadas. \n",
        "\n",
        "print('As informações de configurações setadas pelo usuário são:')\n",
        "print(tipoCelular2)\n",
        "print(resolucaoImagem2)\n",
        "print(intensidade2)\n",
        "print(tipoLente2)\n",
        "print(laser2)\n",
        "print(modoEscaneamento2)\n",
        "print(filtro2)\n",
        "print(contraste2)\n",
        "print(marca2)\n",
        "print(modelo2)"
      ],
      "metadata": {
        "colab": {
          "base_uri": "https://localhost:8080/"
        },
        "id": "xF-3cZxSoz8S",
        "outputId": "a1231112-6055-44ba-9943-90d758ec2cc2"
      },
      "execution_count": null,
      "outputs": [
        {
          "output_type": "stream",
          "name": "stdout",
          "text": [
            "As informações de configurações setadas pelo usuário são:\n",
            "neuronio\n",
            "600\n",
            "alta\n",
            "objetiva\n",
            "730\n",
            "lambda\n",
            "optico\n",
            "s\n",
            "Thorlabs\n",
            "zeiss\n"
          ]
        }
      ]
    },
    {
      "cell_type": "code",
      "source": [
        "# Calibração do equipamento no sentido horizontal\n",
        "\n",
        "listax = input('Digite 10x a tecla correspondente à segunda letra do seu nome: ')\n",
        "listay = input('Digite 10x a tecla correspondente à penúltima letra do seu nome: ')\n",
        "print('A informação foi digitada corretamente')\n",
        "print(listax[0],listay[0])"
      ],
      "metadata": {
        "colab": {
          "base_uri": "https://localhost:8080/"
        },
        "id": "Aro_Pu8j39qd",
        "outputId": "eb613165-dae8-4be2-cd6f-8fc37672adfa"
      },
      "execution_count": null,
      "outputs": [
        {
          "output_type": "stream",
          "name": "stdout",
          "text": [
            "Digite 10x a tecla correspondente à segunda letra do seu nome: aaaaaaaaaa\n",
            "Digite 10x a tecla correspondente à penúltima letra do seu nome: ssssssssss\n",
            "A informação foi digitada corretamente\n",
            "a s\n"
          ]
        }
      ]
    },
    {
      "cell_type": "code",
      "source": [
        "print('Término da calibração do sistema')"
      ],
      "metadata": {
        "colab": {
          "base_uri": "https://localhost:8080/"
        },
        "id": "aqJlt0PjB-en",
        "outputId": "7b79d3f3-88e1-4242-ea0b-c468bf09808d"
      },
      "execution_count": null,
      "outputs": [
        {
          "output_type": "stream",
          "name": "stdout",
          "text": [
            "Término da calibração do sistema\n"
          ]
        }
      ]
    }
  ]
}