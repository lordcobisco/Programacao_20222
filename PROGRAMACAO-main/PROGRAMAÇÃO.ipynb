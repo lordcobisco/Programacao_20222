{
  "nbformat": 4,
  "nbformat_minor": 0,
  "metadata": {
    "colab": {
      "provenance": [],
      "include_colab_link": true
    },
    "kernelspec": {
      "name": "python3",
      "display_name": "Python 3"
    },
    "language_info": {
      "name": "python"
    }
  },
  "cells": [
    {
      "cell_type": "markdown",
      "metadata": {
        "id": "view-in-github",
        "colab_type": "text"
      },
      "source": [
        "<a href=\"https://colab.research.google.com/github/catherinemesquita/PROGRAMACAO/blob/main/PROGRAMA%C3%87%C3%83O.ipynb\" target=\"_parent\"><img src=\"https://colab.research.google.com/assets/colab-badge.svg\" alt=\"Open In Colab\"/></a>"
      ]
    },
    {
      "cell_type": "markdown",
      "source": [
        "# Introdução"
      ],
      "metadata": {
        "id": "bfVYzVO788ET"
      }
    },
    {
      "cell_type": "markdown",
      "source": [
        "<p align='center'><img src='https://www.fireblazeaischool.in/blogs/wp-content/uploads/2020/06/Python-Libraries-1024x683.png'/></p>"
      ],
      "metadata": {
        "id": "BTZer8CWHvXt"
      }
    },
    {
      "cell_type": "markdown",
      "source": [
        "Agora que já sabemos o básico da sintaxe de python, e principalmente sobre funções, talvez você tenha se perguntado: não seria interessante se eu fizesse meu próprio conjunto de funções e pudesse usar elas em outros códigos?\n",
        "\n",
        "Pois é justamente isso que são os pacotes em python (Ou 'bibliotecas')\n",
        "\n",
        "Para saber mais: https://learnpython.com/blog/python-modules-packages-libraries-frameworks/#:~:text=Python%20Libraries&text=Actually%2C%20this%20term%20is%20often,is%20a%20collection%20of%20packages.\n",
        "\n",
        "Os pacotes são conjuntos de classes e funções que são rapidamente importados no código atual, através do comando *import*\n",
        "\n"
      ],
      "metadata": {
        "id": "hr2k2pUkCZaD"
      }
    },
    {
      "cell_type": "code",
      "source": [
        "import math # importando o pacote math, que contem classes e operações matemáticas\n",
        "\n",
        "print(math.pi) # mostrando o valor de pi\n",
        "\n",
        "print(math.sqrt(3)) # mostrando a raíz quadrada de 3"
      ],
      "metadata": {
        "colab": {
          "base_uri": "https://localhost:8080/"
        },
        "id": "MZQzeV3cG3no",
        "outputId": "da21d277-50fe-487c-a8ee-deaf40bc682a"
      },
      "execution_count": null,
      "outputs": [
        {
          "output_type": "stream",
          "name": "stdout",
          "text": [
            "3.141592653589793\n",
            "1.7320508075688772\n"
          ]
        }
      ]
    },
    {
      "cell_type": "markdown",
      "source": [
        "## Discuta\n",
        "Acima usamos o `print()` para mostrar o valor de pi, ou seja, um valor que já existe pré-definido no pacote *math*, e também usamos a função `sqrt()` sobre o valor de 3.\n",
        "\n",
        "Em ambos os casos, a sintaxe é semelhante: 'math.alguma_coisa'\n",
        "\n",
        "Qual a diferença entre `math.pi` e `math.sqrt()`?"
      ],
      "metadata": {
        "id": "zRSWhHxr8kfw"
      }
    },
    {
      "cell_type": "markdown",
      "source": [
        "\n",
        "\n",
        "---\n",
        "\n"
      ],
      "metadata": {
        "id": "lyl_S66Q8_T-"
      }
    },
    {
      "cell_type": "markdown",
      "source": [
        "O python possui uma infinidade de pacotes, cada um centrado em funcionalidades específicas, por exemplo desenho de interface gráfica (pyqt5), processamento de linguagem natural (nltk) ou processamento de sinais neurais (mne). Eles nada mais são do que classes e funções que algumas pessoas escreveram, testaram e deixaram acessíveis para que outras pessoas possam usá-las.\n",
        "\n",
        "Em geral, quando se fala em diferenças de linguagens, mais do que a sintaxe, são os pacotes disponíveis que tornam cada linguagem única."
      ],
      "metadata": {
        "id": "pIiUJ5qtIDaq"
      }
    },
    {
      "cell_type": "markdown",
      "source": [
        "Para Machine Learning, alguns pacotes python são interessantes de serem aprendidos. Vamos mostrar os seguintes hoje:\n",
        "\n",
        "- Numpy\n",
        "- Matplotlib\n",
        "- Pandas"
      ],
      "metadata": {
        "id": "OHtZ0CF1CZPY"
      }
    },
    {
      "cell_type": "markdown",
      "source": [
        "## Exercício 1: Importando pacotes\n",
        "Tente importar abaixo as bibliotecas que citamos"
      ],
      "metadata": {
        "id": "vTDwC2PR6-cU"
      }
    },
    {
      "cell_type": "code",
      "source": [],
      "metadata": {
        "id": "KZfx8UqasRox"
      },
      "execution_count": null,
      "outputs": []
    },
    {
      "cell_type": "markdown",
      "source": [
        "# pip"
      ],
      "metadata": {
        "id": "Ox9dNAJMAKzG"
      }
    },
    {
      "cell_type": "markdown",
      "source": [
        "Nem todos os pacotes estão disponíveis pelo Google Colaboratory (este ambiente que você está usando). Rode o comando abaixo para ver a lista completa"
      ],
      "metadata": {
        "id": "n-AMOdv87r0H"
      }
    },
    {
      "cell_type": "code",
      "source": [
        "!pip freeze # Usando o comando freeze do gerenciador de pacotes pip"
      ],
      "metadata": {
        "colab": {
          "base_uri": "https://localhost:8080/"
        },
        "id": "SRqenXaA7rSi",
        "outputId": "0de6b60a-41ee-49f0-ee3f-4f799ee19a44"
      },
      "execution_count": null,
      "outputs": [
        {
          "output_type": "stream",
          "name": "stdout",
          "text": [
            "absl-py==1.2.0\n",
            "aiohttp==3.8.1\n",
            "aiosignal==1.2.0\n",
            "alabaster==0.7.12\n",
            "albumentations==1.2.1\n",
            "altair==4.2.0\n",
            "appdirs==1.4.4\n",
            "arviz==0.12.1\n",
            "astor==0.8.1\n",
            "astropy==4.3.1\n",
            "astunparse==1.6.3\n",
            "async-timeout==4.0.2\n",
            "asynctest==0.13.0\n",
            "atari-py==0.2.9\n",
            "atomicwrites==1.4.1\n",
            "attrs==22.1.0\n",
            "audioread==2.1.9\n",
            "autograd==1.4\n",
            "Babel==2.10.3\n",
            "backcall==0.2.0\n",
            "beautifulsoup4==4.6.3\n",
            "bleach==5.0.1\n",
            "blis==0.7.8\n",
            "bokeh==2.3.3\n",
            "branca==0.5.0\n",
            "bs4==0.0.1\n",
            "CacheControl==0.12.11\n",
            "cached-property==1.5.2\n",
            "cachetools==4.2.4\n",
            "catalogue==2.0.8\n",
            "certifi==2022.6.15\n",
            "cffi==1.15.1\n",
            "cftime==1.6.1\n",
            "chardet==3.0.4\n",
            "charset-normalizer==2.1.0\n",
            "click==7.1.2\n",
            "clikit==0.6.2\n",
            "cloudpickle==1.3.0\n",
            "cmake==3.22.6\n",
            "cmdstanpy==1.0.4\n",
            "colorcet==3.0.0\n",
            "colorlover==0.3.0\n",
            "community==1.0.0b1\n",
            "contextlib2==0.5.5\n",
            "convertdate==2.4.0\n",
            "crashtest==0.3.1\n",
            "crcmod==1.7\n",
            "cufflinks==0.17.3\n",
            "cvxopt==1.3.0\n",
            "cvxpy==1.2.1\n",
            "cycler==0.11.0\n",
            "cymem==2.0.6\n",
            "Cython==0.29.32\n",
            "daft==0.0.4\n",
            "dask==2.12.0\n",
            "datascience==0.17.5\n",
            "debugpy==1.0.0\n",
            "decorator==4.4.2\n",
            "defusedxml==0.7.1\n",
            "deprecat==2.1.1\n",
            "descartes==1.1.0\n",
            "dill==0.3.5.1\n",
            "distributed==1.25.3\n",
            "dlib==19.24.0\n",
            "dm-tree==0.1.7\n",
            "docutils==0.17.1\n",
            "dopamine-rl==1.0.5\n",
            "earthengine-api==0.1.318\n",
            "easydict==1.9\n",
            "ecos==2.0.10\n",
            "editdistance==0.5.3\n",
            "en-core-web-sm @ https://github.com/explosion/spacy-models/releases/download/en_core_web_sm-3.4.0/en_core_web_sm-3.4.0-py3-none-any.whl\n",
            "entrypoints==0.4\n",
            "ephem==4.1.3\n",
            "et-xmlfile==1.1.0\n",
            "etils==0.7.1\n",
            "fa2==0.3.5\n",
            "fastai==2.7.9\n",
            "fastcore==1.5.16\n",
            "fastdownload==0.0.7\n",
            "fastdtw==0.3.4\n",
            "fastjsonschema==2.16.1\n",
            "fastprogress==1.0.3\n",
            "fastrlock==0.8\n",
            "feather-format==0.4.1\n",
            "filelock==3.8.0\n",
            "firebase-admin==4.4.0\n",
            "fix-yahoo-finance==0.0.22\n",
            "Flask==1.1.4\n",
            "flatbuffers==2.0\n",
            "folium==0.12.1.post1\n",
            "frozenlist==1.3.1\n",
            "future==0.16.0\n",
            "gast==0.5.3\n",
            "GDAL==2.2.2\n",
            "gdown==4.4.0\n",
            "gensim==3.6.0\n",
            "geographiclib==1.52\n",
            "geopy==1.17.0\n",
            "gin-config==0.5.0\n",
            "glob2==0.7\n",
            "google==2.0.3\n",
            "google-api-core==1.31.6\n",
            "google-api-python-client==1.12.11\n",
            "google-auth==1.35.0\n",
            "google-auth-httplib2==0.0.4\n",
            "google-auth-oauthlib==0.4.6\n",
            "google-cloud-bigquery==1.21.0\n",
            "google-cloud-bigquery-storage==1.1.2\n",
            "google-cloud-core==1.0.3\n",
            "google-cloud-datastore==1.8.0\n",
            "google-cloud-firestore==1.7.0\n",
            "google-cloud-language==1.2.0\n",
            "google-cloud-storage==1.18.1\n",
            "google-cloud-translate==1.5.0\n",
            "google-colab @ file:///colabtools/dist/google-colab-1.0.0.tar.gz\n",
            "google-pasta==0.2.0\n",
            "google-resumable-media==0.4.1\n",
            "googleapis-common-protos==1.56.4\n",
            "googledrivedownloader==0.4\n",
            "graphviz==0.10.1\n",
            "greenlet==1.1.2\n",
            "grpcio==1.47.0\n",
            "gspread==3.4.2\n",
            "gspread-dataframe==3.0.8\n",
            "gym==0.17.3\n",
            "h5py==3.1.0\n",
            "HeapDict==1.0.1\n",
            "hijri-converter==2.2.4\n",
            "holidays==0.14.2\n",
            "holoviews==1.14.9\n",
            "html5lib==1.0.1\n",
            "httpimport==0.5.18\n",
            "httplib2==0.17.4\n",
            "httplib2shim==0.0.3\n",
            "httpstan==4.6.1\n",
            "humanize==0.5.1\n",
            "hyperopt==0.1.2\n",
            "idna==2.10\n",
            "imageio==2.9.0\n",
            "imagesize==1.4.1\n",
            "imbalanced-learn==0.8.1\n",
            "imblearn==0.0\n",
            "imgaug==0.4.0\n",
            "importlib-metadata==4.12.0\n",
            "importlib-resources==5.9.0\n",
            "imutils==0.5.4\n",
            "inflect==2.1.0\n",
            "intel-openmp==2022.1.0\n",
            "intervaltree==2.1.0\n",
            "ipykernel==5.3.4\n",
            "ipython==7.9.0\n",
            "ipython-genutils==0.2.0\n",
            "ipython-sql==0.3.9\n",
            "ipywidgets==7.7.1\n",
            "itsdangerous==1.1.0\n",
            "jax==0.3.14\n",
            "jaxlib @ https://storage.googleapis.com/jax-releases/cuda11/jaxlib-0.3.14+cuda11.cudnn805-cp37-none-manylinux2014_x86_64.whl\n",
            "jieba==0.42.1\n",
            "Jinja2==2.11.3\n",
            "joblib==1.1.0\n",
            "jpeg4py==0.1.4\n",
            "jsonschema==4.3.3\n",
            "jupyter-client==6.1.12\n",
            "jupyter-console==6.1.0\n",
            "jupyter-core==4.11.1\n",
            "jupyterlab-widgets==1.1.1\n",
            "kaggle==1.5.12\n",
            "kapre==0.3.7\n",
            "keras==2.8.0\n",
            "Keras-Preprocessing==1.1.2\n",
            "keras-vis==0.4.1\n",
            "kiwisolver==1.4.4\n",
            "korean-lunar-calendar==0.2.1\n",
            "langcodes==3.3.0\n",
            "libclang==14.0.6\n",
            "librosa==0.8.1\n",
            "lightgbm==2.2.3\n",
            "llvmlite==0.39.0\n",
            "lmdb==0.99\n",
            "LunarCalendar==0.0.9\n",
            "lxml==4.9.1\n",
            "Markdown==3.4.1\n",
            "MarkupSafe==2.0.1\n",
            "marshmallow==3.17.0\n",
            "matplotlib==3.2.2\n",
            "matplotlib-venn==0.11.7\n",
            "missingno==0.5.1\n",
            "mistune==0.8.4\n",
            "mizani==0.6.0\n",
            "mkl==2019.0\n",
            "mlxtend==0.14.0\n",
            "more-itertools==8.14.0\n",
            "moviepy==0.2.3.5\n",
            "mpmath==1.2.1\n",
            "msgpack==1.0.4\n",
            "multidict==6.0.2\n",
            "multitasking==0.0.11\n",
            "murmurhash==1.0.7\n",
            "music21==5.5.0\n",
            "natsort==5.5.0\n",
            "nbconvert==5.6.1\n",
            "nbformat==5.4.0\n",
            "netCDF4==1.6.0\n",
            "networkx==2.6.3\n",
            "nibabel==3.0.2\n",
            "nltk==3.7\n",
            "notebook==5.3.1\n",
            "numba==0.56.0\n",
            "numexpr==2.8.3\n",
            "numpy==1.21.6\n",
            "oauth2client==4.1.3\n",
            "oauthlib==3.2.0\n",
            "okgrade==0.4.3\n",
            "opencv-contrib-python==4.6.0.66\n",
            "opencv-python==4.6.0.66\n",
            "opencv-python-headless==4.6.0.66\n",
            "openpyxl==3.0.10\n",
            "opt-einsum==3.3.0\n",
            "osqp==0.6.2.post0\n",
            "packaging==21.3\n",
            "palettable==3.3.0\n",
            "pandas==1.3.5\n",
            "pandas-datareader==0.9.0\n",
            "pandas-gbq==0.13.3\n",
            "pandas-profiling==1.4.1\n",
            "pandocfilters==1.5.0\n",
            "panel==0.12.1\n",
            "param==1.12.2\n",
            "parso==0.8.3\n",
            "pastel==0.2.1\n",
            "pathlib==1.0.1\n",
            "pathy==0.6.2\n",
            "patsy==0.5.2\n",
            "pep517==0.13.0\n",
            "pexpect==4.8.0\n",
            "pickleshare==0.7.5\n",
            "Pillow==7.1.2\n",
            "pip-tools==6.2.0\n",
            "plotly==5.5.0\n",
            "plotnine==0.6.0\n",
            "pluggy==0.7.1\n",
            "pooch==1.6.0\n",
            "portpicker==1.3.9\n",
            "prefetch-generator==1.0.1\n",
            "preshed==3.0.6\n",
            "prettytable==3.3.0\n",
            "progressbar2==3.38.0\n",
            "promise==2.3\n",
            "prompt-toolkit==2.0.10\n",
            "prophet==1.1\n",
            "protobuf==3.17.3\n",
            "psutil==5.4.8\n",
            "psycopg2==2.9.3\n",
            "ptyprocess==0.7.0\n",
            "py==1.11.0\n",
            "pyarrow==6.0.1\n",
            "pyasn1==0.4.8\n",
            "pyasn1-modules==0.2.8\n",
            "pycocotools==2.0.4\n",
            "pycparser==2.21\n",
            "pyct==0.4.8\n",
            "pydantic==1.9.1\n",
            "pydata-google-auth==1.4.0\n",
            "pydot==1.3.0\n",
            "pydot-ng==2.0.0\n",
            "pydotplus==2.0.2\n",
            "PyDrive==1.3.1\n",
            "pyemd==0.5.1\n",
            "pyerfa==2.0.0.1\n",
            "pyglet==1.5.0\n",
            "Pygments==2.6.1\n",
            "pygobject==3.26.1\n",
            "pylev==1.4.0\n",
            "pymc3==3.11.5\n",
            "PyMeeus==0.5.11\n",
            "pymongo==4.2.0\n",
            "pymystem3==0.2.0\n",
            "PyOpenGL==3.1.6\n",
            "pyparsing==3.0.9\n",
            "pyrsistent==0.18.1\n",
            "pysimdjson==3.2.0\n",
            "pysndfile==1.3.8\n",
            "PySocks==1.7.1\n",
            "pystan==3.3.0\n",
            "pytest==3.6.4\n",
            "python-apt==0.0.0\n",
            "python-chess==0.23.11\n",
            "python-dateutil==2.8.2\n",
            "python-louvain==0.16\n",
            "python-slugify==6.1.2\n",
            "python-utils==3.3.3\n",
            "pytz==2022.1\n",
            "pyviz-comms==2.2.0\n",
            "PyWavelets==1.3.0\n",
            "PyYAML==3.13\n",
            "pyzmq==23.2.0\n",
            "qdldl==0.1.5.post2\n",
            "qudida==0.0.4\n",
            "regex==2022.6.2\n",
            "requests==2.23.0\n",
            "requests-oauthlib==1.3.1\n",
            "resampy==0.4.0\n",
            "rpy2==3.4.5\n",
            "rsa==4.9\n",
            "scikit-image==0.18.3\n",
            "scikit-learn==1.0.2\n",
            "scipy==1.7.3\n",
            "screen-resolution-extra==0.0.0\n",
            "scs==3.2.0\n",
            "seaborn==0.11.2\n",
            "semver==2.13.0\n",
            "Send2Trash==1.8.0\n",
            "setuptools-git==1.2\n",
            "Shapely==1.8.2\n",
            "six==1.15.0\n",
            "sklearn==0.0\n",
            "sklearn-pandas==1.8.0\n",
            "smart-open==5.2.1\n",
            "snowballstemmer==2.2.0\n",
            "sortedcontainers==2.4.0\n",
            "SoundFile==0.10.3.post1\n",
            "spacy==3.4.1\n",
            "spacy-legacy==3.0.9\n",
            "spacy-loggers==1.0.3\n",
            "Sphinx==1.8.6\n",
            "sphinxcontrib-serializinghtml==1.1.5\n",
            "sphinxcontrib-websupport==1.2.4\n",
            "SQLAlchemy==1.4.40\n",
            "sqlparse==0.4.2\n",
            "srsly==2.4.4\n",
            "statsmodels==0.10.2\n",
            "sympy==1.7.1\n",
            "tables==3.7.0\n",
            "tabulate==0.8.10\n",
            "tblib==1.7.0\n",
            "tenacity==8.0.1\n",
            "tensorboard==2.8.0\n",
            "tensorboard-data-server==0.6.1\n",
            "tensorboard-plugin-wit==1.8.1\n",
            "tensorflow==2.8.2+zzzcolab20220719082949\n",
            "tensorflow-datasets==4.6.0\n",
            "tensorflow-estimator==2.8.0\n",
            "tensorflow-gcs-config==2.8.0\n",
            "tensorflow-hub==0.12.0\n",
            "tensorflow-io-gcs-filesystem==0.26.0\n",
            "tensorflow-metadata==1.9.0\n",
            "tensorflow-probability==0.16.0\n",
            "termcolor==1.1.0\n",
            "terminado==0.13.3\n",
            "testpath==0.6.0\n",
            "text-unidecode==1.3\n",
            "textblob==0.15.3\n",
            "Theano-PyMC==1.1.2\n",
            "thinc==8.1.0\n",
            "threadpoolctl==3.1.0\n",
            "tifffile==2021.11.2\n",
            "toml==0.10.2\n",
            "tomli==2.0.1\n",
            "toolz==0.12.0\n",
            "torch @ https://download.pytorch.org/whl/cu113/torch-1.12.1%2Bcu113-cp37-cp37m-linux_x86_64.whl\n",
            "torchaudio @ https://download.pytorch.org/whl/cu113/torchaudio-0.12.1%2Bcu113-cp37-cp37m-linux_x86_64.whl\n",
            "torchsummary==1.5.1\n",
            "torchtext==0.13.1\n",
            "torchvision @ https://download.pytorch.org/whl/cu113/torchvision-0.13.1%2Bcu113-cp37-cp37m-linux_x86_64.whl\n",
            "tornado==5.1.1\n",
            "tqdm==4.64.0\n",
            "traitlets==5.1.1\n",
            "tweepy==3.10.0\n",
            "typeguard==2.7.1\n",
            "typer==0.4.2\n",
            "typing-extensions==4.1.1\n",
            "tzlocal==1.5.1\n",
            "ujson==5.4.0\n",
            "uritemplate==3.0.1\n",
            "urllib3==1.24.3\n",
            "vega-datasets==0.9.0\n",
            "wasabi==0.10.1\n",
            "wcwidth==0.2.5\n",
            "webargs==8.2.0\n",
            "webencodings==0.5.1\n",
            "Werkzeug==1.0.1\n",
            "widgetsnbextension==3.6.1\n",
            "wordcloud==1.8.2.2\n",
            "wrapt==1.14.1\n",
            "xarray==0.20.2\n",
            "xarray-einstats==0.2.2\n",
            "xgboost==0.90\n",
            "xkit==0.0.0\n",
            "xlrd==1.1.0\n",
            "xlwt==1.3.0\n",
            "yarl==1.8.1\n",
            "yellowbrick==1.4\n",
            "zict==2.2.0\n",
            "zipp==3.8.1\n"
          ]
        }
      ]
    },
    {
      "cell_type": "markdown",
      "source": [
        "O pip é uma ferramenta python de gerenciamento de pacotes (detalhes podem ser vistos em: https://packaging.python.org/en/latest/overview/) e é através dele que instalamos novos pacotes. Vamos fazer isso com o pacote *mne*"
      ],
      "metadata": {
        "id": "nta6aw0Y_P4n"
      }
    },
    {
      "cell_type": "code",
      "source": [
        "import mne"
      ],
      "metadata": {
        "colab": {
          "base_uri": "https://localhost:8080/",
          "height": 316
        },
        "id": "HuY7HQ6_8AMf",
        "outputId": "6a0433f7-fc27-4712-80ec-a811b5b794cb"
      },
      "execution_count": null,
      "outputs": [
        {
          "output_type": "error",
          "ename": "ModuleNotFoundError",
          "evalue": "ignored",
          "traceback": [
            "\u001b[0;31m---------------------------------------------------------------------------\u001b[0m",
            "\u001b[0;31mModuleNotFoundError\u001b[0m                       Traceback (most recent call last)",
            "\u001b[0;32m<ipython-input-3-d70f97b8aea9>\u001b[0m in \u001b[0;36m<module>\u001b[0;34m\u001b[0m\n\u001b[0;32m----> 1\u001b[0;31m \u001b[0;32mimport\u001b[0m \u001b[0mmne\u001b[0m\u001b[0;34m\u001b[0m\u001b[0;34m\u001b[0m\u001b[0m\n\u001b[0m",
            "\u001b[0;31mModuleNotFoundError\u001b[0m: No module named 'mne'",
            "",
            "\u001b[0;31m---------------------------------------------------------------------------\u001b[0;32m\nNOTE: If your import is failing due to a missing package, you can\nmanually install dependencies using either !pip or !apt.\n\nTo view examples of installing some common dependencies, click the\n\"Open Examples\" button below.\n\u001b[0;31m---------------------------------------------------------------------------\u001b[0m\n"
          ],
          "errorDetails": {
            "actions": [
              {
                "action": "open_url",
                "actionText": "Open Examples",
                "url": "/notebooks/snippets/importing_libraries.ipynb"
              }
            ]
          }
        }
      ]
    },
    {
      "cell_type": "markdown",
      "source": [
        "Tentar importar um pacote sem que ele esteja intalado causa um erro. Sempre leia os erros com atenção! Eles podem conter a resposta pro seu problema.\n",
        "\n",
        "Nesse caso, o problema é que o pacote não existe, ele precisa ser instalado. Para isso, usamos o `!pip install`"
      ],
      "metadata": {
        "id": "4bJmwqQSN9GV"
      }
    },
    {
      "cell_type": "code",
      "source": [
        "!pip install mne"
      ],
      "metadata": {
        "colab": {
          "base_uri": "https://localhost:8080/"
        },
        "id": "vYfXz6A1_9FG",
        "outputId": "e0e78010-3e90-4794-a688-eac981a98b53"
      },
      "execution_count": null,
      "outputs": [
        {
          "output_type": "stream",
          "name": "stdout",
          "text": [
            "Looking in indexes: https://pypi.org/simple, https://us-python.pkg.dev/colab-wheels/public/simple/\n",
            "Requirement already satisfied: mne in /usr/local/lib/python3.7/dist-packages (1.1.0)\n",
            "Requirement already satisfied: numpy>=1.15.4 in /usr/local/lib/python3.7/dist-packages (from mne) (1.21.6)\n",
            "Requirement already satisfied: matplotlib in /usr/local/lib/python3.7/dist-packages (from mne) (3.2.2)\n",
            "Requirement already satisfied: decorator in /usr/local/lib/python3.7/dist-packages (from mne) (4.4.2)\n",
            "Requirement already satisfied: pooch>=1.5 in /usr/local/lib/python3.7/dist-packages (from mne) (1.6.0)\n",
            "Requirement already satisfied: jinja2 in /usr/local/lib/python3.7/dist-packages (from mne) (2.11.3)\n",
            "Requirement already satisfied: packaging in /usr/local/lib/python3.7/dist-packages (from mne) (21.3)\n",
            "Requirement already satisfied: tqdm in /usr/local/lib/python3.7/dist-packages (from mne) (4.64.0)\n",
            "Requirement already satisfied: scipy>=1.1.0 in /usr/local/lib/python3.7/dist-packages (from mne) (1.7.3)\n",
            "Requirement already satisfied: requests>=2.19.0 in /usr/local/lib/python3.7/dist-packages (from pooch>=1.5->mne) (2.23.0)\n",
            "Requirement already satisfied: appdirs>=1.3.0 in /usr/local/lib/python3.7/dist-packages (from pooch>=1.5->mne) (1.4.4)\n",
            "Requirement already satisfied: pyparsing!=3.0.5,>=2.0.2 in /usr/local/lib/python3.7/dist-packages (from packaging->mne) (3.0.9)\n",
            "Requirement already satisfied: chardet<4,>=3.0.2 in /usr/local/lib/python3.7/dist-packages (from requests>=2.19.0->pooch>=1.5->mne) (3.0.4)\n",
            "Requirement already satisfied: certifi>=2017.4.17 in /usr/local/lib/python3.7/dist-packages (from requests>=2.19.0->pooch>=1.5->mne) (2022.6.15)\n",
            "Requirement already satisfied: urllib3!=1.25.0,!=1.25.1,<1.26,>=1.21.1 in /usr/local/lib/python3.7/dist-packages (from requests>=2.19.0->pooch>=1.5->mne) (1.24.3)\n",
            "Requirement already satisfied: idna<3,>=2.5 in /usr/local/lib/python3.7/dist-packages (from requests>=2.19.0->pooch>=1.5->mne) (2.10)\n",
            "Requirement already satisfied: MarkupSafe>=0.23 in /usr/local/lib/python3.7/dist-packages (from jinja2->mne) (2.0.1)\n",
            "Requirement already satisfied: kiwisolver>=1.0.1 in /usr/local/lib/python3.7/dist-packages (from matplotlib->mne) (1.4.4)\n",
            "Requirement already satisfied: cycler>=0.10 in /usr/local/lib/python3.7/dist-packages (from matplotlib->mne) (0.11.0)\n",
            "Requirement already satisfied: python-dateutil>=2.1 in /usr/local/lib/python3.7/dist-packages (from matplotlib->mne) (2.8.2)\n",
            "Requirement already satisfied: typing-extensions in /usr/local/lib/python3.7/dist-packages (from kiwisolver>=1.0.1->matplotlib->mne) (4.1.1)\n",
            "Requirement already satisfied: six>=1.5 in /usr/local/lib/python3.7/dist-packages (from python-dateutil>=2.1->matplotlib->mne) (1.15.0)\n"
          ]
        }
      ]
    },
    {
      "cell_type": "code",
      "source": [
        "import mne"
      ],
      "metadata": {
        "id": "KYWCn9mA__E8"
      },
      "execution_count": null,
      "outputs": []
    },
    {
      "cell_type": "markdown",
      "source": [
        "Se não gerou erros, é porque a instalação foi concluída"
      ],
      "metadata": {
        "id": "xrPgVwXFON1c"
      }
    },
    {
      "cell_type": "code",
      "source": [
        "print(mne)"
      ],
      "metadata": {
        "colab": {
          "base_uri": "https://localhost:8080/"
        },
        "id": "rbPQWZ1m__-9",
        "outputId": "388959a1-3702-485d-9945-c6e48d00ace8"
      },
      "execution_count": null,
      "outputs": [
        {
          "output_type": "stream",
          "name": "stdout",
          "text": [
            "<module 'mne' from '/usr/local/lib/python3.7/dist-packages/mne/__init__.py'>\n"
          ]
        }
      ]
    }
  ]
}