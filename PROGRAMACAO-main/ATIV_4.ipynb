{
  "nbformat": 4,
  "nbformat_minor": 0,
  "metadata": {
    "colab": {
      "provenance": [],
      "authorship_tag": "ABX9TyMIXz0BUQHFjJSB6MFfTpH9",
      "include_colab_link": true
    },
    "kernelspec": {
      "name": "python3",
      "display_name": "Python 3"
    },
    "language_info": {
      "name": "python"
    }
  },
  "cells": [
    {
      "cell_type": "markdown",
      "metadata": {
        "id": "view-in-github",
        "colab_type": "text"
      },
      "source": [
        "<a href=\"https://colab.research.google.com/github/catherinemesquita/PROGRAMACAO/blob/main/ATIV_4.ipynb\" target=\"_parent\"><img src=\"https://colab.research.google.com/assets/colab-badge.svg\" alt=\"Open In Colab\"/></a>"
      ]
    },
    {
      "cell_type": "code",
      "execution_count": 35,
      "metadata": {
        "colab": {
          "base_uri": "https://localhost:8080/"
        },
        "id": "uohRLzlsFHA0",
        "outputId": "eb77c868-c616-4d7f-ee4e-c63e556c59ae"
      },
      "outputs": [
        {
          "output_type": "stream",
          "name": "stdout",
          "text": [
            "Digite E para barra esq, D para barra dir:E\n",
            "Digite 1 para som1 e 2 para som2:1\n",
            "0,5mL de Recompensa liberada\n",
            "Animal errou, sem recompensa\n",
            "experimento em andamento\n"
          ]
        }
      ],
      "source": [
        "\n",
        "ola= 'Treinamento para saguis'\n",
        "print(ola)\n",
        "\n",
        "comeco = input('O animal está habituado? Digite s ou n:')\n",
        "animalhab='Animal habituado'\n",
        "if comeco == 's':\n",
        "    print(animalhab)\n",
        "if comeco == 'n':\n",
        "    print('Faça a habituação do animal antes de começar.')\n",
        "if comeco != 's' and comeco != 'n':\n",
        "    print('Erro! digite s ou n.')\n",
        "\n",
        "\n",
        "inicio='Início regime de aproximações sucessivas'\n",
        "if comeco == 's':\n",
        "    print(inicio)\n",
        "    \n",
        "distInicial= 'Distância inicial em cm:'\n",
        "dist_30= 30\n",
        "int(dist_30)\n",
        "\n",
        "print(distInicial, dist_30)\n",
        "\n",
        "medirDist=int(input('Digite a distância que o animal se encontra:'))\n",
        "\n",
        "if medirDist == 30:\n",
        "    print('Animal parado') \n",
        "if medirDist < 30:\n",
        "    print('Animal se aproximou'), print('liberação de recompensa: 0,5mL glicose')\n",
        "if medirDist >30:\n",
        "    print('Animal se afastou')\n",
        "\n",
        "tocouBarra = input('Digite s toda vez que o animal tacar na barra: ')\n",
        "if tocouBarra == 's'*20: \n",
        "  print('Experimento passou para próxima etapa')\n",
        "\n",
        "else:\n",
        "    print('Etapa não concluída, o animal deve tocar a barra 20x')\n",
        "\n",
        "barraEsq='E'\n",
        "barraDir='D'\n",
        "\n",
        "som_1= '1'\n",
        "som_2= '2'\n",
        "cond=input('Digite E para barra esq, D para barra dir:')\n",
        "som=input('Digite 1 para som1 e 2 para som2:')\n",
        "if cond == 'E' and som == '1':\n",
        "  print('0,5mL de Recompensa liberada')\n",
        "if cond == 'D' and som == '2':\n",
        "   print('0,5mL de Recompensa liberada')\n",
        "else:\n",
        "   print('Animal errou, sem recompensa')\n",
        "\n",
        "tempo_sessao= '30min'\n",
        "if (cond =='E' and som == '1')*50 and (cond == 'D' and som == '2') *50 and tempo_sessao == '30min':\n",
        "  print('Experimento passou para próxima etapa')\n",
        "else: \n",
        "  print( 'experimento em andamento')\n",
        "\n",
        "\n",
        "\n",
        " \n",
        "\n"
      ]
    },
    {
      "cell_type": "code",
      "source": [],
      "metadata": {
        "id": "3W2U4ewwFIWP"
      },
      "execution_count": null,
      "outputs": []
    }
  ]
}